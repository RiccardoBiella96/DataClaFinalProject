{
 "cells": [
  {
   "cell_type": "markdown",
   "metadata": {},
   "source": [
    "# Final Project - Data Analysis and Classification\n",
    "#### Riccardo Biella"
   ]
  },
  {
   "cell_type": "markdown",
   "metadata": {},
   "source": [
    "Import of libraries"
   ]
  },
  {
   "cell_type": "code",
   "execution_count": 77,
   "metadata": {},
   "outputs": [],
   "source": [
    "import pandas as pd\n",
    "import numpy as np\n",
    "import seaborn as sns\n",
    "import matplotlib\n",
    "from scipy import stats\n",
    "from matplotlib import pyplot as plt\n",
    "from sklearn.model_selection import train_test_split\n",
    "from sklearn.linear_model import LogisticRegression, LinearRegression\n",
    "from sklearn.metrics import accuracy_score, confusion_matrix, classification_report\n",
    "from sklearn.ensemble import AdaBoostClassifier\n",
    "from sklearn.tree import DecisionTreeClassifier\n",
    "import numpy as np\n",
    "from sklearn.metrics import confusion_matrix\n",
    "from sklearn.preprocessing import LabelEncoder\n",
    "from sklearn import metrics\n",
    "import sklearn.ensemble\n",
    "from sklearn.ensemble import GradientBoostingClassifier\n",
    "from sklearn.metrics import classification_report\n",
    "import matplotlib.pyplot as plt\n",
    "from sklearn.model_selection import GridSearchCV\n",
    "from sklearn.cluster import KMeans\n",
    "import networkx as nx\n",
    "import community"
   ]
  },
  {
   "cell_type": "markdown",
   "metadata": {},
   "source": [
    "Load the datasets"
   ]
  },
  {
   "cell_type": "code",
   "execution_count": 4,
   "metadata": {},
   "outputs": [],
   "source": [
    "db_artists = pd.read_csv(\"datasets/artists.csv\",error_bad_lines=False, sep = '\\t')\n",
    "db_user_artists = pd.read_csv(\"datasets/user_artists.csv\",error_bad_lines=False, sep = '\\t')\n",
    "db_user_friends = pd.read_csv(\"datasets/user_friends.csv\",error_bad_lines=False, sep = '\\t')\n",
    "db_tags = pd.read_csv(\"datasets/tags.csv\",error_bad_lines=False, sep = '\\t')\n",
    "db_test_user_artists = pd.read_csv(\"datasets/test_user_artists.csv\",error_bad_lines=False, sep = '\\t')\n",
    "db_user_taggedartists = pd.read_csv(\"datasets/user_taggedartists.csv\",error_bad_lines=False, sep = '\\t')\n",
    "db_user_taggedartists_timestamps = pd.read_csv(\"datasets/user_taggedartists_timestamps.csv\",error_bad_lines=False, sep = '\\t')"
   ]
  },
  {
   "cell_type": "markdown",
   "metadata": {},
   "source": [
    "## Task1: EDA\n",
    "Explore the dataset (shape of each file, data types, values distribution, ...)."
   ]
  },
  {
   "cell_type": "markdown",
   "metadata": {},
   "source": [
    "##### EDA on artists dataset"
   ]
  },
  {
   "cell_type": "code",
   "execution_count": 3,
   "metadata": {},
   "outputs": [
    {
     "data": {
      "text/html": [
       "<div>\n",
       "<style scoped>\n",
       "    .dataframe tbody tr th:only-of-type {\n",
       "        vertical-align: middle;\n",
       "    }\n",
       "\n",
       "    .dataframe tbody tr th {\n",
       "        vertical-align: top;\n",
       "    }\n",
       "\n",
       "    .dataframe thead th {\n",
       "        text-align: right;\n",
       "    }\n",
       "</style>\n",
       "<table border=\"1\" class=\"dataframe\">\n",
       "  <thead>\n",
       "    <tr style=\"text-align: right;\">\n",
       "      <th></th>\n",
       "      <th>id</th>\n",
       "      <th>name</th>\n",
       "    </tr>\n",
       "  </thead>\n",
       "  <tbody>\n",
       "    <tr>\n",
       "      <td>0</td>\n",
       "      <td>1</td>\n",
       "      <td>MALICE MIZER</td>\n",
       "    </tr>\n",
       "    <tr>\n",
       "      <td>1</td>\n",
       "      <td>2</td>\n",
       "      <td>Diary of Dreams</td>\n",
       "    </tr>\n",
       "    <tr>\n",
       "      <td>2</td>\n",
       "      <td>3</td>\n",
       "      <td>Carpathian Forest</td>\n",
       "    </tr>\n",
       "    <tr>\n",
       "      <td>3</td>\n",
       "      <td>4</td>\n",
       "      <td>Moi dix Mois</td>\n",
       "    </tr>\n",
       "    <tr>\n",
       "      <td>4</td>\n",
       "      <td>5</td>\n",
       "      <td>Bella Morte</td>\n",
       "    </tr>\n",
       "    <tr>\n",
       "      <td>5</td>\n",
       "      <td>6</td>\n",
       "      <td>Moonspell</td>\n",
       "    </tr>\n",
       "    <tr>\n",
       "      <td>6</td>\n",
       "      <td>7</td>\n",
       "      <td>Marilyn Manson</td>\n",
       "    </tr>\n",
       "    <tr>\n",
       "      <td>7</td>\n",
       "      <td>8</td>\n",
       "      <td>DIR EN GREY</td>\n",
       "    </tr>\n",
       "    <tr>\n",
       "      <td>8</td>\n",
       "      <td>9</td>\n",
       "      <td>Combichrist</td>\n",
       "    </tr>\n",
       "    <tr>\n",
       "      <td>9</td>\n",
       "      <td>10</td>\n",
       "      <td>Grendel</td>\n",
       "    </tr>\n",
       "  </tbody>\n",
       "</table>\n",
       "</div>"
      ],
      "text/plain": [
       "   id               name\n",
       "0   1       MALICE MIZER\n",
       "1   2    Diary of Dreams\n",
       "2   3  Carpathian Forest\n",
       "3   4       Moi dix Mois\n",
       "4   5        Bella Morte\n",
       "5   6          Moonspell\n",
       "6   7     Marilyn Manson\n",
       "7   8        DIR EN GREY\n",
       "8   9        Combichrist\n",
       "9  10            Grendel"
      ]
     },
     "execution_count": 3,
     "metadata": {},
     "output_type": "execute_result"
    }
   ],
   "source": [
    "db_artists.head(10)"
   ]
  },
  {
   "cell_type": "code",
   "execution_count": 4,
   "metadata": {},
   "outputs": [
    {
     "data": {
      "text/plain": [
       "(17632, 2)"
      ]
     },
     "execution_count": 4,
     "metadata": {},
     "output_type": "execute_result"
    }
   ],
   "source": [
    "db_artists.shape"
   ]
  },
  {
   "cell_type": "code",
   "execution_count": 5,
   "metadata": {},
   "outputs": [
    {
     "data": {
      "text/plain": [
       "id       int64\n",
       "name    object\n",
       "dtype: object"
      ]
     },
     "execution_count": 5,
     "metadata": {},
     "output_type": "execute_result"
    }
   ],
   "source": [
    "db_artists.dtypes"
   ]
  },
  {
   "cell_type": "code",
   "execution_count": 6,
   "metadata": {},
   "outputs": [
    {
     "data": {
      "text/html": [
       "<div>\n",
       "<style scoped>\n",
       "    .dataframe tbody tr th:only-of-type {\n",
       "        vertical-align: middle;\n",
       "    }\n",
       "\n",
       "    .dataframe tbody tr th {\n",
       "        vertical-align: top;\n",
       "    }\n",
       "\n",
       "    .dataframe thead th {\n",
       "        text-align: right;\n",
       "    }\n",
       "</style>\n",
       "<table border=\"1\" class=\"dataframe\">\n",
       "  <thead>\n",
       "    <tr style=\"text-align: right;\">\n",
       "      <th></th>\n",
       "      <th>id</th>\n",
       "      <th>name</th>\n",
       "    </tr>\n",
       "  </thead>\n",
       "  <tbody>\n",
       "    <tr>\n",
       "      <td>count</td>\n",
       "      <td>17632.000000</td>\n",
       "      <td>17632</td>\n",
       "    </tr>\n",
       "    <tr>\n",
       "      <td>unique</td>\n",
       "      <td>NaN</td>\n",
       "      <td>17632</td>\n",
       "    </tr>\n",
       "    <tr>\n",
       "      <td>top</td>\n",
       "      <td>NaN</td>\n",
       "      <td>{{{Sunset}}}</td>\n",
       "    </tr>\n",
       "    <tr>\n",
       "      <td>freq</td>\n",
       "      <td>NaN</td>\n",
       "      <td>1</td>\n",
       "    </tr>\n",
       "    <tr>\n",
       "      <td>mean</td>\n",
       "      <td>9156.636853</td>\n",
       "      <td>NaN</td>\n",
       "    </tr>\n",
       "    <tr>\n",
       "      <td>std</td>\n",
       "      <td>5392.515296</td>\n",
       "      <td>NaN</td>\n",
       "    </tr>\n",
       "    <tr>\n",
       "      <td>min</td>\n",
       "      <td>1.000000</td>\n",
       "      <td>NaN</td>\n",
       "    </tr>\n",
       "    <tr>\n",
       "      <td>25%</td>\n",
       "      <td>4501.750000</td>\n",
       "      <td>NaN</td>\n",
       "    </tr>\n",
       "    <tr>\n",
       "      <td>50%</td>\n",
       "      <td>9048.500000</td>\n",
       "      <td>NaN</td>\n",
       "    </tr>\n",
       "    <tr>\n",
       "      <td>75%</td>\n",
       "      <td>13769.250000</td>\n",
       "      <td>NaN</td>\n",
       "    </tr>\n",
       "    <tr>\n",
       "      <td>max</td>\n",
       "      <td>18745.000000</td>\n",
       "      <td>NaN</td>\n",
       "    </tr>\n",
       "  </tbody>\n",
       "</table>\n",
       "</div>"
      ],
      "text/plain": [
       "                  id          name\n",
       "count   17632.000000         17632\n",
       "unique           NaN         17632\n",
       "top              NaN  {{{Sunset}}}\n",
       "freq             NaN             1\n",
       "mean     9156.636853           NaN\n",
       "std      5392.515296           NaN\n",
       "min         1.000000           NaN\n",
       "25%      4501.750000           NaN\n",
       "50%      9048.500000           NaN\n",
       "75%     13769.250000           NaN\n",
       "max     18745.000000           NaN"
      ]
     },
     "execution_count": 6,
     "metadata": {},
     "output_type": "execute_result"
    }
   ],
   "source": [
    "db_artists.describe(include='all') #includes also the cathegorical values"
   ]
  },
  {
   "cell_type": "markdown",
   "metadata": {},
   "source": [
    "##### EDA on user_artists dataset"
   ]
  },
  {
   "cell_type": "code",
   "execution_count": 7,
   "metadata": {},
   "outputs": [
    {
     "data": {
      "text/html": [
       "<div>\n",
       "<style scoped>\n",
       "    .dataframe tbody tr th:only-of-type {\n",
       "        vertical-align: middle;\n",
       "    }\n",
       "\n",
       "    .dataframe tbody tr th {\n",
       "        vertical-align: top;\n",
       "    }\n",
       "\n",
       "    .dataframe thead th {\n",
       "        text-align: right;\n",
       "    }\n",
       "</style>\n",
       "<table border=\"1\" class=\"dataframe\">\n",
       "  <thead>\n",
       "    <tr style=\"text-align: right;\">\n",
       "      <th></th>\n",
       "      <th>userID</th>\n",
       "      <th>artistID</th>\n",
       "      <th>weight</th>\n",
       "    </tr>\n",
       "  </thead>\n",
       "  <tbody>\n",
       "    <tr>\n",
       "      <td>0</td>\n",
       "      <td>1430</td>\n",
       "      <td>1097</td>\n",
       "      <td>108</td>\n",
       "    </tr>\n",
       "    <tr>\n",
       "      <td>1</td>\n",
       "      <td>822</td>\n",
       "      <td>267</td>\n",
       "      <td>2157</td>\n",
       "    </tr>\n",
       "    <tr>\n",
       "      <td>2</td>\n",
       "      <td>1335</td>\n",
       "      <td>13910</td>\n",
       "      <td>59</td>\n",
       "    </tr>\n",
       "    <tr>\n",
       "      <td>3</td>\n",
       "      <td>815</td>\n",
       "      <td>325</td>\n",
       "      <td>2977</td>\n",
       "    </tr>\n",
       "    <tr>\n",
       "      <td>4</td>\n",
       "      <td>1147</td>\n",
       "      <td>12657</td>\n",
       "      <td>142</td>\n",
       "    </tr>\n",
       "    <tr>\n",
       "      <td>5</td>\n",
       "      <td>2093</td>\n",
       "      <td>2893</td>\n",
       "      <td>153</td>\n",
       "    </tr>\n",
       "    <tr>\n",
       "      <td>6</td>\n",
       "      <td>656</td>\n",
       "      <td>5156</td>\n",
       "      <td>22</td>\n",
       "    </tr>\n",
       "    <tr>\n",
       "      <td>7</td>\n",
       "      <td>80</td>\n",
       "      <td>2215</td>\n",
       "      <td>3</td>\n",
       "    </tr>\n",
       "    <tr>\n",
       "      <td>8</td>\n",
       "      <td>1273</td>\n",
       "      <td>441</td>\n",
       "      <td>129</td>\n",
       "    </tr>\n",
       "    <tr>\n",
       "      <td>9</td>\n",
       "      <td>1340</td>\n",
       "      <td>2637</td>\n",
       "      <td>502</td>\n",
       "    </tr>\n",
       "  </tbody>\n",
       "</table>\n",
       "</div>"
      ],
      "text/plain": [
       "   userID  artistID  weight\n",
       "0    1430      1097     108\n",
       "1     822       267    2157\n",
       "2    1335     13910      59\n",
       "3     815       325    2977\n",
       "4    1147     12657     142\n",
       "5    2093      2893     153\n",
       "6     656      5156      22\n",
       "7      80      2215       3\n",
       "8    1273       441     129\n",
       "9    1340      2637     502"
      ]
     },
     "execution_count": 7,
     "metadata": {},
     "output_type": "execute_result"
    }
   ],
   "source": [
    "db_user_artists.head(10)"
   ]
  },
  {
   "cell_type": "code",
   "execution_count": 8,
   "metadata": {},
   "outputs": [
    {
     "data": {
      "text/plain": [
       "(83491, 3)"
      ]
     },
     "execution_count": 8,
     "metadata": {},
     "output_type": "execute_result"
    }
   ],
   "source": [
    "db_user_artists.shape"
   ]
  },
  {
   "cell_type": "code",
   "execution_count": 9,
   "metadata": {},
   "outputs": [
    {
     "data": {
      "text/plain": [
       "userID      int64\n",
       "artistID    int64\n",
       "weight      int64\n",
       "dtype: object"
      ]
     },
     "execution_count": 9,
     "metadata": {},
     "output_type": "execute_result"
    }
   ],
   "source": [
    "db_user_artists.dtypes"
   ]
  },
  {
   "cell_type": "code",
   "execution_count": 10,
   "metadata": {},
   "outputs": [
    {
     "data": {
      "text/html": [
       "<div>\n",
       "<style scoped>\n",
       "    .dataframe tbody tr th:only-of-type {\n",
       "        vertical-align: middle;\n",
       "    }\n",
       "\n",
       "    .dataframe tbody tr th {\n",
       "        vertical-align: top;\n",
       "    }\n",
       "\n",
       "    .dataframe thead th {\n",
       "        text-align: right;\n",
       "    }\n",
       "</style>\n",
       "<table border=\"1\" class=\"dataframe\">\n",
       "  <thead>\n",
       "    <tr style=\"text-align: right;\">\n",
       "      <th></th>\n",
       "      <th>userID</th>\n",
       "      <th>artistID</th>\n",
       "      <th>weight</th>\n",
       "    </tr>\n",
       "  </thead>\n",
       "  <tbody>\n",
       "    <tr>\n",
       "      <td>count</td>\n",
       "      <td>83491.000000</td>\n",
       "      <td>83491.00000</td>\n",
       "      <td>83491.000000</td>\n",
       "    </tr>\n",
       "    <tr>\n",
       "      <td>mean</td>\n",
       "      <td>1036.348133</td>\n",
       "      <td>3329.55055</td>\n",
       "      <td>743.107173</td>\n",
       "    </tr>\n",
       "    <tr>\n",
       "      <td>std</td>\n",
       "      <td>610.703821</td>\n",
       "      <td>4381.56117</td>\n",
       "      <td>3773.524885</td>\n",
       "    </tr>\n",
       "    <tr>\n",
       "      <td>min</td>\n",
       "      <td>2.000000</td>\n",
       "      <td>1.00000</td>\n",
       "      <td>1.000000</td>\n",
       "    </tr>\n",
       "    <tr>\n",
       "      <td>25%</td>\n",
       "      <td>501.500000</td>\n",
       "      <td>436.00000</td>\n",
       "      <td>107.000000</td>\n",
       "    </tr>\n",
       "    <tr>\n",
       "      <td>50%</td>\n",
       "      <td>1027.000000</td>\n",
       "      <td>1246.00000</td>\n",
       "      <td>260.000000</td>\n",
       "    </tr>\n",
       "    <tr>\n",
       "      <td>75%</td>\n",
       "      <td>1568.000000</td>\n",
       "      <td>4351.50000</td>\n",
       "      <td>614.000000</td>\n",
       "    </tr>\n",
       "    <tr>\n",
       "      <td>max</td>\n",
       "      <td>2100.000000</td>\n",
       "      <td>18745.00000</td>\n",
       "      <td>352698.000000</td>\n",
       "    </tr>\n",
       "  </tbody>\n",
       "</table>\n",
       "</div>"
      ],
      "text/plain": [
       "             userID     artistID         weight\n",
       "count  83491.000000  83491.00000   83491.000000\n",
       "mean    1036.348133   3329.55055     743.107173\n",
       "std      610.703821   4381.56117    3773.524885\n",
       "min        2.000000      1.00000       1.000000\n",
       "25%      501.500000    436.00000     107.000000\n",
       "50%     1027.000000   1246.00000     260.000000\n",
       "75%     1568.000000   4351.50000     614.000000\n",
       "max     2100.000000  18745.00000  352698.000000"
      ]
     },
     "execution_count": 10,
     "metadata": {},
     "output_type": "execute_result"
    }
   ],
   "source": [
    "db_user_artists.describe(include='all') #includes also the cathegorical values"
   ]
  },
  {
   "cell_type": "markdown",
   "metadata": {},
   "source": [
    "##### EDA on user_friends dataset"
   ]
  },
  {
   "cell_type": "code",
   "execution_count": 11,
   "metadata": {},
   "outputs": [
    {
     "data": {
      "text/html": [
       "<div>\n",
       "<style scoped>\n",
       "    .dataframe tbody tr th:only-of-type {\n",
       "        vertical-align: middle;\n",
       "    }\n",
       "\n",
       "    .dataframe tbody tr th {\n",
       "        vertical-align: top;\n",
       "    }\n",
       "\n",
       "    .dataframe thead th {\n",
       "        text-align: right;\n",
       "    }\n",
       "</style>\n",
       "<table border=\"1\" class=\"dataframe\">\n",
       "  <thead>\n",
       "    <tr style=\"text-align: right;\">\n",
       "      <th></th>\n",
       "      <th>userID</th>\n",
       "      <th>friendID</th>\n",
       "    </tr>\n",
       "  </thead>\n",
       "  <tbody>\n",
       "    <tr>\n",
       "      <td>0</td>\n",
       "      <td>2</td>\n",
       "      <td>275</td>\n",
       "    </tr>\n",
       "    <tr>\n",
       "      <td>1</td>\n",
       "      <td>2</td>\n",
       "      <td>428</td>\n",
       "    </tr>\n",
       "    <tr>\n",
       "      <td>2</td>\n",
       "      <td>2</td>\n",
       "      <td>515</td>\n",
       "    </tr>\n",
       "    <tr>\n",
       "      <td>3</td>\n",
       "      <td>2</td>\n",
       "      <td>761</td>\n",
       "    </tr>\n",
       "    <tr>\n",
       "      <td>4</td>\n",
       "      <td>2</td>\n",
       "      <td>831</td>\n",
       "    </tr>\n",
       "    <tr>\n",
       "      <td>5</td>\n",
       "      <td>2</td>\n",
       "      <td>909</td>\n",
       "    </tr>\n",
       "    <tr>\n",
       "      <td>6</td>\n",
       "      <td>2</td>\n",
       "      <td>1209</td>\n",
       "    </tr>\n",
       "    <tr>\n",
       "      <td>7</td>\n",
       "      <td>2</td>\n",
       "      <td>1210</td>\n",
       "    </tr>\n",
       "    <tr>\n",
       "      <td>8</td>\n",
       "      <td>2</td>\n",
       "      <td>1230</td>\n",
       "    </tr>\n",
       "    <tr>\n",
       "      <td>9</td>\n",
       "      <td>2</td>\n",
       "      <td>1327</td>\n",
       "    </tr>\n",
       "  </tbody>\n",
       "</table>\n",
       "</div>"
      ],
      "text/plain": [
       "   userID  friendID\n",
       "0       2       275\n",
       "1       2       428\n",
       "2       2       515\n",
       "3       2       761\n",
       "4       2       831\n",
       "5       2       909\n",
       "6       2      1209\n",
       "7       2      1210\n",
       "8       2      1230\n",
       "9       2      1327"
      ]
     },
     "execution_count": 11,
     "metadata": {},
     "output_type": "execute_result"
    }
   ],
   "source": [
    "db_user_friends.head(10)"
   ]
  },
  {
   "cell_type": "code",
   "execution_count": 12,
   "metadata": {},
   "outputs": [
    {
     "data": {
      "text/plain": [
       "(25434, 2)"
      ]
     },
     "execution_count": 12,
     "metadata": {},
     "output_type": "execute_result"
    }
   ],
   "source": [
    "db_user_friends.shape"
   ]
  },
  {
   "cell_type": "code",
   "execution_count": 13,
   "metadata": {},
   "outputs": [
    {
     "data": {
      "text/plain": [
       "userID      int64\n",
       "friendID    int64\n",
       "dtype: object"
      ]
     },
     "execution_count": 13,
     "metadata": {},
     "output_type": "execute_result"
    }
   ],
   "source": [
    "db_user_friends.dtypes"
   ]
  },
  {
   "cell_type": "code",
   "execution_count": 14,
   "metadata": {},
   "outputs": [
    {
     "data": {
      "text/html": [
       "<div>\n",
       "<style scoped>\n",
       "    .dataframe tbody tr th:only-of-type {\n",
       "        vertical-align: middle;\n",
       "    }\n",
       "\n",
       "    .dataframe tbody tr th {\n",
       "        vertical-align: top;\n",
       "    }\n",
       "\n",
       "    .dataframe thead th {\n",
       "        text-align: right;\n",
       "    }\n",
       "</style>\n",
       "<table border=\"1\" class=\"dataframe\">\n",
       "  <thead>\n",
       "    <tr style=\"text-align: right;\">\n",
       "      <th></th>\n",
       "      <th>userID</th>\n",
       "      <th>friendID</th>\n",
       "    </tr>\n",
       "  </thead>\n",
       "  <tbody>\n",
       "    <tr>\n",
       "      <td>count</td>\n",
       "      <td>25434.000000</td>\n",
       "      <td>25434.000000</td>\n",
       "    </tr>\n",
       "    <tr>\n",
       "      <td>mean</td>\n",
       "      <td>992.161437</td>\n",
       "      <td>992.161437</td>\n",
       "    </tr>\n",
       "    <tr>\n",
       "      <td>std</td>\n",
       "      <td>603.959049</td>\n",
       "      <td>603.959049</td>\n",
       "    </tr>\n",
       "    <tr>\n",
       "      <td>min</td>\n",
       "      <td>2.000000</td>\n",
       "      <td>2.000000</td>\n",
       "    </tr>\n",
       "    <tr>\n",
       "      <td>25%</td>\n",
       "      <td>441.000000</td>\n",
       "      <td>441.000000</td>\n",
       "    </tr>\n",
       "    <tr>\n",
       "      <td>50%</td>\n",
       "      <td>984.000000</td>\n",
       "      <td>984.000000</td>\n",
       "    </tr>\n",
       "    <tr>\n",
       "      <td>75%</td>\n",
       "      <td>1514.000000</td>\n",
       "      <td>1514.000000</td>\n",
       "    </tr>\n",
       "    <tr>\n",
       "      <td>max</td>\n",
       "      <td>2100.000000</td>\n",
       "      <td>2100.000000</td>\n",
       "    </tr>\n",
       "  </tbody>\n",
       "</table>\n",
       "</div>"
      ],
      "text/plain": [
       "             userID      friendID\n",
       "count  25434.000000  25434.000000\n",
       "mean     992.161437    992.161437\n",
       "std      603.959049    603.959049\n",
       "min        2.000000      2.000000\n",
       "25%      441.000000    441.000000\n",
       "50%      984.000000    984.000000\n",
       "75%     1514.000000   1514.000000\n",
       "max     2100.000000   2100.000000"
      ]
     },
     "execution_count": 14,
     "metadata": {},
     "output_type": "execute_result"
    }
   ],
   "source": [
    "db_user_friends.describe(include='all') #includes also the cathegorical values"
   ]
  },
  {
   "cell_type": "markdown",
   "metadata": {},
   "source": [
    "##### EDA on tags dataset"
   ]
  },
  {
   "cell_type": "code",
   "execution_count": 15,
   "metadata": {},
   "outputs": [
    {
     "data": {
      "text/html": [
       "<div>\n",
       "<style scoped>\n",
       "    .dataframe tbody tr th:only-of-type {\n",
       "        vertical-align: middle;\n",
       "    }\n",
       "\n",
       "    .dataframe tbody tr th {\n",
       "        vertical-align: top;\n",
       "    }\n",
       "\n",
       "    .dataframe thead th {\n",
       "        text-align: right;\n",
       "    }\n",
       "</style>\n",
       "<table border=\"1\" class=\"dataframe\">\n",
       "  <thead>\n",
       "    <tr style=\"text-align: right;\">\n",
       "      <th></th>\n",
       "      <th>tagID</th>\n",
       "      <th>tagValue</th>\n",
       "    </tr>\n",
       "  </thead>\n",
       "  <tbody>\n",
       "    <tr>\n",
       "      <td>0</td>\n",
       "      <td>1</td>\n",
       "      <td>metal</td>\n",
       "    </tr>\n",
       "    <tr>\n",
       "      <td>1</td>\n",
       "      <td>2</td>\n",
       "      <td>alternative metal</td>\n",
       "    </tr>\n",
       "    <tr>\n",
       "      <td>2</td>\n",
       "      <td>3</td>\n",
       "      <td>goth rock</td>\n",
       "    </tr>\n",
       "    <tr>\n",
       "      <td>3</td>\n",
       "      <td>4</td>\n",
       "      <td>black metal</td>\n",
       "    </tr>\n",
       "    <tr>\n",
       "      <td>4</td>\n",
       "      <td>5</td>\n",
       "      <td>death metal</td>\n",
       "    </tr>\n",
       "    <tr>\n",
       "      <td>5</td>\n",
       "      <td>6</td>\n",
       "      <td>industrial metal</td>\n",
       "    </tr>\n",
       "    <tr>\n",
       "      <td>6</td>\n",
       "      <td>7</td>\n",
       "      <td>gothic metal</td>\n",
       "    </tr>\n",
       "    <tr>\n",
       "      <td>7</td>\n",
       "      <td>8</td>\n",
       "      <td>terror ebm</td>\n",
       "    </tr>\n",
       "    <tr>\n",
       "      <td>8</td>\n",
       "      <td>9</td>\n",
       "      <td>electro-industrial</td>\n",
       "    </tr>\n",
       "    <tr>\n",
       "      <td>9</td>\n",
       "      <td>10</td>\n",
       "      <td>harsh ebm</td>\n",
       "    </tr>\n",
       "  </tbody>\n",
       "</table>\n",
       "</div>"
      ],
      "text/plain": [
       "   tagID            tagValue\n",
       "0      1               metal\n",
       "1      2   alternative metal\n",
       "2      3           goth rock\n",
       "3      4         black metal\n",
       "4      5         death metal\n",
       "5      6    industrial metal\n",
       "6      7        gothic metal\n",
       "7      8          terror ebm\n",
       "8      9  electro-industrial\n",
       "9     10           harsh ebm"
      ]
     },
     "execution_count": 15,
     "metadata": {},
     "output_type": "execute_result"
    }
   ],
   "source": [
    "db_tags.head(10)"
   ]
  },
  {
   "cell_type": "code",
   "execution_count": 16,
   "metadata": {},
   "outputs": [
    {
     "data": {
      "text/plain": [
       "(11946, 2)"
      ]
     },
     "execution_count": 16,
     "metadata": {},
     "output_type": "execute_result"
    }
   ],
   "source": [
    "db_tags.shape"
   ]
  },
  {
   "cell_type": "code",
   "execution_count": 17,
   "metadata": {},
   "outputs": [
    {
     "data": {
      "text/plain": [
       "tagID        int64\n",
       "tagValue    object\n",
       "dtype: object"
      ]
     },
     "execution_count": 17,
     "metadata": {},
     "output_type": "execute_result"
    }
   ],
   "source": [
    "db_tags.dtypes"
   ]
  },
  {
   "cell_type": "code",
   "execution_count": 18,
   "metadata": {},
   "outputs": [
    {
     "data": {
      "text/html": [
       "<div>\n",
       "<style scoped>\n",
       "    .dataframe tbody tr th:only-of-type {\n",
       "        vertical-align: middle;\n",
       "    }\n",
       "\n",
       "    .dataframe tbody tr th {\n",
       "        vertical-align: top;\n",
       "    }\n",
       "\n",
       "    .dataframe thead th {\n",
       "        text-align: right;\n",
       "    }\n",
       "</style>\n",
       "<table border=\"1\" class=\"dataframe\">\n",
       "  <thead>\n",
       "    <tr style=\"text-align: right;\">\n",
       "      <th></th>\n",
       "      <th>tagID</th>\n",
       "      <th>tagValue</th>\n",
       "    </tr>\n",
       "  </thead>\n",
       "  <tbody>\n",
       "    <tr>\n",
       "      <td>count</td>\n",
       "      <td>11946.000000</td>\n",
       "      <td>11946</td>\n",
       "    </tr>\n",
       "    <tr>\n",
       "      <td>unique</td>\n",
       "      <td>NaN</td>\n",
       "      <td>11946</td>\n",
       "    </tr>\n",
       "    <tr>\n",
       "      <td>top</td>\n",
       "      <td>NaN</td>\n",
       "      <td>true blood</td>\n",
       "    </tr>\n",
       "    <tr>\n",
       "      <td>freq</td>\n",
       "      <td>NaN</td>\n",
       "      <td>1</td>\n",
       "    </tr>\n",
       "    <tr>\n",
       "      <td>mean</td>\n",
       "      <td>6242.315336</td>\n",
       "      <td>NaN</td>\n",
       "    </tr>\n",
       "    <tr>\n",
       "      <td>std</td>\n",
       "      <td>3667.498057</td>\n",
       "      <td>NaN</td>\n",
       "    </tr>\n",
       "    <tr>\n",
       "      <td>min</td>\n",
       "      <td>1.000000</td>\n",
       "      <td>NaN</td>\n",
       "    </tr>\n",
       "    <tr>\n",
       "      <td>25%</td>\n",
       "      <td>3036.250000</td>\n",
       "      <td>NaN</td>\n",
       "    </tr>\n",
       "    <tr>\n",
       "      <td>50%</td>\n",
       "      <td>6210.500000</td>\n",
       "      <td>NaN</td>\n",
       "    </tr>\n",
       "    <tr>\n",
       "      <td>75%</td>\n",
       "      <td>9460.750000</td>\n",
       "      <td>NaN</td>\n",
       "    </tr>\n",
       "    <tr>\n",
       "      <td>max</td>\n",
       "      <td>12648.000000</td>\n",
       "      <td>NaN</td>\n",
       "    </tr>\n",
       "  </tbody>\n",
       "</table>\n",
       "</div>"
      ],
      "text/plain": [
       "               tagID    tagValue\n",
       "count   11946.000000       11946\n",
       "unique           NaN       11946\n",
       "top              NaN  true blood\n",
       "freq             NaN           1\n",
       "mean     6242.315336         NaN\n",
       "std      3667.498057         NaN\n",
       "min         1.000000         NaN\n",
       "25%      3036.250000         NaN\n",
       "50%      6210.500000         NaN\n",
       "75%      9460.750000         NaN\n",
       "max     12648.000000         NaN"
      ]
     },
     "execution_count": 18,
     "metadata": {},
     "output_type": "execute_result"
    }
   ],
   "source": [
    "db_tags.describe(include='all') #includes also the cathegorical values"
   ]
  },
  {
   "cell_type": "markdown",
   "metadata": {},
   "source": [
    "##### EDA on test_user_artists dataset"
   ]
  },
  {
   "cell_type": "code",
   "execution_count": 19,
   "metadata": {},
   "outputs": [
    {
     "data": {
      "text/html": [
       "<div>\n",
       "<style scoped>\n",
       "    .dataframe tbody tr th:only-of-type {\n",
       "        vertical-align: middle;\n",
       "    }\n",
       "\n",
       "    .dataframe tbody tr th {\n",
       "        vertical-align: top;\n",
       "    }\n",
       "\n",
       "    .dataframe thead th {\n",
       "        text-align: right;\n",
       "    }\n",
       "</style>\n",
       "<table border=\"1\" class=\"dataframe\">\n",
       "  <thead>\n",
       "    <tr style=\"text-align: right;\">\n",
       "      <th></th>\n",
       "      <th>userID</th>\n",
       "      <th>artistID</th>\n",
       "    </tr>\n",
       "  </thead>\n",
       "  <tbody>\n",
       "    <tr>\n",
       "      <td>0</td>\n",
       "      <td>186</td>\n",
       "      <td>704</td>\n",
       "    </tr>\n",
       "    <tr>\n",
       "      <td>1</td>\n",
       "      <td>1833</td>\n",
       "      <td>10600</td>\n",
       "    </tr>\n",
       "    <tr>\n",
       "      <td>2</td>\n",
       "      <td>1620</td>\n",
       "      <td>3817</td>\n",
       "    </tr>\n",
       "    <tr>\n",
       "      <td>3</td>\n",
       "      <td>1535</td>\n",
       "      <td>7777</td>\n",
       "    </tr>\n",
       "    <tr>\n",
       "      <td>4</td>\n",
       "      <td>1493</td>\n",
       "      <td>7120</td>\n",
       "    </tr>\n",
       "    <tr>\n",
       "      <td>5</td>\n",
       "      <td>1115</td>\n",
       "      <td>14852</td>\n",
       "    </tr>\n",
       "    <tr>\n",
       "      <td>6</td>\n",
       "      <td>1217</td>\n",
       "      <td>5437</td>\n",
       "    </tr>\n",
       "    <tr>\n",
       "      <td>7</td>\n",
       "      <td>1153</td>\n",
       "      <td>18707</td>\n",
       "    </tr>\n",
       "    <tr>\n",
       "      <td>8</td>\n",
       "      <td>584</td>\n",
       "      <td>5052</td>\n",
       "    </tr>\n",
       "    <tr>\n",
       "      <td>9</td>\n",
       "      <td>2014</td>\n",
       "      <td>601</td>\n",
       "    </tr>\n",
       "  </tbody>\n",
       "</table>\n",
       "</div>"
      ],
      "text/plain": [
       "   userID  artistID\n",
       "0     186       704\n",
       "1    1833     10600\n",
       "2    1620      3817\n",
       "3    1535      7777\n",
       "4    1493      7120\n",
       "5    1115     14852\n",
       "6    1217      5437\n",
       "7    1153     18707\n",
       "8     584      5052\n",
       "9    2014       601"
      ]
     },
     "execution_count": 19,
     "metadata": {},
     "output_type": "execute_result"
    }
   ],
   "source": [
    "db_test_user_artists.head(10)"
   ]
  },
  {
   "cell_type": "code",
   "execution_count": 20,
   "metadata": {},
   "outputs": [
    {
     "data": {
      "text/plain": [
       "(19245, 2)"
      ]
     },
     "execution_count": 20,
     "metadata": {},
     "output_type": "execute_result"
    }
   ],
   "source": [
    "db_test_user_artists.shape"
   ]
  },
  {
   "cell_type": "code",
   "execution_count": 21,
   "metadata": {},
   "outputs": [
    {
     "data": {
      "text/plain": [
       "userID      int64\n",
       "artistID    int64\n",
       "dtype: object"
      ]
     },
     "execution_count": 21,
     "metadata": {},
     "output_type": "execute_result"
    }
   ],
   "source": [
    "db_test_user_artists.dtypes"
   ]
  },
  {
   "cell_type": "code",
   "execution_count": 22,
   "metadata": {},
   "outputs": [
    {
     "data": {
      "text/html": [
       "<div>\n",
       "<style scoped>\n",
       "    .dataframe tbody tr th:only-of-type {\n",
       "        vertical-align: middle;\n",
       "    }\n",
       "\n",
       "    .dataframe tbody tr th {\n",
       "        vertical-align: top;\n",
       "    }\n",
       "\n",
       "    .dataframe thead th {\n",
       "        text-align: right;\n",
       "    }\n",
       "</style>\n",
       "<table border=\"1\" class=\"dataframe\">\n",
       "  <thead>\n",
       "    <tr style=\"text-align: right;\">\n",
       "      <th></th>\n",
       "      <th>userID</th>\n",
       "      <th>artistID</th>\n",
       "    </tr>\n",
       "  </thead>\n",
       "  <tbody>\n",
       "    <tr>\n",
       "      <td>count</td>\n",
       "      <td>19245.000000</td>\n",
       "      <td>19245.000000</td>\n",
       "    </tr>\n",
       "    <tr>\n",
       "      <td>mean</td>\n",
       "      <td>1038.011587</td>\n",
       "      <td>5957.216368</td>\n",
       "    </tr>\n",
       "    <tr>\n",
       "      <td>std</td>\n",
       "      <td>610.314875</td>\n",
       "      <td>5569.652843</td>\n",
       "    </tr>\n",
       "    <tr>\n",
       "      <td>min</td>\n",
       "      <td>2.000000</td>\n",
       "      <td>1.000000</td>\n",
       "    </tr>\n",
       "    <tr>\n",
       "      <td>25%</td>\n",
       "      <td>506.000000</td>\n",
       "      <td>989.000000</td>\n",
       "    </tr>\n",
       "    <tr>\n",
       "      <td>50%</td>\n",
       "      <td>1037.000000</td>\n",
       "      <td>4052.000000</td>\n",
       "    </tr>\n",
       "    <tr>\n",
       "      <td>75%</td>\n",
       "      <td>1566.000000</td>\n",
       "      <td>10156.000000</td>\n",
       "    </tr>\n",
       "    <tr>\n",
       "      <td>max</td>\n",
       "      <td>2100.000000</td>\n",
       "      <td>18744.000000</td>\n",
       "    </tr>\n",
       "  </tbody>\n",
       "</table>\n",
       "</div>"
      ],
      "text/plain": [
       "             userID      artistID\n",
       "count  19245.000000  19245.000000\n",
       "mean    1038.011587   5957.216368\n",
       "std      610.314875   5569.652843\n",
       "min        2.000000      1.000000\n",
       "25%      506.000000    989.000000\n",
       "50%     1037.000000   4052.000000\n",
       "75%     1566.000000  10156.000000\n",
       "max     2100.000000  18744.000000"
      ]
     },
     "execution_count": 22,
     "metadata": {},
     "output_type": "execute_result"
    }
   ],
   "source": [
    "db_test_user_artists.describe(include='all') #includes also the cathegorical values"
   ]
  },
  {
   "cell_type": "markdown",
   "metadata": {},
   "source": [
    "##### EDA on user_taggedartists dataset"
   ]
  },
  {
   "cell_type": "code",
   "execution_count": 23,
   "metadata": {},
   "outputs": [
    {
     "data": {
      "text/html": [
       "<div>\n",
       "<style scoped>\n",
       "    .dataframe tbody tr th:only-of-type {\n",
       "        vertical-align: middle;\n",
       "    }\n",
       "\n",
       "    .dataframe tbody tr th {\n",
       "        vertical-align: top;\n",
       "    }\n",
       "\n",
       "    .dataframe thead th {\n",
       "        text-align: right;\n",
       "    }\n",
       "</style>\n",
       "<table border=\"1\" class=\"dataframe\">\n",
       "  <thead>\n",
       "    <tr style=\"text-align: right;\">\n",
       "      <th></th>\n",
       "      <th>userID</th>\n",
       "      <th>artistID</th>\n",
       "      <th>tagID</th>\n",
       "      <th>day</th>\n",
       "      <th>month</th>\n",
       "      <th>year</th>\n",
       "    </tr>\n",
       "  </thead>\n",
       "  <tbody>\n",
       "    <tr>\n",
       "      <td>0</td>\n",
       "      <td>2</td>\n",
       "      <td>52</td>\n",
       "      <td>13</td>\n",
       "      <td>1</td>\n",
       "      <td>4</td>\n",
       "      <td>2009</td>\n",
       "    </tr>\n",
       "    <tr>\n",
       "      <td>1</td>\n",
       "      <td>2</td>\n",
       "      <td>52</td>\n",
       "      <td>15</td>\n",
       "      <td>1</td>\n",
       "      <td>4</td>\n",
       "      <td>2009</td>\n",
       "    </tr>\n",
       "    <tr>\n",
       "      <td>2</td>\n",
       "      <td>2</td>\n",
       "      <td>52</td>\n",
       "      <td>18</td>\n",
       "      <td>1</td>\n",
       "      <td>4</td>\n",
       "      <td>2009</td>\n",
       "    </tr>\n",
       "    <tr>\n",
       "      <td>3</td>\n",
       "      <td>2</td>\n",
       "      <td>52</td>\n",
       "      <td>21</td>\n",
       "      <td>1</td>\n",
       "      <td>4</td>\n",
       "      <td>2009</td>\n",
       "    </tr>\n",
       "    <tr>\n",
       "      <td>4</td>\n",
       "      <td>2</td>\n",
       "      <td>52</td>\n",
       "      <td>41</td>\n",
       "      <td>1</td>\n",
       "      <td>4</td>\n",
       "      <td>2009</td>\n",
       "    </tr>\n",
       "    <tr>\n",
       "      <td>5</td>\n",
       "      <td>2</td>\n",
       "      <td>63</td>\n",
       "      <td>13</td>\n",
       "      <td>1</td>\n",
       "      <td>4</td>\n",
       "      <td>2009</td>\n",
       "    </tr>\n",
       "    <tr>\n",
       "      <td>6</td>\n",
       "      <td>2</td>\n",
       "      <td>63</td>\n",
       "      <td>14</td>\n",
       "      <td>1</td>\n",
       "      <td>4</td>\n",
       "      <td>2009</td>\n",
       "    </tr>\n",
       "    <tr>\n",
       "      <td>7</td>\n",
       "      <td>2</td>\n",
       "      <td>63</td>\n",
       "      <td>23</td>\n",
       "      <td>1</td>\n",
       "      <td>4</td>\n",
       "      <td>2009</td>\n",
       "    </tr>\n",
       "    <tr>\n",
       "      <td>8</td>\n",
       "      <td>2</td>\n",
       "      <td>63</td>\n",
       "      <td>40</td>\n",
       "      <td>1</td>\n",
       "      <td>4</td>\n",
       "      <td>2009</td>\n",
       "    </tr>\n",
       "    <tr>\n",
       "      <td>9</td>\n",
       "      <td>2</td>\n",
       "      <td>73</td>\n",
       "      <td>13</td>\n",
       "      <td>1</td>\n",
       "      <td>4</td>\n",
       "      <td>2009</td>\n",
       "    </tr>\n",
       "  </tbody>\n",
       "</table>\n",
       "</div>"
      ],
      "text/plain": [
       "   userID  artistID  tagID  day  month  year\n",
       "0       2        52     13    1      4  2009\n",
       "1       2        52     15    1      4  2009\n",
       "2       2        52     18    1      4  2009\n",
       "3       2        52     21    1      4  2009\n",
       "4       2        52     41    1      4  2009\n",
       "5       2        63     13    1      4  2009\n",
       "6       2        63     14    1      4  2009\n",
       "7       2        63     23    1      4  2009\n",
       "8       2        63     40    1      4  2009\n",
       "9       2        73     13    1      4  2009"
      ]
     },
     "execution_count": 23,
     "metadata": {},
     "output_type": "execute_result"
    }
   ],
   "source": [
    "db_user_taggedartists.head(10)"
   ]
  },
  {
   "cell_type": "code",
   "execution_count": 24,
   "metadata": {},
   "outputs": [
    {
     "data": {
      "text/plain": [
       "(186479, 6)"
      ]
     },
     "execution_count": 24,
     "metadata": {},
     "output_type": "execute_result"
    }
   ],
   "source": [
    "db_user_taggedartists.shape"
   ]
  },
  {
   "cell_type": "code",
   "execution_count": 25,
   "metadata": {},
   "outputs": [
    {
     "data": {
      "text/plain": [
       "userID      int64\n",
       "artistID    int64\n",
       "tagID       int64\n",
       "day         int64\n",
       "month       int64\n",
       "year        int64\n",
       "dtype: object"
      ]
     },
     "execution_count": 25,
     "metadata": {},
     "output_type": "execute_result"
    }
   ],
   "source": [
    "db_user_taggedartists.dtypes"
   ]
  },
  {
   "cell_type": "code",
   "execution_count": 26,
   "metadata": {},
   "outputs": [
    {
     "data": {
      "text/html": [
       "<div>\n",
       "<style scoped>\n",
       "    .dataframe tbody tr th:only-of-type {\n",
       "        vertical-align: middle;\n",
       "    }\n",
       "\n",
       "    .dataframe tbody tr th {\n",
       "        vertical-align: top;\n",
       "    }\n",
       "\n",
       "    .dataframe thead th {\n",
       "        text-align: right;\n",
       "    }\n",
       "</style>\n",
       "<table border=\"1\" class=\"dataframe\">\n",
       "  <thead>\n",
       "    <tr style=\"text-align: right;\">\n",
       "      <th></th>\n",
       "      <th>userID</th>\n",
       "      <th>artistID</th>\n",
       "      <th>tagID</th>\n",
       "      <th>day</th>\n",
       "      <th>month</th>\n",
       "      <th>year</th>\n",
       "    </tr>\n",
       "  </thead>\n",
       "  <tbody>\n",
       "    <tr>\n",
       "      <td>count</td>\n",
       "      <td>186479.000000</td>\n",
       "      <td>186479.000000</td>\n",
       "      <td>186479.000000</td>\n",
       "      <td>186479.000000</td>\n",
       "      <td>186479.000000</td>\n",
       "      <td>186479.000000</td>\n",
       "    </tr>\n",
       "    <tr>\n",
       "      <td>mean</td>\n",
       "      <td>1035.600137</td>\n",
       "      <td>4375.845328</td>\n",
       "      <td>1439.582913</td>\n",
       "      <td>1.095566</td>\n",
       "      <td>6.524215</td>\n",
       "      <td>2008.809791</td>\n",
       "    </tr>\n",
       "    <tr>\n",
       "      <td>std</td>\n",
       "      <td>622.461272</td>\n",
       "      <td>4897.789595</td>\n",
       "      <td>2775.340279</td>\n",
       "      <td>0.712813</td>\n",
       "      <td>3.486855</td>\n",
       "      <td>1.410062</td>\n",
       "    </tr>\n",
       "    <tr>\n",
       "      <td>min</td>\n",
       "      <td>2.000000</td>\n",
       "      <td>1.000000</td>\n",
       "      <td>1.000000</td>\n",
       "      <td>1.000000</td>\n",
       "      <td>1.000000</td>\n",
       "      <td>1956.000000</td>\n",
       "    </tr>\n",
       "    <tr>\n",
       "      <td>25%</td>\n",
       "      <td>488.000000</td>\n",
       "      <td>686.000000</td>\n",
       "      <td>79.000000</td>\n",
       "      <td>1.000000</td>\n",
       "      <td>3.000000</td>\n",
       "      <td>2008.000000</td>\n",
       "    </tr>\n",
       "    <tr>\n",
       "      <td>50%</td>\n",
       "      <td>1021.000000</td>\n",
       "      <td>2203.000000</td>\n",
       "      <td>195.000000</td>\n",
       "      <td>1.000000</td>\n",
       "      <td>7.000000</td>\n",
       "      <td>2009.000000</td>\n",
       "    </tr>\n",
       "    <tr>\n",
       "      <td>75%</td>\n",
       "      <td>1624.000000</td>\n",
       "      <td>6714.000000</td>\n",
       "      <td>887.000000</td>\n",
       "      <td>1.000000</td>\n",
       "      <td>10.000000</td>\n",
       "      <td>2010.000000</td>\n",
       "    </tr>\n",
       "    <tr>\n",
       "      <td>max</td>\n",
       "      <td>2100.000000</td>\n",
       "      <td>18744.000000</td>\n",
       "      <td>12647.000000</td>\n",
       "      <td>9.000000</td>\n",
       "      <td>12.000000</td>\n",
       "      <td>2011.000000</td>\n",
       "    </tr>\n",
       "  </tbody>\n",
       "</table>\n",
       "</div>"
      ],
      "text/plain": [
       "              userID       artistID          tagID            day  \\\n",
       "count  186479.000000  186479.000000  186479.000000  186479.000000   \n",
       "mean     1035.600137    4375.845328    1439.582913       1.095566   \n",
       "std       622.461272    4897.789595    2775.340279       0.712813   \n",
       "min         2.000000       1.000000       1.000000       1.000000   \n",
       "25%       488.000000     686.000000      79.000000       1.000000   \n",
       "50%      1021.000000    2203.000000     195.000000       1.000000   \n",
       "75%      1624.000000    6714.000000     887.000000       1.000000   \n",
       "max      2100.000000   18744.000000   12647.000000       9.000000   \n",
       "\n",
       "               month           year  \n",
       "count  186479.000000  186479.000000  \n",
       "mean        6.524215    2008.809791  \n",
       "std         3.486855       1.410062  \n",
       "min         1.000000    1956.000000  \n",
       "25%         3.000000    2008.000000  \n",
       "50%         7.000000    2009.000000  \n",
       "75%        10.000000    2010.000000  \n",
       "max        12.000000    2011.000000  "
      ]
     },
     "execution_count": 26,
     "metadata": {},
     "output_type": "execute_result"
    }
   ],
   "source": [
    "db_user_taggedartists.describe(include='all') #includes also the cathegorical values"
   ]
  },
  {
   "cell_type": "markdown",
   "metadata": {},
   "source": [
    "##### EDA on user_taggedartists_timestamps dataset"
   ]
  },
  {
   "cell_type": "code",
   "execution_count": 27,
   "metadata": {},
   "outputs": [
    {
     "data": {
      "text/html": [
       "<div>\n",
       "<style scoped>\n",
       "    .dataframe tbody tr th:only-of-type {\n",
       "        vertical-align: middle;\n",
       "    }\n",
       "\n",
       "    .dataframe tbody tr th {\n",
       "        vertical-align: top;\n",
       "    }\n",
       "\n",
       "    .dataframe thead th {\n",
       "        text-align: right;\n",
       "    }\n",
       "</style>\n",
       "<table border=\"1\" class=\"dataframe\">\n",
       "  <thead>\n",
       "    <tr style=\"text-align: right;\">\n",
       "      <th></th>\n",
       "      <th>userID</th>\n",
       "      <th>artistID</th>\n",
       "      <th>tagID</th>\n",
       "      <th>timestamp</th>\n",
       "    </tr>\n",
       "  </thead>\n",
       "  <tbody>\n",
       "    <tr>\n",
       "      <td>0</td>\n",
       "      <td>2</td>\n",
       "      <td>52</td>\n",
       "      <td>13</td>\n",
       "      <td>1238536800000</td>\n",
       "    </tr>\n",
       "    <tr>\n",
       "      <td>1</td>\n",
       "      <td>2</td>\n",
       "      <td>52</td>\n",
       "      <td>15</td>\n",
       "      <td>1238536800000</td>\n",
       "    </tr>\n",
       "    <tr>\n",
       "      <td>2</td>\n",
       "      <td>2</td>\n",
       "      <td>52</td>\n",
       "      <td>18</td>\n",
       "      <td>1238536800000</td>\n",
       "    </tr>\n",
       "    <tr>\n",
       "      <td>3</td>\n",
       "      <td>2</td>\n",
       "      <td>52</td>\n",
       "      <td>21</td>\n",
       "      <td>1238536800000</td>\n",
       "    </tr>\n",
       "    <tr>\n",
       "      <td>4</td>\n",
       "      <td>2</td>\n",
       "      <td>52</td>\n",
       "      <td>41</td>\n",
       "      <td>1238536800000</td>\n",
       "    </tr>\n",
       "    <tr>\n",
       "      <td>5</td>\n",
       "      <td>2</td>\n",
       "      <td>63</td>\n",
       "      <td>13</td>\n",
       "      <td>1238536800000</td>\n",
       "    </tr>\n",
       "    <tr>\n",
       "      <td>6</td>\n",
       "      <td>2</td>\n",
       "      <td>63</td>\n",
       "      <td>14</td>\n",
       "      <td>1238536800000</td>\n",
       "    </tr>\n",
       "    <tr>\n",
       "      <td>7</td>\n",
       "      <td>2</td>\n",
       "      <td>63</td>\n",
       "      <td>23</td>\n",
       "      <td>1238536800000</td>\n",
       "    </tr>\n",
       "    <tr>\n",
       "      <td>8</td>\n",
       "      <td>2</td>\n",
       "      <td>63</td>\n",
       "      <td>40</td>\n",
       "      <td>1238536800000</td>\n",
       "    </tr>\n",
       "    <tr>\n",
       "      <td>9</td>\n",
       "      <td>2</td>\n",
       "      <td>73</td>\n",
       "      <td>13</td>\n",
       "      <td>1238536800000</td>\n",
       "    </tr>\n",
       "  </tbody>\n",
       "</table>\n",
       "</div>"
      ],
      "text/plain": [
       "   userID  artistID  tagID      timestamp\n",
       "0       2        52     13  1238536800000\n",
       "1       2        52     15  1238536800000\n",
       "2       2        52     18  1238536800000\n",
       "3       2        52     21  1238536800000\n",
       "4       2        52     41  1238536800000\n",
       "5       2        63     13  1238536800000\n",
       "6       2        63     14  1238536800000\n",
       "7       2        63     23  1238536800000\n",
       "8       2        63     40  1238536800000\n",
       "9       2        73     13  1238536800000"
      ]
     },
     "execution_count": 27,
     "metadata": {},
     "output_type": "execute_result"
    }
   ],
   "source": [
    "db_user_taggedartists_timestamps.head(10)"
   ]
  },
  {
   "cell_type": "code",
   "execution_count": 28,
   "metadata": {},
   "outputs": [
    {
     "data": {
      "text/plain": [
       "(186479, 4)"
      ]
     },
     "execution_count": 28,
     "metadata": {},
     "output_type": "execute_result"
    }
   ],
   "source": [
    "db_user_taggedartists_timestamps.shape"
   ]
  },
  {
   "cell_type": "code",
   "execution_count": 29,
   "metadata": {},
   "outputs": [
    {
     "data": {
      "text/plain": [
       "userID       int64\n",
       "artistID     int64\n",
       "tagID        int64\n",
       "timestamp    int64\n",
       "dtype: object"
      ]
     },
     "execution_count": 29,
     "metadata": {},
     "output_type": "execute_result"
    }
   ],
   "source": [
    "db_user_taggedartists_timestamps.dtypes"
   ]
  },
  {
   "cell_type": "code",
   "execution_count": 30,
   "metadata": {},
   "outputs": [
    {
     "data": {
      "text/html": [
       "<div>\n",
       "<style scoped>\n",
       "    .dataframe tbody tr th:only-of-type {\n",
       "        vertical-align: middle;\n",
       "    }\n",
       "\n",
       "    .dataframe tbody tr th {\n",
       "        vertical-align: top;\n",
       "    }\n",
       "\n",
       "    .dataframe thead th {\n",
       "        text-align: right;\n",
       "    }\n",
       "</style>\n",
       "<table border=\"1\" class=\"dataframe\">\n",
       "  <thead>\n",
       "    <tr style=\"text-align: right;\">\n",
       "      <th></th>\n",
       "      <th>userID</th>\n",
       "      <th>artistID</th>\n",
       "      <th>tagID</th>\n",
       "      <th>timestamp</th>\n",
       "    </tr>\n",
       "  </thead>\n",
       "  <tbody>\n",
       "    <tr>\n",
       "      <td>count</td>\n",
       "      <td>186479.000000</td>\n",
       "      <td>186479.000000</td>\n",
       "      <td>186479.000000</td>\n",
       "      <td>1.864790e+05</td>\n",
       "    </tr>\n",
       "    <tr>\n",
       "      <td>mean</td>\n",
       "      <td>1035.600137</td>\n",
       "      <td>4375.845328</td>\n",
       "      <td>1439.582913</td>\n",
       "      <td>1.239204e+12</td>\n",
       "    </tr>\n",
       "    <tr>\n",
       "      <td>std</td>\n",
       "      <td>622.461272</td>\n",
       "      <td>4897.789595</td>\n",
       "      <td>2775.340279</td>\n",
       "      <td>4.299091e+10</td>\n",
       "    </tr>\n",
       "    <tr>\n",
       "      <td>min</td>\n",
       "      <td>2.000000</td>\n",
       "      <td>1.000000</td>\n",
       "      <td>1.000000</td>\n",
       "      <td>-4.287204e+11</td>\n",
       "    </tr>\n",
       "    <tr>\n",
       "      <td>25%</td>\n",
       "      <td>488.000000</td>\n",
       "      <td>686.000000</td>\n",
       "      <td>79.000000</td>\n",
       "      <td>1.209593e+12</td>\n",
       "    </tr>\n",
       "    <tr>\n",
       "      <td>50%</td>\n",
       "      <td>1021.000000</td>\n",
       "      <td>2203.000000</td>\n",
       "      <td>195.000000</td>\n",
       "      <td>1.243807e+12</td>\n",
       "    </tr>\n",
       "    <tr>\n",
       "      <td>75%</td>\n",
       "      <td>1624.000000</td>\n",
       "      <td>6714.000000</td>\n",
       "      <td>887.000000</td>\n",
       "      <td>1.275343e+12</td>\n",
       "    </tr>\n",
       "    <tr>\n",
       "      <td>max</td>\n",
       "      <td>2100.000000</td>\n",
       "      <td>18744.000000</td>\n",
       "      <td>12647.000000</td>\n",
       "      <td>1.304941e+12</td>\n",
       "    </tr>\n",
       "  </tbody>\n",
       "</table>\n",
       "</div>"
      ],
      "text/plain": [
       "              userID       artistID          tagID     timestamp\n",
       "count  186479.000000  186479.000000  186479.000000  1.864790e+05\n",
       "mean     1035.600137    4375.845328    1439.582913  1.239204e+12\n",
       "std       622.461272    4897.789595    2775.340279  4.299091e+10\n",
       "min         2.000000       1.000000       1.000000 -4.287204e+11\n",
       "25%       488.000000     686.000000      79.000000  1.209593e+12\n",
       "50%      1021.000000    2203.000000     195.000000  1.243807e+12\n",
       "75%      1624.000000    6714.000000     887.000000  1.275343e+12\n",
       "max      2100.000000   18744.000000   12647.000000  1.304941e+12"
      ]
     },
     "execution_count": 30,
     "metadata": {},
     "output_type": "execute_result"
    }
   ],
   "source": [
    "db_user_taggedartists_timestamps.describe(include='all') #includes also the cathegorical values"
   ]
  },
  {
   "cell_type": "markdown",
   "metadata": {},
   "source": [
    "#### 1. Calculate the number of users and artists present in the network. "
   ]
  },
  {
   "cell_type": "code",
   "execution_count": 31,
   "metadata": {},
   "outputs": [
    {
     "name": "stdout",
     "output_type": "stream",
     "text": [
      "Number of artists:  17632\n",
      "Number of users:  1892\n"
     ]
    }
   ],
   "source": [
    "print(\"Number of artists: \", db_artists.shape[0])\n",
    "print(\"Number of users: \", len(db_user_artists[\"userID\"].unique()))"
   ]
  },
  {
   "cell_type": "markdown",
   "metadata": {},
   "source": [
    "#### 2. Calculate the number of bi-directional user-friend relations pairs. "
   ]
  },
  {
   "cell_type": "code",
   "execution_count": 56,
   "metadata": {},
   "outputs": [
    {
     "name": "stdout",
     "output_type": "stream",
     "text": [
      "Number of bi-directional user-friend relations pairs:  25434\n"
     ]
    }
   ],
   "source": [
    "bidirectionalFriends = 0\n",
    "for userRelation in db_user_friends.values:\n",
    "    friendRelations = db_user_friends.loc[db_user_friends['userID'] == userRelation[1]]\n",
    "    for friendRelation in friendRelations.values:\n",
    "        if userRelation[0] == friendRelation[1] and userRelation[1] == friendRelation[0]:\n",
    "            bidirectionalFriends = bidirectionalFriends + 1\n",
    "print(\"Number of bi-directional user-friend relations pairs: \", bidirectionalFriends)"
   ]
  },
  {
   "cell_type": "markdown",
   "metadata": {},
   "source": [
    "#### 3. Calculate the average friend relations per user. "
   ]
  },
  {
   "cell_type": "code",
   "execution_count": 74,
   "metadata": {},
   "outputs": [
    {
     "name": "stdout",
     "output_type": "stream",
     "text": [
      "The average friend relations per user is:  13.44291754756871\n"
     ]
    }
   ],
   "source": [
    "usersRelationsGrouped = db_user_friends.groupby(\"userID\")[\"friendID\"].count()\n",
    "print(\"The average friend relations per user is: \", np.mean(usersRelationsGrouped))"
   ]
  },
  {
   "cell_type": "markdown",
   "metadata": {},
   "source": [
    "#### 4. Calculate the number of user-listened artists relations (couples user-artist). "
   ]
  },
  {
   "cell_type": "code",
   "execution_count": 85,
   "metadata": {},
   "outputs": [
    {
     "name": "stdout",
     "output_type": "stream",
     "text": [
      "Number of user-listened artists relations:\n"
     ]
    },
    {
     "data": {
      "text/plain": [
       "userID\n",
       "2       44\n",
       "3       48\n",
       "4       46\n",
       "5       46\n",
       "6       46\n",
       "        ..\n",
       "2095    41\n",
       "2096    42\n",
       "2097    46\n",
       "2099    43\n",
       "2100    44\n",
       "Name: artistID, Length: 1892, dtype: int64"
      ]
     },
     "execution_count": 85,
     "metadata": {},
     "output_type": "execute_result"
    }
   ],
   "source": [
    "print(\"Number of user-listened artists relations:\")\n",
    "userListenedArtists = db_user_artists.groupby(\"userID\")[\"artistID\"].count()\n",
    "userListenedArtists"
   ]
  },
  {
   "cell_type": "markdown",
   "metadata": {},
   "source": [
    "#### 5. Plot the distribution of the number of artists listened by each user, and calculate the average and mode of the distribution."
   ]
  },
  {
   "cell_type": "code",
   "execution_count": 92,
   "metadata": {},
   "outputs": [
    {
     "name": "stdout",
     "output_type": "stream",
     "text": [
      "Average : 44.1284355179704\n",
      "Mode of the distribution : [45]\n"
     ]
    },
    {
     "data": {
      "image/png": "[encoded data removed]",
      "text/plain": [
       "<Figure size 432x288 with 1 Axes>"
      ]
     },
     "metadata": {
      "needs_background": "light"
     },
     "output_type": "display_data"
    }
   ],
   "source": [
    "sns.distplot(userListenedArtists.values)\n",
    "print(\"Average :\", np.mean(userListenedArtists.values))\n",
    "print(\"Mode of the distribution :\",stats.mode(userListenedArtists.values)[0])"
   ]
  },
  {
   "cell_type": "markdown",
   "metadata": {},
   "source": [
    "#### 6. Plot the distribution of the number of tag assignments per each artist, and calculate the average and mode of the distribution."
   ]
  },
  {
   "cell_type": "code",
   "execution_count": 97,
   "metadata": {},
   "outputs": [
    {
     "name": "stdout",
     "output_type": "stream",
     "text": [
      "Average : 14.890920705901141\n",
      "Mode of the distribution : [1]\n"
     ]
    },
    {
     "data": {
      "image/png": "[encoded data removed]",
      "text/plain": [
       "<Figure size 432x288 with 1 Axes>"
      ]
     },
     "metadata": {
      "needs_background": "light"
     },
     "output_type": "display_data"
    }
   ],
   "source": [
    "artistsTags = db_user_taggedartists_timestamps.groupby(\"artistID\")[\"tagID\"].count()\n",
    "\n",
    "sns.distplot(artistsTags.values)\n",
    "print(\"Average :\", np.mean(artistsTags.values))\n",
    "print(\"Mode of the distribution :\",stats.mode(artistsTags.values)[0])"
   ]
  },
  {
   "cell_type": "markdown",
   "metadata": {},
   "source": [
    "#### 7. Plot the distribution of the number of tag assignments per each user, and calculate the average and mode of the distribution."
   ]
  },
  {
   "cell_type": "code",
   "execution_count": 100,
   "metadata": {},
   "outputs": [
    {
     "name": "stdout",
     "output_type": "stream",
     "text": [
      "Average : 98.56183932346723\n",
      "Mode of the distribution : [3]\n"
     ]
    },
    {
     "data": {
      "image/png": "[encoded data removed]",
      "text/plain": [
       "<Figure size 432x288 with 1 Axes>"
      ]
     },
     "metadata": {
      "needs_background": "light"
     },
     "output_type": "display_data"
    }
   ],
   "source": [
    "usersTags = db_user_taggedartists_timestamps.groupby(\"userID\")[\"tagID\"].count()\n",
    "\n",
    "sns.distplot(usersTags.values)\n",
    "print(\"Average :\", np.mean(usersTags.values))\n",
    "print(\"Mode of the distribution :\",stats.mode(usersTags.values)[0])"
   ]
  },
  {
   "cell_type": "markdown",
   "metadata": {},
   "source": [
    "#### 8. Plot the distribution of the number of distinct tag assignments per each artist, and calculate the average and mode of the distribution."
   ]
  },
  {
   "cell_type": "code",
   "execution_count": 115,
   "metadata": {},
   "outputs": [
    {
     "name": "stdout",
     "output_type": "stream",
     "text": [
      "Average : 8.763874470973409\n",
      "Mode of the distribution : [1]\n"
     ]
    },
    {
     "data": {
      "image/png": "[encoded data removed]",
      "text/plain": [
       "<Figure size 432x288 with 1 Axes>"
      ]
     },
     "metadata": {
      "needs_background": "light"
     },
     "output_type": "display_data"
    }
   ],
   "source": [
    "artistsUniqueTags = db_user_taggedartists_timestamps.groupby(\"artistID\")[\"tagID\"].unique().apply(lambda x: len(x))\n",
    "sns.distplot(artistsUniqueTags.values)\n",
    "print(\"Average :\", np.mean(artistsUniqueTags.values))\n",
    "print(\"Mode of the distribution :\",stats.mode(artistsUniqueTags.values)[0])"
   ]
  },
  {
   "cell_type": "markdown",
   "metadata": {},
   "source": [
    "## Task2: Clustering tags"
   ]
  },
  {
   "cell_type": "code",
   "execution_count": 36,
   "metadata": {},
   "outputs": [
    {
     "ename": "NameError",
     "evalue": "name 'data5' is not defined",
     "output_type": "error",
     "traceback": [
      "\u001b[1;31m---------------------------------------------------------------------------\u001b[0m",
      "\u001b[1;31mNameError\u001b[0m                                 Traceback (most recent call last)",
      "\u001b[1;32m<ipython-input-36-0d110fc3922a>\u001b[0m in \u001b[0;36m<module>\u001b[1;34m\u001b[0m\n\u001b[1;32m----> 1\u001b[1;33m \u001b[0mprint\u001b[0m\u001b[1;33m(\u001b[0m\u001b[0mdata5\u001b[0m\u001b[1;33m)\u001b[0m\u001b[1;33m\u001b[0m\u001b[1;33m\u001b[0m\u001b[0m\n\u001b[0m\u001b[0;32m      2\u001b[0m \u001b[0mfiltered\u001b[0m \u001b[1;33m=\u001b[0m \u001b[0mdata5\u001b[0m\u001b[1;33m.\u001b[0m\u001b[0mgroupby\u001b[0m\u001b[1;33m(\u001b[0m\u001b[1;34m\"tagID\"\u001b[0m\u001b[1;33m)\u001b[0m\u001b[1;33m.\u001b[0m\u001b[0mfilter\u001b[0m\u001b[1;33m(\u001b[0m\u001b[1;32mlambda\u001b[0m \u001b[0mx\u001b[0m\u001b[1;33m:\u001b[0m \u001b[0mx\u001b[0m\u001b[1;33m[\u001b[0m\u001b[1;34m'tagID'\u001b[0m\u001b[1;33m]\u001b[0m\u001b[1;33m.\u001b[0m\u001b[0mcount\u001b[0m\u001b[1;33m(\u001b[0m\u001b[1;33m)\u001b[0m \u001b[1;33m>\u001b[0m \u001b[1;36m3\u001b[0m\u001b[1;33m)\u001b[0m\u001b[1;33m\u001b[0m\u001b[1;33m\u001b[0m\u001b[0m\n\u001b[0;32m      3\u001b[0m \u001b[0mfiltered\u001b[0m\u001b[1;33m\u001b[0m\u001b[1;33m\u001b[0m\u001b[0m\n",
      "\u001b[1;31mNameError\u001b[0m: name 'data5' is not defined"
     ]
    }
   ],
   "source": [
    "print(data5)\n",
    "filtered = data5.groupby(\"tagID\").filter(lambda x: x['tagID'].count() > 3)\n",
    "filtered"
   ]
  },
  {
   "cell_type": "code",
   "execution_count": null,
   "metadata": {},
   "outputs": [],
   "source": [
    "adjacency_matrix = pd.crosstab(filtered['tagID'], filtered['artistID']).apply(lambda r: r/r.max(), axis=1)\n",
    "adjacency_matrix"
   ]
  },
  {
   "cell_type": "code",
   "execution_count": null,
   "metadata": {},
   "outputs": [],
   "source": [
    "#similarity matrix\n",
    "similarity_matrix = np.zeros((len(adjacency_matrix),len(adjacency_matrix)))\n",
    "for i in range(len(adjacency_matrix)):\n",
    "    for j in range(len(adjacency_matrix)):\n",
    "        similarity_matrix[i][j] = np.sum(np.multiply(adjacency_matrix.values[i,:], adjacency_matrix.values[j,:]));\n",
    "similarity_matrix      "
   ]
  },
  {
   "cell_type": "code",
   "execution_count": null,
   "metadata": {},
   "outputs": [],
   "source": [
    "from scipy.spatial.distance import cdist\n",
    "#cdist computes the ecuclidean distance between each pair of points in input\n",
    "\n",
    "X = pd.DataFrame(similarity_matrix)\n",
    "distortions = []\n",
    "K = range(1,20)\n",
    "for k in K:\n",
    "    print(k)\n",
    "    kmeanModel = KMeans(n_clusters=k).fit(X)\n",
    "    # minimum distance between each point and its cluster center\n",
    "    distortions.append(sum(np.min(cdist(X, kmeanModel.cluster_centers_, 'euclidean'), axis=1)) / X.shape[0])\n",
    "    #inertia (WSS) =Sum of squared distances of samples to their closest cluster center\n",
    "    #distortions.append(kmeanModel.inertia_)"
   ]
  },
  {
   "cell_type": "code",
   "execution_count": null,
   "metadata": {},
   "outputs": [],
   "source": [
    "plt.plot(K, distortions, 'bx-')\n",
    "plt.xlabel('k')\n",
    "plt.ylabel('Distortion')\n",
    "plt.title('The Elbow Method showing the optimal k')\n",
    "plt.show()"
   ]
  },
  {
   "cell_type": "code",
   "execution_count": null,
   "metadata": {},
   "outputs": [],
   "source": [
    "kmeanModel = KMeans(n_clusters=15).fit(X)"
   ]
  },
  {
   "cell_type": "code",
   "execution_count": null,
   "metadata": {},
   "outputs": [],
   "source": [
    "tags = pd.read_csv(\"dataset/tags.csv\",error_bad_lines=False, sep = '\\t')\n",
    "print(X.loc[kmeanModel.labels_==0])\n",
    "for i in range(500):\n",
    "    print(tags.values[i])\n",
    "\n"
   ]
  },
  {
   "cell_type": "code",
   "execution_count": null,
   "metadata": {},
   "outputs": [],
   "source": [
    "print(\"Cluster labels: {}\".format(np.unique(kmeanModel.labels_)))"
   ]
  },
  {
   "cell_type": "code",
   "execution_count": null,
   "metadata": {},
   "outputs": [],
   "source": [
    "cluster0=X.loc[kmeanModel.labels_==0]\n",
    "cluster1=X.loc[kmeanModel.labels_==1]\n",
    "cluster2=X.loc[kmeanModel.labels_==2]\n",
    "\n",
    "\n",
    "centroids = kmeanModel.cluster_centers_\n",
    "print(cluster1)"
   ]
  },
  {
   "cell_type": "code",
   "execution_count": null,
   "metadata": {},
   "outputs": [],
   "source": [
    "plt.scatter(cluster0[0], cluster0[1] , c='blue')\n",
    "#plt.scatter(cluster1['0'], cluster1['1'] , c='red')\n",
    "plt.scatter(centroids[:,0], centroids[:,1], marker='x', color='black')"
   ]
  },
  {
   "cell_type": "code",
   "execution_count": null,
   "metadata": {},
   "outputs": [],
   "source": [
    "plt.scatter(X[:, 0], X[:, 1], c=y_kmeans, s=50, cmap='viridis')\n",
    "\n",
    "centers = kmeanModel.cluster_centers_\n",
    "plt.scatter(centers[:, 0], centers[:, 1], c='black', s=200, alpha=0.5);"
   ]
  },
  {
   "cell_type": "markdown",
   "metadata": {},
   "source": [
    "## Task3: Social network analysis \n",
    "#### 1. Compute the network properties: degree distribution, density, diameter. "
   ]
  },
  {
   "cell_type": "code",
   "execution_count": 39,
   "metadata": {},
   "outputs": [
    {
     "name": "stdout",
     "output_type": "stream",
     "text": [
      "Number of nodes in the graph:  1892\n",
      "Number of edges in the graph:  12717\n"
     ]
    },
    {
     "data": {
      "image/png": "[encoded data removed]",
      "text/plain": [
       "<Figure size 576x576 with 1 Axes>"
      ]
     },
     "metadata": {},
     "output_type": "display_data"
    }
   ],
   "source": [
    "G_friends = nx.Graph()\n",
    "G_friends.add_edges_from(db_user_friends.values)\n",
    "\n",
    "print(\"Number of nodes in the graph: \", len(G_friends.nodes()))\n",
    "print(\"Number of edges in the graph: \", len(G_friends.edges()))\n",
    "\n",
    "pos = nx.spring_layout(G_friends)\n",
    "plt.figure(figsize=(8, 8))\n",
    "plt.axis(\"off\")\n",
    "nx.draw_networkx_nodes(G_friends, pos, node_size=600, node_color=\"blue\", alpha=0.3)\n",
    "nx.draw_networkx_edges(G_friends, pos, alpha=0.3)\n",
    "nx.draw_networkx_labels(G_friends, pos)\n",
    "plt.show(G_friends)\n"
   ]
  },
  {
   "cell_type": "code",
   "execution_count": 11,
   "metadata": {},
   "outputs": [
    {
     "data": {
      "image/png": "[encoded data removed]",
      "text/plain": [
       "<Figure size 432x288 with 1 Axes>"
      ]
     },
     "metadata": {
      "needs_background": "light"
     },
     "output_type": "display_data"
    }
   ],
   "source": [
    "degree_dict=dict(nx.degree(G_friends))\n",
    "\n",
    "degree_sequence=list(degree_dict.values())\n",
    "degree_sequence=sorted(degree_sequence)\n",
    "weights=np.ones_like(degree_sequence)/float(len(degree_sequence))\n",
    "\n",
    "plt.hist(degree_sequence, bins=np.arange(np.max(degree_sequence)+1),weights=weights)\n",
    "plt.title(\"Degree Distribution\")\n",
    "plt.xlabel(\"Degree\")\n",
    "plt.ylabel(\"Frequency\")\n",
    "plt.show()"
   ]
  },
  {
   "cell_type": "code",
   "execution_count": 74,
   "metadata": {},
   "outputs": [
    {
     "name": "stdout",
     "output_type": "stream",
     "text": [
      "diameter: 1\n",
      "1843\n",
      "7\n",
      "2\n",
      "3\n",
      "2\n",
      "2\n",
      "2\n",
      "2\n",
      "3\n",
      "2\n",
      "3\n",
      "4\n",
      "2\n",
      "2\n",
      "2\n",
      "2\n",
      "3\n",
      "2\n",
      "2\n",
      "2\n"
     ]
    }
   ],
   "source": [
    "nx.is_connected(G_friends)\n",
    "prova = list(nx.connected_component_subgraphs(G_friends))\n",
    "for i in prova:\n",
    "    print(len(i.nodes))"
   ]
  },
  {
   "cell_type": "code",
   "execution_count": null,
   "metadata": {},
   "outputs": [],
   "source": [
    "for el in prova:\n",
    "    print(\"diameter: %d\" % nx.diameter(el))\n",
    "\n",
    "print(\"density: %s\" % nx.density(G_friends))\n"
   ]
  },
  {
   "cell_type": "markdown",
   "metadata": {},
   "source": [
    "#### 2. Compute the centrality measures, select the one that you consider more representative and justify your choice."
   ]
  },
  {
   "cell_type": "code",
   "execution_count": 63,
   "metadata": {},
   "outputs": [
    {
     "name": "stdout",
     "output_type": "stream",
     "text": [
      "Central node according to degree centrality is:  1543\n"
     ]
    }
   ],
   "source": [
    "degree_centr = nx.degree_centrality(G_friends)\n",
    "degree_centr_sorted = sorted(((v,k) for k,v in degree_centr.items()), reverse=True)\n",
    "print(\"Central node according to degree centrality is: \", degree_centr_sorted[0][1])"
   ]
  },
  {
   "cell_type": "code",
   "execution_count": 64,
   "metadata": {},
   "outputs": [
    {
     "name": "stdout",
     "output_type": "stream",
     "text": [
      "Central node according to betweenness centrality is:  1543\n"
     ]
    }
   ],
   "source": [
    "betw_centr = nx.betweenness_centrality(G_friends)\n",
    "betw_centr_sorted = sorted(((v,k) for k,v in betw_centr.items()), reverse=True)\n",
    "print(\"Central node according to betweenness centrality is: \", betw_centr_sorted[0][1])"
   ]
  },
  {
   "cell_type": "code",
   "execution_count": 65,
   "metadata": {},
   "outputs": [
    {
     "name": "stdout",
     "output_type": "stream",
     "text": [
      "Central node according to closeness centrality is:  831\n"
     ]
    }
   ],
   "source": [
    "close_centr = nx.closeness_centrality(G_friends)\n",
    "close_centr_sorted = sorted(((v,k) for k,v in close_centr.items()), reverse=True)\n",
    "print(\"Central node according to closeness centrality is: \", close_centr_sorted[0][1])"
   ]
  },
  {
   "cell_type": "markdown",
   "metadata": {},
   "source": [
    "#### 3. Extract: \n",
    "    - The communities based on social network \n",
    "    - The communities based on similarity (e.g., preferred artist(s), music type)"
   ]
  },
  {
   "cell_type": "code",
   "execution_count": 101,
   "metadata": {},
   "outputs": [
    {
     "name": "stdout",
     "output_type": "stream",
     "text": [
      "Number of communities:  29\n",
      "Louvain communities:  {2: 0, 275: 0, 428: 0, 515: 0, 761: 0, 831: 0, 909: 1, 1209: 0, 1210: 0, 1230: 2, 1327: 0, 1585: 0, 1625: 2, 1869: 0, 3: 2, 78: 2, 255: 2, 460: 2, 837: 2, 1740: 2, 1801: 2, 1975: 2, 4: 0, 99: 0, 124: 0, 211: 0, 264: 0, 493: 0, 520: 0, 534: 0, 850: 0, 1103: 0, 2080: 0, 5: 2, 228: 2, 725: 2, 1271: 2, 1310: 1, 1481: 2, 1785: 3, 6: 2, 149: 4, 1697: 2, 1761: 2, 7: 1, 46: 5, 232: 5, 390: 5, 545: 1, 815: 5, 873: 1, 1002: 5, 1135: 5, 1184: 5, 1308: 1, 1453: 5, 1466: 1, 1649: 5, 1666: 1, 1734: 5, 2020: 1, 2037: 5, 2061: 5, 8: 5, 339: 5, 370: 4, 419: 5, 749: 5, 1017: 5, 1178: 5, 1515: 5, 1568: 5, 1811: 5, 1813: 5, 9: 1, 743: 1, 1956: 1, 10: 4, 1196: 3, 1498: 4, 1530: 4, 1562: 3, 1986: 4, 11: 5, 12: 5, 25: 1, 129: 5, 136: 5, 145: 5, 230: 5, 278: 5, 405: 5, 684: 5, 795: 5, 804: 5, 816: 5, 859: 0, 984: 5, 1132: 5, 1136: 5, 1179: 5, 1189: 5, 1475: 1, 1577: 5, 1684: 4, 1766: 5, 1780: 5, 1828: 5, 2004: 5, 2021: 5, 127: 4, 133: 5, 146: 5, 236: 5, 240: 5, 258: 5, 400: 5, 593: 5, 730: 5, 797: 5, 861: 5, 930: 5, 941: 5, 998: 1, 1023: 5, 1056: 5, 1088: 4, 1145: 5, 1146: 4, 1253: 5, 1272: 5, 1346: 5, 1348: 5, 1368: 1, 1455: 5, 1628: 5, 1636: 5, 1709: 3, 1726: 5, 1776: 5, 1820: 5, 1895: 1, 13: 5, 481: 5, 732: 5, 1659: 5, 2041: 1, 14: 3, 608: 3, 642: 2, 754: 3, 1258: 0, 1357: 3, 1554: 3, 1702: 3, 15: 2, 122: 2, 143: 2, 237: 0, 266: 4, 416: 2, 454: 2, 771: 3, 1243: 4, 1281: 3, 1383: 2, 1556: 2, 1662: 1, 1805: 2, 1879: 3, 1993: 5, 2025: 0, 2036: 1, 16: 1, 252: 5, 437: 5, 701: 5, 726: 1, 790: 1, 1226: 5, 1263: 5, 1503: 5, 1567: 5, 1632: 5, 1665: 5, 1706: 1, 1833: 5, 1937: 1, 2000: 6, 2068: 5, 17: 5, 330: 5, 632: 5, 1071: 5, 1661: 5, 1917: 5, 18: 4, 298: 4, 308: 4, 401: 4, 475: 4, 675: 5, 1183: 4, 1302: 4, 1424: 4, 1458: 4, 1465: 3, 20: 2, 1891: 2, 21: 5, 207: 5, 1233: 5, 1305: 5, 1646: 5, 22: 7, 59: 0, 80: 7, 170: 7, 198: 4, 349: 7, 395: 7, 655: 4, 903: 7, 1249: 2, 1362: 3, 1543: 3, 1589: 7, 1865: 0, 23: 3, 107: 3, 24: 5, 150: 5, 231: 5, 329: 5, 361: 4, 417: 1, 435: 8, 502: 5, 898: 5, 1027: 1, 1033: 5, 1102: 5, 1590: 5, 1722: 5, 1973: 5, 310: 5, 463: 1, 636: 5, 852: 5, 1113: 5, 1222: 4, 1552: 5, 1647: 1, 2056: 1, 26: 1, 212: 3, 1094: 1, 1642: 0, 27: 1, 758: 1, 28: 0, 29: 7, 946: 7, 30: 1, 229: 1, 487: 1, 501: 5, 638: 5, 751: 1, 1130: 4, 1283: 1, 1614: 4, 31: 0, 62: 0, 210: 0, 218: 0, 306: 0, 371: 0, 396: 0, 474: 0, 499: 0, 575: 0, 658: 0, 762: 0, 954: 0, 1081: 0, 1163: 0, 1164: 0, 1173: 0, 1213: 0, 1255: 0, 1343: 0, 1514: 0, 1653: 0, 1835: 0, 2097: 0, 32: 0, 889: 3, 1474: 0, 1486: 0, 1905: 0, 33: 3, 282: 3, 457: 3, 496: 3, 750: 3, 845: 3, 1231: 3, 1779: 3, 34: 4, 35: 4, 972: 4, 36: 3, 525: 3, 747: 4, 949: 7, 37: 2, 142: 0, 1660: 2, 38: 5, 383: 5, 39: 0, 1125: 0, 2003: 0, 40: 0, 135: 0, 161: 0, 325: 0, 1089: 0, 1393: 0, 1841: 0, 2055: 0, 41: 3, 84: 3, 42: 1, 1778: 1, 43: 2, 172: 3, 179: 5, 193: 2, 260: 5, 615: 2, 637: 3, 691: 5, 757: 5, 1013: 7, 1076: 2, 1084: 2, 1167: 2, 1410: 5, 1469: 3, 1491: 5, 2006: 2, 44: 4, 319: 4, 485: 4, 1138: 4, 1152: 0, 1240: 4, 1381: 4, 45: 5, 49: 5, 271: 5, 413: 5, 514: 5, 518: 5, 537: 5, 542: 5, 589: 5, 1080: 5, 47: 5, 121: 5, 132: 5, 158: 5, 214: 5, 226: 5, 227: 5, 248: 5, 253: 5, 280: 5, 302: 5, 318: 5, 322: 5, 335: 5, 355: 5, 362: 4, 415: 5, 497: 5, 527: 5, 531: 5, 536: 5, 561: 2, 569: 5, 609: 5, 690: 5, 702: 1, 717: 5, 814: 3, 830: 5, 862: 5, 864: 4, 875: 5, 882: 5, 911: 5, 1053: 5, 1278: 5, 1304: 5, 1356: 5, 1365: 5, 1369: 5, 1413: 5, 1447: 5, 1478: 5, 1600: 5, 1674: 5, 1687: 5, 1742: 5, 1810: 5, 1821: 5, 1880: 5, 1954: 5, 2018: 5, 2054: 5, 58: 5, 470: 5, 1445: 5, 1471: 5, 1603: 3, 48: 5, 558: 5, 963: 5, 1014: 5, 1247: 5, 1560: 5, 1616: 5, 1648: 5, 1856: 5, 1859: 4, 1979: 5, 87: 5, 190: 2, 311: 5, 538: 5, 572: 5, 723: 5, 847: 5, 884: 5, 1007: 5, 1332: 5, 1337: 5, 1433: 1, 1434: 5, 1509: 4, 1563: 2, 1753: 5, 1803: 5, 1961: 5, 1983: 5, 2071: 5, 50: 3, 125: 3, 195: 3, 712: 4, 794: 3, 51: 3, 157: 3, 202: 4, 208: 3, 340: 5, 491: 3, 548: 3, 677: 2, 709: 3, 731: 3, 752: 7, 971: 3, 1020: 4, 1214: 3, 1287: 3, 1380: 3, 1527: 4, 1553: 3, 1586: 3, 1671: 3, 1818: 0, 1964: 0, 1968: 3, 1978: 3, 2008: 3, 52: 2, 153: 2, 1741: 4, 53: 5, 120: 5, 704: 6, 1476: 5, 54: 1, 333: 5, 2031: 1, 55: 2, 1382: 2, 56: 4, 254: 4, 478: 4, 668: 4, 1067: 4, 1488: 3, 1597: 4, 57: 7, 101: 7, 233: 5, 247: 7, 351: 5, 385: 5, 532: 7, 844: 7, 952: 4, 986: 3, 1054: 4, 1351: 7, 1521: 5, 1528: 5, 1730: 4, 203: 7, 338: 0, 399: 5, 425: 5, 571: 5, 620: 5, 634: 5, 646: 5, 680: 5, 703: 5, 878: 5, 1128: 5, 1150: 5, 1294: 5, 1300: 5, 1385: 5, 1457: 5, 1525: 5, 1851: 5, 1965: 5, 2059: 5, 2072: 1, 265: 7, 388: 4, 424: 3, 433: 3, 439: 6, 455: 0, 621: 5, 759: 3, 899: 1, 969: 1, 979: 0, 999: 3, 1062: 0, 1236: 3, 1358: 3, 1635: 0, 1737: 0, 2016: 2, 60: 2, 1087: 2, 2051: 2, 61: 4, 1006: 4, 1533: 5, 442: 0, 665: 0, 1165: 0, 1728: 0, 63: 3, 85: 3, 114: 3, 676: 3, 738: 3, 753: 3, 865: 3, 890: 3, 950: 3, 1174: 3, 1206: 3, 1275: 3, 1396: 3, 2077: 3, 64: 2, 407: 0, 1641: 2, 1907: 2, 65: 1, 118: 1, 1107: 1, 1312: 1, 1613: 1, 66: 0, 359: 0, 430: 0, 452: 0, 683: 0, 699: 0, 1029: 0, 1454: 0, 68: 5, 242: 5, 69: 2, 168: 2, 619: 2, 1194: 2, 1404: 2, 70: 9, 670: 9, 789: 9, 895: 9, 1005: 9, 1025: 9, 1574: 9, 71: 3, 891: 3, 1324: 3, 72: 5, 73: 0, 1010: 0, 1038: 0, 1883: 0, 74: 4, 533: 4, 1299: 4, 1852: 1, 2085: 4, 75: 5, 315: 5, 674: 5, 1664: 1, 76: 1, 77: 3, 594: 3, 1724: 0, 91: 2, 105: 2, 106: 2, 112: 0, 155: 2, 257: 0, 262: 2, 360: 2, 438: 2, 444: 2, 447: 2, 468: 2, 506: 0, 512: 7, 519: 3, 550: 3, 552: 2, 657: 7, 666: 0, 695: 2, 718: 2, 729: 2, 802: 2, 805: 2, 823: 3, 874: 2, 908: 2, 914: 2, 926: 2, 928: 2, 935: 0, 936: 2, 951: 0, 1024: 2, 1026: 3, 1098: 2, 1101: 2, 1149: 2, 1181: 2, 1211: 2, 1273: 2, 1284: 2, 1315: 2, 1403: 1, 1557: 2, 1575: 2, 1601: 0, 1604: 2, 1619: 3, 1621: 2, 1719: 1, 1732: 2, 1774: 2, 1827: 2, 1890: 2, 1892: 2, 1995: 2, 2028: 2, 2046: 2, 2066: 3, 79: 5, 144: 5, 414: 5, 421: 5, 479: 5, 486: 5, 858: 1, 1001: 5, 1022: 5, 1248: 5, 1769: 5, 2087: 5, 192: 7, 225: 7, 261: 7, 582: 7, 931: 7, 1296: 3, 1479: 7, 1501: 7, 1599: 7, 1877: 4, 81: 2, 921: 2, 1507: 2, 82: 4, 83: 2, 1342: 2, 1386: 2, 1459: 2, 1064: 3, 696: 3, 828: 3, 912: 3, 1627: 3, 1935: 1, 86: 7, 1418: 5, 1679: 7, 770: 5, 1057: 5, 88: 2, 1938: 2, 89: 5, 152: 5, 90: 1, 595: 3, 1106: 5, 1588: 1, 708: 2, 92: 10, 639: 10, 94: 0, 1656: 0, 1708: 0, 95: 5, 671: 5, 966: 5, 1104: 5, 96: 0, 128: 0, 1670: 1, 97: 4, 98: 5, 778: 5, 781: 5, 191: 0, 304: 0, 446: 0, 566: 0, 577: 0, 650: 0, 686: 0, 767: 0, 1319: 7, 1595: 0, 100: 0, 964: 7, 1161: 7, 1267: 4, 1388: 5, 1519: 7, 1743: 7, 2027: 5, 2070: 3, 102: 11, 1199: 11, 1939: 11, 103: 0, 1496: 0, 104: 5, 667: 5, 2042: 4, 366: 2, 108: 3, 113: 4, 235: 3, 376: 3, 489: 3, 516: 0, 592: 1, 616: 3, 685: 7, 711: 3, 1364: 2, 1490: 3, 1536: 3, 546: 3, 580: 3, 871: 3, 925: 3, 109: 3, 317: 3, 402: 3, 459: 3, 110: 5, 380: 5, 713: 5, 819: 1, 1069: 5, 1092: 1, 1572: 5, 1606: 5, 111: 8, 206: 8, 270: 8, 345: 8, 603: 8, 776: 8, 855: 8, 1677: 8, 1759: 8, 1862: 8, 611: 0, 1397: 3, 1401: 4, 835: 3, 877: 3, 1889: 3, 115: 2, 1032: 2, 1144: 2, 1274: 2, 2048: 2, 116: 6, 411: 6, 924: 2, 117: 0, 187: 0, 568: 0, 596: 0, 788: 0, 2014: 0, 1293: 1, 119: 3, 551: 3, 327: 5, 553: 5, 836: 5, 1298: 5, 1898: 5, 305: 5, 1055: 4, 1058: 5, 1277: 4, 1559: 5, 2038: 5, 296: 2, 492: 2, 508: 2, 692: 3, 876: 2, 1116: 2, 1221: 2, 1723: 2, 1789: 0, 1824: 2, 123: 4, 216: 0, 274: 1, 397: 0, 1225: 0, 1282: 0, 1626: 0, 393: 3, 471: 3, 1522: 3, 1832: 4, 126: 5, 851: 5, 1804: 4, 363: 4, 432: 4, 1126: 4, 1339: 4, 1887: 4, 1906: 4, 2088: 1, 141: 0, 217: 2, 436: 0, 567: 2, 714: 0, 961: 1, 1115: 0, 1202: 0, 1615: 12, 1618: 0, 1744: 0, 1866: 0, 1893: 2, 1929: 0, 1957: 0, 1981: 1, 130: 5, 162: 5, 256: 5, 451: 5, 498: 5, 503: 5, 612: 5, 779: 0, 1046: 5, 1065: 5, 1301: 5, 1334: 5, 1419: 1, 1555: 5, 1762: 5, 1771: 1, 1773: 1, 1782: 4, 1963: 5, 1072: 5, 131: 2, 1204: 2, 1437: 5, 1633: 5, 332: 5, 1124: 5, 1423: 5, 1593: 5, 1768: 5, 1788: 5, 134: 5, 1198: 5, 1988: 5, 286: 5, 490: 4, 808: 5, 905: 5, 942: 5, 1311: 5, 1379: 5, 1517: 4, 1591: 5, 1690: 5, 137: 4, 1910: 4, 139: 4, 1999: 4, 140: 0, 605: 0, 1480: 0, 183: 0, 269: 0, 453: 0, 480: 0, 540: 0, 799: 0, 1021: 3, 1148: 0, 1156: 4, 1232: 0, 1244: 0, 1367: 0, 1405: 0, 1463: 2, 1541: 0, 1542: 0, 1777: 0, 1900: 0, 1924: 3, 1991: 0, 201: 0, 283: 2, 387: 2, 817: 1, 938: 1, 943: 2, 955: 0, 1086: 5, 1114: 1, 1154: 2, 1246: 2, 1440: 4, 2009: 2, 354: 5, 378: 3, 223: 5, 682: 5, 1143: 5, 1540: 5, 1034: 6, 1462: 5, 1564: 5, 1725: 5, 147: 5, 1137: 5, 1683: 5, 148: 4, 843: 4, 870: 4, 521: 4, 581: 1, 584: 2, 939: 1, 985: 5, 1153: 1, 1186: 5, 1197: 5, 1658: 5, 151: 5, 1539: 7, 1607: 5, 1757: 5, 154: 4, 1040: 4, 2029: 4, 156: 2, 449: 3, 547: 3, 827: 3, 2093: 2, 312: 1, 473: 5, 530: 5, 1605: 5, 1974: 3, 159: 5, 307: 2, 314: 5, 326: 4, 412: 4, 598: 5, 659: 5, 660: 5, 806: 7, 1188: 4, 1363: 5, 1467: 4, 1678: 5, 1704: 1, 1808: 5, 1873: 4, 163: 1, 175: 1, 164: 3, 1918: 3, 1966: 3, 166: 13, 1987: 13, 1155: 2, 854: 2, 1112: 7, 1408: 2, 171: 3, 238: 2, 268: 3, 303: 3, 780: 3, 1549: 3, 173: 4, 1120: 4, 1420: 4, 174: 0, 320: 0, 1692: 0, 176: 0, 177: 3, 343: 3, 377: 3, 622: 3, 178: 2, 494: 1, 742: 5, 1307: 5, 1452: 5, 1483: 4, 1748: 1, 180: 5, 1100: 2, 181: 7, 205: 7, 259: 7, 277: 7, 1118: 7, 1925: 7, 182: 0, 1464: 0, 1166: 0, 184: 3, 185: 1, 1775: 1, 186: 3, 1070: 3, 643: 0, 1958: 0, 188: 3, 189: 0, 960: 2, 1133: 4, 1691: 2, 1727: 2, 1752: 5, 1772: 2, 194: 0, 647: 0, 297: 3, 398: 4, 465: 3, 907: 3, 1264: 3, 1345: 3, 1566: 4, 1695: 3, 1707: 3, 1781: 3, 1792: 3, 1797: 4, 1931: 3, 196: 0, 374: 0, 410: 7, 1079: 1, 1353: 7, 1372: 0, 1450: 4, 1473: 7, 1682: 4, 1745: 4, 1794: 3, 1809: 4, 1971: 3, 2069: 1, 200: 3, 1640: 7, 364: 2, 1428: 4, 1921: 7, 2067: 7, 204: 4, 1524: 4, 1850: 5, 706: 3, 1018: 3, 209: 1, 539: 0, 1800: 0, 476: 0, 1667: 1, 215: 3, 602: 3, 627: 3, 800: 3, 832: 3, 978: 3, 1004: 1, 1041: 3, 1078: 4, 1147: 3, 1172: 7, 1331: 4, 1623: 3, 1858: 3, 1984: 4, 2001: 3, 213: 7, 1573: 4, 541: 3, 1914: 3, 219: 4, 1051: 4, 220: 4, 2039: 4, 1171: 5, 224: 0, 1003: 2, 555: 5, 1959: 5, 896: 1, 987: 5, 1489: 1, 1799: 1, 910: 5, 1109: 5, 1717: 1, 1838: 4, 409: 5, 1399: 5, 234: 7, 822: 2, 348: 7, 353: 5, 1429: 5, 1451: 5, 661: 2, 472: 5, 241: 2, 1758: 2, 2010: 2, 932: 1, 1435: 5, 243: 4, 1795: 4, 244: 4, 346: 4, 886: 7, 906: 4, 1011: 1, 289: 7, 249: 4, 250: 2, 1701: 2, 1969: 2, 251: 4, 1936: 4, 1909: 5, 1318: 5, 629: 4, 1581: 4, 1793: 4, 1826: 4, 1920: 4, 350: 5, 1511: 5, 1516: 5, 1663: 5, 722: 5, 1042: 5, 2053: 3, 504: 7, 263: 4, 420: 4, 1099: 0, 1505: 0, 1882: 2, 1942: 0, 391: 7, 299: 4, 368: 2, 662: 4, 913: 2, 922: 2, 1170: 4, 1234: 4, 1998: 4, 267: 1, 321: 3, 1535: 4, 273: 2, 664: 0, 1350: 2, 1427: 0, 279: 7, 716: 7, 809: 5, 848: 2, 933: 4, 1443: 4, 1903: 5, 2033: 5, 281: 3, 1266: 2, 284: 1, 285: 4, 678: 4, 760: 4, 1545: 4, 1830: 4, 288: 3, 507: 3, 290: 0, 291: 5, 578: 5, 292: 3, 342: 3, 635: 3, 687: 3, 1402: 3, 293: 3, 1749: 3, 294: 2, 295: 3, 1499: 2, 1721: 3, 431: 4, 640: 3, 645: 2, 673: 4, 688: 4, 825: 4, 863: 4, 915: 4, 917: 4, 1177: 4, 1180: 4, 1291: 4, 1354: 4, 1532: 4, 1582: 4, 1784: 4, 1823: 4, 1919: 4, 1994: 4, 2019: 4, 2078: 4, 841: 4, 300: 4, 1375: 4, 1655: 4, 301: 4, 631: 4, 331: 5, 590: 5, 840: 3, 1720: 3, 365: 2, 697: 2, 982: 5, 1075: 4, 1477: 0, 1972: 2, 574: 4, 1699: 6, 1897: 6, 1608: 4, 1806: 2, 1950: 4, 313: 3, 715: 3, 316: 14, 1484: 14, 739: 2, 1237: 3, 1845: 0, 1366: 1, 1694: 2, 2065: 5, 324: 3, 328: 1, 1389: 2, 1220: 0, 1715: 4, 1790: 5, 1446: 5, 1736: 5, 334: 4, 1416: 4, 1831: 4, 336: 4, 583: 4, 337: 3, 689: 5, 341: 2, 559: 3, 772: 3, 1531: 3, 1760: 3, 344: 0, 1261: 4, 1796: 4, 2084: 4, 347: 1, 763: 1, 1374: 7, 1290: 1, 1872: 1, 352: 5, 1834: 1, 375: 5, 1157: 1, 356: 3, 1377: 3, 357: 0, 358: 3, 1885: 2, 656: 0, 1791: 4, 426: 2, 1035: 2, 1411: 2, 440: 2, 367: 3, 940: 0, 1316: 2, 2044: 2, 369: 2, 464: 4, 1259: 1, 1798: 0, 372: 3, 959: 0, 469: 3, 1093: 3, 535: 3, 1394: 5, 382: 2, 1829: 5, 386: 0, 2011: 0, 1091: 4, 477: 5, 1039: 5, 1786: 5, 920: 7, 392: 3, 394: 4, 1431: 4, 2024: 0, 560: 0, 1508: 4, 403: 3, 669: 5, 826: 5, 1825: 3, 404: 1, 604: 12, 745: 5, 777: 0, 793: 5, 853: 3, 406: 7, 408: 0, 1052: 7, 2064: 7, 736: 6, 957: 6, 2032: 2, 782: 2, 1008: 2, 418: 4, 1840: 4, 2062: 4, 543: 4, 1576: 4, 1844: 4, 423: 0, 1456: 0, 995: 5, 888: 1, 1989: 2, 427: 15, 1819: 15, 1881: 0, 1407: 4, 434: 0, 934: 0, 1617: 0, 1992: 0, 842: 2, 500: 2, 1060: 4, 441: 0, 443: 2, 1611: 0, 450: 3, 868: 1, 1049: 4, 1192: 2, 769: 0, 927: 4, 1395: 2, 456: 5, 458: 1, 649: 3, 1159: 3, 1977: 2, 461: 1, 462: 3, 904: 1, 466: 4, 467: 1, 1288: 4, 1534: 3, 495: 5, 965: 5, 1097: 5, 2083: 0, 785: 5, 1688: 3, 482: 3, 484: 2, 2090: 2, 1303: 4, 1495: 4, 1638: 4, 1292: 1, 488: 4, 849: 4, 1373: 4, 607: 3, 549: 3, 1289: 2, 2058: 0, 1584: 1, 1888: 2, 1185: 5, 679: 5, 1219: 4, 1551: 0, 727: 2, 544: 2, 509: 5, 510: 1, 511: 0, 513: 2, 1131: 5, 1494: 5, 1520: 7, 1587: 0, 517: 4, 1579: 4, 1160: 4, 1444: 4, 2076: 4, 523: 16, 1836: 16, 526: 3, 529: 2, 962: 2, 1497: 2, 2081: 5, 2023: 5, 1846: 3, 975: 1, 1028: 1, 812: 4, 556: 2, 557: 17, 1500: 17, 617: 1, 562: 3, 654: 3, 563: 2, 1347: 2, 565: 0, 1712: 3, 570: 6, 1652: 4, 573: 6, 576: 0, 768: 5, 579: 18, 1733: 18, 651: 1, 1944: 1, 585: 4, 586: 3, 2100: 3, 587: 3, 798: 3, 1122: 5, 601: 2, 1976: 2, 1352: 12, 1996: 12, 606: 3, 2047: 3, 707: 2, 1765: 5, 613: 2, 614: 1, 1578: 1, 618: 19, 1650: 19, 2045: 19, 705: 3, 1894: 1, 623: 4, 1239: 4, 624: 20, 1502: 20, 1933: 20, 625: 2, 628: 0, 968: 0, 1438: 4, 633: 4, 1349: 3, 641: 4, 1864: 2, 644: 3, 1016: 2, 1703: 3, 652: 21, 869: 21, 1506: 0, 1934: 1, 2095: 2, 1949: 0, 663: 1, 672: 1, 1158: 1, 1430: 4, 1783: 3, 976: 4, 1941: 4, 2017: 4, 681: 4, 1376: 4, 2091: 4, 700: 5, 820: 2, 693: 4, 1223: 0, 694: 0, 698: 2, 1262: 5, 1854: 6, 2060: 3, 860: 2, 1044: 3, 1228: 2, 1309: 2, 1313: 2, 719: 3, 710: 7, 821: 7, 1340: 7, 1868: 3, 720: 3, 721: 3, 1470: 3, 1634: 3, 958: 2, 1242: 2, 1847: 2, 807: 1, 1817: 2, 1238: 2, 728: 0, 1280: 0, 1997: 5, 733: 4, 734: 4, 735: 4, 737: 0, 741: 22, 818: 22, 1425: 1, 744: 1, 746: 1, 839: 1, 1946: 4, 792: 1, 1930: 1, 1205: 2, 756: 2, 1583: 3, 1696: 4, 1229: 1, 1637: 0, 1923: 2, 764: 3, 765: 2, 977: 0, 773: 12, 1030: 12, 1322: 12, 1442: 12, 1215: 5, 1279: 2, 1710: 2, 784: 3, 1620: 3, 786: 7, 787: 3, 1390: 3, 1191: 0, 791: 0, 801: 5, 810: 1, 1948: 4, 2057: 4, 813: 2, 1085: 2, 1861: 2, 1871: 1, 1330: 2, 2035: 2, 1990: 2, 824: 2, 829: 2, 2052: 0, 834: 7, 1867: 7, 838: 2, 1951: 4, 846: 3, 1853: 2, 885: 5, 856: 3, 1190: 4, 1705: 3, 881: 4, 887: 3, 2015: 3, 1449: 3, 893: 0, 897: 2, 929: 2, 1111: 7, 1323: 1, 900: 1, 916: 5, 919: 3, 1335: 2, 1090: 2, 1207: 3, 1644: 2, 1629: 2, 967: 3, 1911: 4, 1036: 0, 1711: 0, 948: 0, 953: 4, 1073: 1, 1570: 1, 1439: 3, 1700: 2, 1212: 3, 980: 2, 981: 2, 989: 4, 990: 3, 991: 2, 993: 4, 1751: 4, 1807: 4, 994: 2, 996: 2, 997: 2, 1414: 3, 1504: 1, 1063: 4, 1123: 2, 1009: 1, 1012: 2, 1015: 5, 1896: 2, 1019: 4, 1037: 2, 1224: 2, 1265: 0, 1689: 2, 1047: 23, 1276: 23, 1050: 2, 1922: 4, 1061: 2, 1875: 4, 1928: 4, 1068: 0, 1908: 5, 1685: 4, 1074: 0, 1256: 2, 1082: 1, 1083: 4, 1134: 4, 1286: 2, 1547: 1, 1151: 4, 1731: 2, 1746: 1, 1815: 4, 1108: 2, 1110: 24, 1321: 24, 1594: 4, 1119: 1, 1121: 3, 1546: 0, 1915: 0, 1139: 2, 1140: 0, 1544: 3, 1899: 4, 1217: 3, 1432: 0, 1254: 2, 1686: 4, 1270: 3, 1176: 3, 1816: 4, 1182: 2, 1187: 2, 1863: 5, 1472: 0, 1193: 3, 1755: 2, 1195: 2, 1962: 2, 1200: 0, 1860: 3, 1643: 0, 1492: 0, 1814: 0, 1955: 0, 1216: 1, 1630: 2, 1822: 2, 1235: 25, 1421: 25, 1904: 25, 1245: 2, 1622: 2, 2005: 2, 2030: 2, 1538: 2, 1669: 2, 2007: 3, 1902: 1, 1295: 4, 2013: 4, 2092: 4, 2034: 4, 1325: 20, 1329: 4, 1485: 4, 1333: 4, 1336: 26, 1676: 26, 1680: 2, 1754: 2, 2075: 0, 1558: 4, 1355: 3, 1426: 3, 1360: 17, 1371: 27, 1982: 27, 1947: 0, 1857: 3, 1378: 28, 1764: 28, 1384: 0, 1387: 2, 1398: 4, 1406: 2, 1729: 2, 1848: 2, 1787: 2, 1422: 4, 1952: 4, 1441: 3, 2040: 4, 1461: 5, 1770: 7, 1493: 3, 2099: 2, 1565: 4, 1513: 2, 1518: 3, 1592: 4, 1537: 4, 2022: 4, 1580: 1, 1718: 1, 1596: 3, 1842: 4, 1624: 0, 2043: 0, 2094: 4, 1639: 3, 1654: 0, 1657: 2, 1747: 2, 1802: 1, 1672: 0, 1675: 5, 1693: 5, 1926: 4, 2086: 3, 2096: 2, 1855: 0, 1980: 0, 1839: 3, 2079: 0, 1874: 0, 1912: 6}\n",
      "Louvain modularity:  0.4412720979630678\n"
     ]
    }
   ],
   "source": [
    "partition = community.best_partition(G_friends)\n",
    "print(\"Number of communities: \", len(set(partition.values())))\n",
    "print(\"Louvain communities: \", partition)\n",
    "print(\"Louvain modularity: \", community.modularity(partition, G_friends))"
   ]
  },
  {
   "cell_type": "code",
   "execution_count": 87,
   "metadata": {},
   "outputs": [
    {
     "data": {
      "image/png": "[encoded data removed]",
      "text/plain": [
       "<Figure size 576x576 with 1 Axes>"
      ]
     },
     "metadata": {},
     "output_type": "display_data"
    }
   ],
   "source": [
    "plt.figure(figsize=(8, 8))\n",
    "plt.axis(\"off\")\n",
    "nx.draw_networkx_nodes(G_friends, pos, node_size=600, alpha=0.6, cmap=plt.cm.RdYlBu, node_color=list(partition.values()))\n",
    "nx.draw_networkx_edges(G_friends, pos, alpha=0.3)\n",
    "nx.draw_networkx_labels(G_friends, pos)\n",
    "plt.show(G_friends)\n"
   ]
  },
  {
   "cell_type": "markdown",
   "metadata": {},
   "source": [
    "#### 4. Compute the global clustering coefficient of:\n",
    "    - the global network \n",
    "    - the communities \n",
    "    - (OPTIONAL) compare them and discuss the result"
   ]
  },
  {
   "cell_type": "code",
   "execution_count": 90,
   "metadata": {},
   "outputs": [
    {
     "name": "stdout",
     "output_type": "stream",
     "text": [
      "[(1.0, 2100), (1.0, 2075), (1.0, 2060), (1.0, 2045), (1.0, 2028), (1.0, 2005), (1.0, 1939), (1.0, 1881), (1.0, 1871), (1.0, 1844), (1.0, 1807), (1.0, 1784), (1.0, 1779), (1.0, 1775), (1.0, 1774), (1.0, 1751), (1.0, 1711), (1.0, 1650), (1.0, 1639), (1.0, 1617), (1.0, 1611), (1.0, 1574), (1.0, 1557), (1.0, 1537), (1.0, 1485), (1.0, 1464), (1.0, 1459), (1.0, 1442), (1.0, 1398), (1.0, 1385), (1.0, 1376), (1.0, 1329), (1.0, 1327), (1.0, 1325), (1.0, 1322), (1.0, 1309), (1.0, 1286), (1.0, 1284), (1.0, 1282), (1.0, 1273), (1.0, 1199), (1.0, 1182), (1.0, 1176), (1.0, 1098), (1.0, 1068), (1.0, 1039), (1.0, 1037), (1.0, 1030), (1.0, 1025), (1.0, 1024), (1.0, 1009), (1.0, 1005), (1.0, 995), (1.0, 953), (1.0, 935), (1.0, 934), (1.0, 926), (1.0, 919), (1.0, 900), (1.0, 895), (1.0, 860), (1.0, 825), (1.0, 810), (1.0, 789), (1.0, 776), (1.0, 745), (1.0, 736), (1.0, 681), (1.0, 670), (1.0, 641), (1.0, 624), (1.0, 618), (1.0, 606), (1.0, 603), (1.0, 601), (1.0, 586), (1.0, 576), (1.0, 570), (1.0, 444), (1.0, 434), (1.0, 418), (1.0, 412), (1.0, 326), (1.0, 304), (1.0, 270), (1.0, 263), (1.0, 228), (1.0, 192), (1.0, 188), (1.0, 185), (1.0, 182), (1.0, 141), (1.0, 131), (1.0, 102), (1.0, 70), (0.9, 805), (0.9, 695), (0.8333333333333334, 1900), (0.8333333333333334, 1018), (0.8333333333333334, 580), (0.8333333333333334, 277), (0.8, 837), (0.8, 259), (0.8, 205), (0.7, 288), (0.6666666666666666, 2011), (0.6666666666666666, 1958), (0.6666666666666666, 1933), (0.6666666666666666, 1840), (0.6666666666666666, 1827), (0.6666666666666666, 1776), (0.6666666666666666, 1759), (0.6666666666666666, 1744), (0.6666666666666666, 1732), (0.6666666666666666, 1677), (0.6666666666666666, 1669), (0.6666666666666666, 1638), (0.6666666666666666, 1621), (0.6666666666666666, 1504), (0.6666666666666666, 1502), (0.6666666666666666, 1456), (0.6666666666666666, 1330), (0.6666666666666666, 1122), (0.6666666666666666, 865), (0.6666666666666666, 839), (0.6666666666666666, 807), (0.6666666666666666, 746), (0.6666666666666666, 666), (0.6666666666666666, 578), (0.6666666666666666, 441), (0.6666666666666666, 386), (0.6666666666666666, 218), (0.6666666666666666, 83), (0.6666666666666666, 9), (0.6, 2047), (0.6, 1800), (0.6, 1065), (0.6, 954), (0.6, 936), (0.6, 668), (0.6, 477), (0.6, 208), (0.6, 115), (0.6, 54), (0.5714285714285714, 1348), (0.5357142857142857, 1862), (0.5357142857142857, 650), (0.5333333333333333, 1699), (0.5333333333333333, 634), (0.5294117647058824, 1163), (0.5238095238095238, 928), (0.5238095238095238, 181), (0.509090909090909, 1496), (0.5, 2052), (0.5, 1976), (0.5, 1810), (0.5, 1790), (0.5, 1601), (0.5, 1486), (0.5, 1312), (0.5, 1244), (0.5, 1224), (0.5, 1100), (0.5, 1061), (0.5, 940), (0.5, 914), (0.5, 791), (0.5, 762), (0.5, 694), (0.5, 656), (0.5, 605), (0.5, 546), (0.5, 506), (0.5, 452), (0.5, 366), (0.5, 257), (0.5, 206), (0.5, 196), (0.5, 96), (0.5, 94), (0.47619047619047616, 31), (0.4722222222222222, 540), (0.4722222222222222, 191), (0.4707692307692308, 575), (0.4666666666666667, 1925), (0.4666666666666667, 1501), (0.4666666666666667, 1118), (0.4666666666666667, 876), (0.4666666666666667, 768), (0.4666666666666667, 485), (0.4666666666666667, 359), (0.4642857142857143, 1424), (0.4642857142857143, 435), (0.44333333333333336, 306), (0.42857142857142855, 2014), (0.42857142857142855, 1618), (0.42857142857142855, 1420), (0.42857142857142855, 878), (0.42857142857142855, 515), (0.42424242424242425, 882), (0.4, 1717), (0.4, 1655), (0.4, 1542), (0.4, 773), (0.4, 496), (0.4, 449), (0.4, 300), (0.4, 209), (0.4, 32), (0.4, 13), (0.3939393939393939, 1989), (0.39285714285714285, 915), (0.39285714285714285, 826), (0.391812865497076, 396), (0.391304347826087, 1835), (0.3888888888888889, 788), (0.38333333333333336, 520), (0.38181818181818183, 40), (0.38095238095238093, 1591), (0.38095238095238093, 411), (0.38095238095238093, 3), (0.37777777777777777, 4), (0.3717948717948718, 1648), (0.3717948717948718, 1038), (0.36363636363636365, 1311), (0.36363636363636365, 474), (0.36363636363636365, 325), (0.35833333333333334, 665), (0.35714285714285715, 629), (0.35268817204301073, 210), (0.34545454545454546, 114), (0.3359683794466403, 48), (0.3333333333333333, 2099), (0.3333333333333333, 2097), (0.3333333333333333, 2083), (0.3333333333333333, 2072), (0.3333333333333333, 2062), (0.3333333333333333, 2046), (0.3333333333333333, 2030), (0.3333333333333333, 2024), (0.3333333333333333, 2017), (0.3333333333333333, 1994), (0.3333333333333333, 1992), (0.3333333333333333, 1978), (0.3333333333333333, 1974), (0.3333333333333333, 1934), (0.3333333333333333, 1919), (0.3333333333333333, 1891), (0.3333333333333333, 1872), (0.3333333333333333, 1868), (0.3333333333333333, 1853), (0.3333333333333333, 1815), (0.3333333333333333, 1791), (0.3333333333333333, 1740), (0.3333333333333333, 1737), (0.3333333333333333, 1727), (0.3333333333333333, 1724), (0.3333333333333333, 1708), (0.3333333333333333, 1613), (0.3333333333333333, 1608), (0.3333333333333333, 1582), (0.3333333333333333, 1575), (0.3333333333333333, 1558), (0.3333333333333333, 1472), (0.3333333333333333, 1449), (0.3333333333333333, 1444), (0.3333333333333333, 1435), (0.3333333333333333, 1430), (0.3333333333333333, 1426), (0.3333333333333333, 1411), (0.3333333333333333, 1405), (0.3333333333333333, 1402), (0.3333333333333333, 1396), (0.3333333333333333, 1386), (0.3333333333333333, 1375), (0.3333333333333333, 1366), (0.3333333333333333, 1352), (0.3333333333333333, 1349), (0.3333333333333333, 1315), (0.3333333333333333, 1240), (0.3333333333333333, 1231), (0.3333333333333333, 1159), (0.3333333333333333, 1157), (0.3333333333333333, 1112), (0.3333333333333333, 1101), (0.3333333333333333, 1099), (0.3333333333333333, 1090), (0.3333333333333333, 994), (0.3333333333333333, 993), (0.3333333333333333, 991), (0.3333333333333333, 971), (0.3333333333333333, 885), (0.3333333333333333, 874), (0.3333333333333333, 845), (0.3333333333333333, 838), (0.3333333333333333, 827), (0.3333333333333333, 823), (0.3333333333333333, 799), (0.3333333333333333, 793), (0.3333333333333333, 777), (0.3333333333333333, 727), (0.3333333333333333, 679), (0.3333333333333333, 607), (0.3333333333333333, 568), (0.3333333333333333, 563), (0.3333333333333333, 539), (0.3333333333333333, 526), (0.3333333333333333, 517), (0.3333333333333333, 500), (0.3333333333333333, 478), (0.3333333333333333, 472), (0.3333333333333333, 440), (0.3333333333333333, 438), (0.3333333333333333, 423), (0.3333333333333333, 407), (0.3333333333333333, 402), (0.3333333333333333, 376), (0.3333333333333333, 372), (0.3333333333333333, 345), (0.3333333333333333, 305), (0.3333333333333333, 286), (0.3333333333333333, 274), (0.3333333333333333, 267), (0.3333333333333333, 186), (0.3333333333333333, 163), (0.3333333333333333, 140), (0.3333333333333333, 116), (0.3333333333333333, 105), (0.3333333333333333, 76), (0.3333333333333333, 68), (0.3333333333333333, 39), (0.3333333333333333, 27), (0.32727272727272727, 111), (0.32679738562091504, 7), (0.3238095238095238, 819), (0.3226600985221675, 553), (0.32142857142857145, 1798), (0.32142857142857145, 627), (0.32142857142857145, 187), (0.32142857142857145, 73), (0.32051282051282054, 1209), (0.31868131868131866, 1046), (0.3161764705882353, 426), (0.3076923076923077, 1014), (0.3076923076923077, 963), (0.3055555555555556, 1202), (0.3055555555555556, 1108), (0.3055555555555556, 375), (0.3, 1864), (0.3, 1850), (0.3, 1723), (0.3, 1684), (0.3, 1661), (0.3, 1585), (0.3, 1538), (0.3, 1302), (0.3, 1280), (0.3, 1036), (0.3, 750), (0.3, 685), (0.3, 651), (0.3, 623), (0.3, 391), (0.3, 126), (0.2968960863697706, 99), (0.29195402298850576, 260), (0.2916666666666667, 333), (0.2909090909090909, 1115), (0.28923076923076924, 479), (0.2878787878787879, 1165), (0.2878787878787879, 374), (0.2857142857142857, 1866), (0.2857142857142857, 1707), (0.2857142857142857, 1347), (0.2857142857142857, 1188), (0.2857142857142857, 1032), (0.2857142857142857, 835), (0.2857142857142857, 802), (0.2857142857142857, 715), (0.2857142857142857, 577), (0.2857142857142857, 532), (0.2857142857142857, 397), (0.2857142857142857, 371), (0.2857142857142857, 352), (0.2857142857142857, 108), (0.2833333333333333, 696), (0.28205128205128205, 790), (0.2784090909090909, 1301), (0.2777777777777778, 1894), (0.2777777777777778, 942), (0.2777777777777778, 87), (0.2777777777777778, 66), (0.2761904761904762, 1559), (0.27485380116959063, 836), (0.27472527472527475, 683), (0.2727272727272727, 331), (0.2706552706552707, 1514), (0.2692307692307692, 261), (0.26900584795321636, 446), (0.2676923076923077, 1226), (0.26666666666666666, 1446), (0.26666666666666666, 1173), (0.26666666666666666, 1084), (0.26666666666666666, 949), (0.26666666666666666, 912), (0.26666666666666666, 393), (0.26666666666666666, 217), (0.26666666666666666, 216), (0.26666666666666666, 144), (0.26136363636363635, 2059), (0.26021505376344084, 1053), (0.25833333333333336, 714), (0.2578947368421053, 248), (0.2573099415204678, 1734), (0.2545454545454545, 898), (0.2545454545454545, 480), (0.2524390243902439, 211), (0.2510822510822511, 124), (0.25, 1963), (0.25, 1823), (0.25, 1771), (0.25, 1354), (0.25, 1318), (0.25, 1103), (0.25, 1010), (0.25, 965), (0.25, 951), (0.25, 855), (0.25, 699), (0.25, 680), (0.25, 497), (0.25, 424), (0.25, 224), (0.25, 135), (0.25, 50), (0.2490118577075099, 1954), (0.2490118577075099, 1851), (0.2490118577075099, 1687), (0.24761904761904763, 1757), (0.24761904761904763, 430), (0.2460881934566145, 684), (0.24444444444444444, 2091), (0.24358974358974358, 1154), (0.2427536231884058, 542), (0.24242424242424243, 1447), (0.24242424242424243, 147), (0.24166666666666667, 1889), (0.23908045977011494, 1104), (0.23891625615763548, 873), (0.23891625615763548, 110), (0.23809523809523808, 1841), (0.23809523809523808, 1663), (0.23809523809523808, 1633), (0.23809523809523808, 1358), (0.23809523809523808, 781), (0.23809523809523808, 537), (0.23809523809523808, 447), (0.23809523809523808, 301), (0.23809523809523808, 291), (0.23809523809523808, 37), (0.23715415019762845, 130), (0.23636363636363636, 828), (0.23636363636363636, 617), (0.23636363636363636, 117), (0.23636363636363636, 53), (0.2358974358974359, 816), (0.23544973544973544, 278), (0.23076923076923078, 1525), (0.23076923076923078, 1521), (0.23076923076923078, 767), (0.2282051282051282, 415), (0.2276923076923077, 501), (0.22727272727272727, 1287), (0.22727272727272727, 558), (0.22631578947368422, 1979), (0.2246376811594203, 659), (0.22298850574712645, 327), (0.2222222222222222, 858), (0.2222222222222222, 706), (0.2222222222222222, 592), (0.2222222222222222, 507), (0.2222222222222222, 380), (0.2222222222222222, 226), (0.22105263157894736, 1917), (0.22103386809269163, 1653), (0.22103386809269163, 214), (0.21904761904761905, 596), (0.21818181818181817, 2023), (0.21818181818181817, 969), (0.21818181818181817, 328), (0.21818181818181817, 109), (0.21794871794871795, 543), (0.21794871794871795, 459), (0.21774193548387097, 757), (0.21727395411605938, 808), (0.21428571428571427, 1910), (0.21428571428571427, 1225), (0.21428571428571427, 875), (0.21428571428571427, 616), (0.21428571428571427, 493), (0.21428571428571427, 14), (0.2119487908961593, 486), (0.21171171171171171, 612), (0.20952380952380953, 473), (0.20952380952380953, 365), (0.2087912087912088, 955), (0.2087912087912088, 45), (0.2086021505376344, 910), (0.20766129032258066, 1820), (0.20707070707070707, 120), (0.2064516129032258, 1080), (0.20615384615384616, 1304), (0.20606060606060606, 732), (0.20557491289198607, 2087), (0.2053701015965167, 1027), (0.20512820512820512, 85), (0.20512820512820512, 80), (0.203778677462888, 690), (0.2037037037037037, 1725), (0.2022792022792023, 1532), (0.20056899004267426, 1628), (0.2, 2055), (0.2, 1941), (0.2, 1873), (0.2, 1799), (0.2, 1795), (0.2, 1788), (0.2, 1667), (0.2, 1588), (0.2, 1483), (0.2, 1481), (0.2, 1467), (0.2, 1388), (0.2, 1368), (0.2, 1307), (0.2, 1239), (0.2, 1177), (0.2, 1143), (0.2, 1114), (0.2, 1109), (0.2, 959), (0.2, 886), (0.2, 844), (0.2, 772), (0.2, 738), (0.2, 719), (0.2, 713), (0.2, 703), (0.2, 687), (0.2, 675), (0.2, 647), (0.2, 595), (0.2, 491), (0.2, 401), (0.2, 243), (0.2, 173), (0.2, 112), (0.2, 65), (0.2, 24), (0.2, 10), (0.2, 8), (0.1978021978021978, 1564), (0.19696969696969696, 1829), (0.19696969696969696, 1150), (0.19523809523809524, 1762), (0.19523809523809524, 1294), (0.19523809523809524, 428), (0.19444444444444445, 1541), (0.19444444444444445, 1522), (0.19444444444444445, 1128), (0.19444444444444445, 1107), (0.19444444444444445, 1067), (0.19444444444444445, 455), (0.19444444444444445, 354), (0.19444444444444445, 238), (0.19390243902439025, 1332), (0.19384615384615383, 425), (0.19367588932806323, 183), (0.1934566145092461, 231), (0.19333333333333333, 561), (0.19310344827586207, 674), (0.19230769230769232, 742), (0.19230769230769232, 2), (0.19117647058823528, 1753), (0.19047619047619047, 1691), (0.19047619047619047, 1353), (0.19047619047619047, 1131), (0.19047619047619047, 964), (0.19047619047619047, 255), (0.19047619047619047, 175), (0.19047619047619047, 33), (0.18972332015810275, 315), (0.1895424836601307, 1555), (0.1895424836601307, 62), (0.18922305764411027, 527), (0.18901960784313726, 499), (0.18776671408250356, 1189), (0.18717948717948718, 717), (0.1871345029239766, 985), (0.1871345029239766, 308), (0.18686868686868688, 1071), (0.18681318681318682, 409), (0.18585858585858586, 632), (0.18538324420677363, 1766), (0.18484848484848485, 340), (0.18472906403940886, 1572), (0.18408880666049954, 1813), (0.18351841028638224, 1263), (0.18333333333333332, 1722), (0.18333333333333332, 1466), (0.1830065359477124, 1174), (0.1830065359477124, 905), (0.18181818181818182, 1988), (0.18181818181818182, 1845), (0.18181818181818182, 1826), (0.18181818181818182, 1452), (0.18181818181818182, 1267), (0.18181818181818182, 702), (0.18181818181818182, 98), (0.1815126050420168, 638), (0.18128654970760233, 134), (0.18095238095238095, 1726), (0.18095238095238095, 1197), (0.18083670715249664, 1437), (0.1808080808080808, 572), (0.18030690537084398, 310), (0.17971014492753623, 1033), (0.1794871794871795, 1743), (0.17873303167420815, 1179), (0.17857142857142858, 1589), (0.17857142857142858, 1261), (0.17857142857142858, 972), (0.17857142857142858, 820), (0.17857142857142858, 752), (0.17857142857142858, 548), (0.17857142857142858, 476), (0.17857142857142858, 265), (0.17851959361393324, 1973), (0.17777777777777778, 1914), (0.17777777777777778, 1020), (0.17777777777777778, 779), (0.17753623188405798, 1959), (0.17724867724867724, 518), (0.17663817663817663, 1455), (0.17647058823529413, 1768), (0.17647058823529413, 1429), (0.17545271629778672, 911), (0.175, 2077), (0.175, 1035), (0.175, 353), (0.1748792270531401, 258), (0.17449139280125195, 1356), (0.1744186046511628, 1072), (0.17391304347826086, 417), (0.17338709677419356, 132), (0.1721194879089616, 1471), (0.17142857142857143, 22), (0.17, 1124), (0.16993464052287582, 233), (0.1696969696969697, 399), (0.1695906432748538, 871), (0.1695906432748538, 660), (0.16948051948051948, 534), (0.1693121693121693, 2004), (0.16927453769559034, 1135), (0.16911764705882354, 589), (0.169009009009009, 129), (0.16842105263157894, 2080), (0.16840882694541232, 253), (0.1678520625889047, 830), (0.1673469387755102, 1515), (0.16692268305171531, 852), (0.16666666666666666, 2076), (0.16666666666666666, 2048), (0.16666666666666666, 2027), (0.16666666666666666, 2019), (0.16666666666666666, 2008), (0.16666666666666666, 1998), (0.16666666666666666, 1923), (0.16666666666666666, 1897), (0.16666666666666666, 1833), (0.16666666666666666, 1797), (0.16666666666666666, 1794), (0.16666666666666666, 1721), (0.16666666666666666, 1615), (0.16666666666666666, 1594), (0.16666666666666666, 1590), (0.16666666666666666, 1583), (0.16666666666666666, 1578), (0.16666666666666666, 1551), (0.16666666666666666, 1547), (0.16666666666666666, 1463), (0.16666666666666666, 1432), (0.16666666666666666, 1399), (0.16666666666666666, 1335), (0.16666666666666666, 1334), (0.16666666666666666, 1303), (0.16666666666666666, 1288), (0.16666666666666666, 1234), (0.16666666666666666, 1232), (0.16666666666666666, 1166), (0.16666666666666666, 1158), (0.16666666666666666, 1044), (0.16666666666666666, 1042), (0.16666666666666666, 996), (0.16666666666666666, 870), (0.16666666666666666, 798), (0.16666666666666666, 707), (0.16666666666666666, 700), (0.16666666666666666, 673), (0.16666666666666666, 594), (0.16666666666666666, 552), (0.16666666666666666, 544), (0.16666666666666666, 465), (0.16666666666666666, 403), (0.16666666666666666, 394), (0.16666666666666666, 361), (0.16666666666666666, 351), (0.16666666666666666, 297), (0.16666666666666666, 290), (0.16666666666666666, 200), (0.16666666666666666, 159), (0.16666666666666666, 91), (0.16666666666666666, 77), (0.16666666666666666, 72), (0.16666666666666666, 71), (0.1661706349206349, 1453), (0.16551724137931034, 1255), (0.16502463054187191, 332), (0.16483516483516483, 924), (0.1645021645021645, 1702), (0.16440422322775264, 136), (0.1642512077294686, 79), (0.16374269005847952, 1528), (0.16374269005847952, 350), (0.16363636363636364, 1828), (0.16363636363636364, 1116), (0.16363636363636364, 541), (0.16363636363636364, 436), (0.16363636363636364, 312), (0.16363636363636364, 289), (0.16363636363636364, 223), (0.16304347826086957, 335), (0.1625615763546798, 1491), (0.16180235535074244, 859), (0.16176470588235295, 264), (0.16155157715260018, 1069), (0.16153846153846155, 571), (0.16134751773049646, 1606), (0.16040100250626566, 413), (0.16017316017316016, 1961), (0.15966386554621848, 1803), (0.15960163432073546, 1300), (0.15942028985507245, 1379), (0.1590909090909091, 1106), (0.15873015873015872, 1023), (0.158675799086758, 256), (0.15833333333333333, 850), (0.15824561403508772, 2037), (0.15810276679841898, 240), (0.15789473684210525, 1451), (0.15789473684210525, 1410), (0.15789473684210525, 1381), (0.1572112098427888, 58), (0.1571537290715373, 2018), (0.1568627450980392, 1056), (0.15668202764976957, 569), (0.15656565656565657, 1856), (0.15604909409701928, 271), (0.15593220338983052, 1445), (0.15555555555555556, 1880), (0.15555555555555556, 1728), (0.15555555555555556, 1454), (0.15555555555555556, 1160), (0.15555555555555556, 504), (0.15555555555555556, 489), (0.15517241379310345, 318), (0.15476190476190477, 646), (0.15450980392156863, 1017), (0.15447154471544716, 329), (0.15441176470588236, 125), (0.15384615384615385, 1769), (0.15384615384615385, 177), (0.1536231884057971, 302), (0.1533799533799534, 723), (0.15333333333333332, 1593), (0.1532670882264378, 1247), (0.15294117647058825, 133), (0.1523809523809524, 1489), (0.1523809523809524, 387), (0.15233785822021115, 227), (0.15217391304347827, 1517), (0.1521486643437863, 1898), (0.15207373271889402, 1659), (0.15191256830601094, 795), (0.15159574468085107, 490), (0.15151515151515152, 1266), (0.15151515151515152, 671), (0.15151515151515152, 460), (0.15144230769230768, 815), (0.15141242937853108, 636), (0.15079365079365079, 322), (0.15053763440860216, 966), (0.1503267973856209, 1057), (0.15021770682148042, 2020), (0.15020408163265306, 146), (0.15, 1533), (0.15, 254), (0.1495433789954338, 339), (0.14882882882882884, 1132), (0.14876543209876544, 236), (0.14814814814814814, 1742), (0.14736842105263157, 536), (0.1471861471861472, 1804), (0.14705882352941177, 1793), (0.14705882352941177, 1434), (0.14693446088794926, 437), (0.14603174603174604, 1476), (0.14567307692307693, 481), (0.1455026455026455, 1777), (0.14545454545454545, 1298), (0.14545454545454545, 658), (0.14530612244897959, 400), (0.14444444444444443, 1965), (0.14436805922792173, 884), (0.14404223227752638, 1164), (0.14404223227752638, 385), (0.1438118150227212, 232), (0.14333333333333334, 2038), (0.14285714285714285, 2001), (0.14285714285714285, 1950), (0.14285714285714285, 1948), (0.14285714285714285, 1909), (0.14285714285714285, 1817), (0.14285714285714285, 1697), (0.14285714285714285, 1678), (0.14285714285714285, 1652), (0.14285714285714285, 1539), (0.14285714285714285, 1475), (0.14285714285714285, 1427), (0.14285714285714285, 1413), (0.14285714285714285, 1382), (0.14285714285714285, 1365), (0.14285714285714285, 1299), (0.14285714285714285, 1296), (0.14285714285714285, 1254), (0.14285714285714285, 1191), (0.14285714285714285, 1148), (0.14285714285714285, 976), (0.14285714285714285, 881), (0.14285714285714285, 814), (0.14285714285714285, 782), (0.14285714285714285, 692), (0.14285714285714285, 669), (0.14285714285714285, 640), (0.14285714285714285, 584), (0.14285714285714285, 64), (0.14285714285714285, 44), (0.1427061310782241, 538), (0.14210526315789473, 1086), (0.14193548387096774, 917), (0.14166666666666666, 704), (0.14130434782608695, 2003), (0.14130434782608695, 229), (0.14112903225806453, 2006), (0.14112903225806453, 609), (0.1406423034330011, 531), (0.14039408866995073, 984), (0.14035087719298245, 1560), (0.14035087719298245, 946), (0.14021421616358326, 514), (0.1401801801801802, 1253), (0.13978494623655913, 1058), (0.13970588235294118, 1089), (0.13970588235294118, 30), (0.13963963963963963, 778), (0.1388888888888889, 2071), (0.1388888888888889, 1846), (0.1388888888888889, 1641), (0.1388888888888889, 1595), (0.1388888888888889, 1246), (0.1388888888888889, 975), (0.1388888888888889, 252), (0.1388888888888889, 21), (0.13853367433930094, 621), (0.1383399209486166, 47), (0.13802221047065044, 1001), (0.13737373737373737, 862), (0.13725490196078433, 688), (0.13725490196078433, 25), (0.1368421052631579, 1975), (0.1368421052631579, 1906), (0.13666666666666666, 804), (0.13636363636363635, 2031), (0.13636363636363635, 1666), (0.13636363636363635, 1600), (0.1359724612736661, 851), (0.13557692307692307, 1690), (0.13450292397660818, 890), (0.13450292397660818, 817), (0.13445378151260504, 1616), (0.13438735177865613, 1479), (0.13438735177865613, 454), (0.13425253991291727, 1780), (0.1341991341991342, 2054), (0.13367756741250716, 46), (0.13333333333333333, 1968), (0.13333333333333333, 1887), (0.13333333333333333, 1656), (0.13333333333333333, 1509), (0.13333333333333333, 1289), (0.13333333333333333, 1271), (0.13333333333333333, 1237), (0.13333333333333333, 1076), (0.13333333333333333, 1007), (0.13333333333333333, 907), (0.13333333333333333, 863), (0.13333333333333333, 842), (0.13333333333333333, 770), (0.13333333333333333, 751), (0.13333333333333333, 649), (0.13333333333333333, 645), (0.13333333333333333, 643), (0.13333333333333333, 566), (0.13333333333333333, 555), (0.13333333333333333, 549), (0.13333333333333333, 463), (0.13333333333333333, 362), (0.13333333333333333, 357), (0.13333333333333333, 63), (0.1323529411764706, 1462), (0.1323529411764706, 1233), (0.1323529411764706, 1161), (0.1323529411764706, 1011), (0.1323529411764706, 754), (0.1323529411764706, 686), (0.13208762886597938, 179), (0.13186813186813187, 410), (0.13176470588235295, 470), (0.13142857142857142, 503), (0.13114754098360656, 930), (0.13105413105413105, 498), (0.13076923076923078, 1198), (0.13071895424836602, 1511), (0.13071895424836602, 508), (0.12844702467343977, 414), (0.12834224598930483, 378), (0.1282051282051282, 1830), (0.1282051282051282, 1345), (0.1282051282051282, 800), (0.1282051282051282, 442), (0.12790697674418605, 207), (0.12727272727272726, 932), (0.12727272727272726, 453), (0.12727272727272726, 439), (0.12727272727272726, 170), (0.12727272727272726, 75), (0.1265597147950089, 1457), (0.12643678160919541, 1393), (0.12631578947368421, 1339), (0.12625770853618956, 730), (0.12624584717607973, 1567), (0.1261668172237278, 749), (0.12564102564102564, 12), (0.12561576354679804, 1272), (0.12554112554112554, 1423), (0.12535612535612536, 1882), (0.1253246753246753, 1308), (0.125, 709), (0.12477718360071301, 1034), (0.12473118279569892, 2021), (0.12436974789915967, 158), (0.12380952380952381, 1607), (0.12354124748490945, 1343), (0.12315270935960591, 157), (0.12299091544374563, 1184), (0.12280701754385964, 1394), (0.12280701754385964, 593), (0.1226890756302521, 581), (0.1223529411764706, 311), (0.12121212121212122, 1516), (0.12121212121212122, 1465), (0.12121212121212122, 1310), (0.12121212121212122, 121), (0.12100840336134454, 1002), (0.12087912087912088, 1929), (0.12087912087912088, 1183), (0.12087912087912088, 888), (0.12077294685990338, 847), (0.12010954616588419, 1145), (0.11954022988505747, 1682), (0.11931818181818182, 1278), (0.1185515873015873, 1773), (0.11764705882352941, 1473), (0.11764705882352941, 1433), (0.11734693877551021, 451), (0.11724137931034483, 1821), (0.1168091168091168, 642), (0.11666666666666667, 1136), (0.11666666666666667, 731), (0.11613924050632911, 691), (0.11594202898550725, 16), (0.11585365853658537, 145), (0.11538461538461539, 1649), (0.11538461538461539, 348), (0.11538461538461539, 230), (0.11538461538461539, 215), (0.11469979296066253, 355), (0.11462450592885376, 1125), (0.11428571428571428, 667), (0.11375661375661375, 1092), (0.11341463414634147, 49), (0.11231884057971014, 1636), (0.1111111111111111, 1971), (0.1111111111111111, 1635), (0.1111111111111111, 1584), (0.1111111111111111, 1527), (0.1111111111111111, 1214), (0.1111111111111111, 1155), (0.1111111111111111, 1021), (0.1111111111111111, 1004), (0.1111111111111111, 922), (0.1111111111111111, 861), (0.1111111111111111, 635), (0.1111111111111111, 337), (0.1111111111111111, 330), (0.1111111111111111, 225), (0.1111111111111111, 122), (0.1111111111111111, 18), (0.11086142322097378, 405), (0.11083743842364532, 1305), (0.11067193675889328, 1809), (0.11029411764705882, 431), (0.11029411764705882, 242), (0.11008704557091654, 162), (0.10989010989010989, 149), (0.10909090909090909, 1337), (0.10909090909090909, 1262), (0.10909090909090909, 1221), (0.10909090909090909, 550), (0.10907054871220605, 1503), (0.10841750841750841, 2061), (0.10833333333333334, 1274), (0.10833333333333334, 502), (0.10822510822510822, 1838), (0.10786516853932585, 1895), (0.1076923076923077, 1369), (0.1076923076923077, 43), (0.1072829131652661, 1568), (0.10714285714285714, 2041), (0.10714285714285714, 1719), (0.10714285714285714, 987), (0.10714285714285714, 725), (0.10714285714285714, 590), (0.10714285714285714, 56), (0.10641627543035993, 941), (0.10606060606060606, 1825), (0.10606060606060606, 390), (0.10541310541310542, 317), (0.10526315789473684, 1144), (0.10507246376811594, 906), (0.10507246376811594, 349), (0.10476190476190476, 1627), (0.10476190476190476, 101), (0.10463659147869674, 1283), (0.10276679841897234, 1704), (0.10256410256410256, 1865), (0.10256410256410256, 1752), (0.10256410256410256, 1665), (0.10256410256410256, 1419), (0.10241820768136557, 1535), (0.1010752688172043, 2016), (0.1009657594381036, 1213), (0.10083256244218317, 1761), (0.10030165912518854, 421), (0.10015649452269171, 1869), (0.1, 2058), (0.1, 1942), (0.1, 1859), (0.1, 1781), (0.1, 1688), (0.1, 1505), (0.1, 1428), (0.1, 1401), (0.1, 1291), (0.1, 1243), (0.1, 1211), (0.1, 1172), (0.1, 1079), (0.1, 1074), (0.1, 950), (0.1, 806), (0.1, 794), (0.1, 747), (0.1, 718), (0.1, 697), (0.1, 689), (0.1, 631), (0.1, 611), (0.1, 608), (0.1, 458), (0.1, 363), (0.1, 26), (0.1, 6), (0.09941520467836257, 2070), (0.09941520467836257, 1581), (0.09941520467836257, 758), (0.09941520467836257, 521), (0.0989010989010989, 1248), (0.0989010989010989, 760), (0.09846153846153846, 1554), (0.09803921568627451, 1792), (0.09803921568627451, 1605), (0.09783183500793231, 419), (0.09666666666666666, 1346), (0.09666666666666666, 383), (0.09666666666666666, 127), (0.09647058823529411, 1230), (0.09620253164556962, 1478), (0.09558823529411764, 494), (0.09558823529411764, 338), (0.09523809523809523, 2088), (0.09523809523809523, 1907), (0.09523809523809523, 1824), (0.09523809523809523, 1671), (0.09523809523809523, 1403), (0.09523809523809523, 1205), (0.09523809523809523, 1186), (0.09523809523809523, 1180), (0.09523809523809523, 904), (0.09523809523809523, 822), (0.09523809523809523, 763), (0.09523809523809523, 620), (0.09523809523809523, 268), (0.09523809523809523, 139), (0.09523809523809523, 17), (0.09420289855072464, 809), (0.09333333333333334, 877), (0.0928030303030303, 701), (0.09274193548387097, 280), (0.09259259259259259, 1167), (0.09247311827956989, 753), (0.09178743961352658, 1632), (0.09176788124156546, 1646), (0.09166666666666666, 1204), (0.09113300492610837, 11), (0.09090909090909091, 2069), (0.09090909090909091, 2053), (0.09090909090909091, 1808), (0.09090909090909091, 1715), (0.09090909090909091, 1364), (0.09090909090909091, 1362), (0.09090909090909091, 1357), (0.09090909090909091, 1222), (0.09090909090909091, 1120), (0.09090909090909091, 475), (0.09024390243902439, 1113), (0.08974358974358974, 1986), (0.08974358974358974, 1013), (0.08961593172119488, 743), (0.08953900709219859, 150), (0.08888888888888889, 1178), (0.08829113924050633, 2068), (0.08791208791208792, 1563), (0.08791208791208792, 582), (0.08714969241285031, 1102), (0.08712121212121213, 1642), (0.08695652173913043, 1171), (0.08666666666666667, 1075), (0.08666666666666667, 938), (0.08658008658008658, 1553), (0.08637873754152824, 761), (0.08571428571428572, 1530), (0.08333333333333333, 1920), (0.08333333333333333, 1469), (0.08333333333333333, 939), (0.08333333333333333, 203), (0.08225108225108226, 864), (0.08225108225108226, 759), (0.082010582010582, 2000), (0.08194905869324474, 247), (0.08187134502923976, 516), (0.08170731707317073, 1811), (0.0812807881773399, 343), (0.07894736842105263, 797), (0.0783744557329463, 1625), (0.07741935483870968, 128), (0.07692307692307693, 1741), (0.07692307692307693, 1097), (0.07692307692307693, 202), (0.07635467980295567, 1196), (0.0761904761904762, 909), (0.07585568917668825, 1879), (0.07575757575757576, 1748), (0.075, 2025), (0.0735930735930736, 1924), (0.07317073170731707, 1801), (0.07272727272727272, 2029), (0.07272727272727272, 1367), (0.07272727272727272, 420), (0.07272727272727272, 398), (0.07258064516129033, 726), (0.07254623044096728, 370), (0.07246376811594203, 899), (0.07227891156462585, 142), (0.07195121951219512, 1146), (0.0718954248366013, 346), (0.07142857142857142, 1911), (0.07142857142857142, 1782), (0.07142857142857142, 1495), (0.07142857142857142, 1418), (0.07142857142857142, 1156), (0.07142857142857142, 15), (0.07114624505928854, 1153), (0.07087719298245614, 545), (0.07056451612903226, 275), (0.07017543859649122, 1664), (0.07017543859649122, 307), (0.07, 1133), (0.06842105263157895, 1818), (0.06837606837606838, 57), (0.0677361853832442, 1054), (0.06666666666666667, 2032), (0.06666666666666667, 1993), (0.06666666666666667, 1908), (0.06666666666666667, 1903), (0.06666666666666667, 1730), (0.06666666666666667, 1577), (0.06666666666666667, 1573), (0.06666666666666667, 1508), (0.06666666666666667, 1440), (0.06666666666666667, 1277), (0.06666666666666667, 1088), (0.06666666666666667, 982), (0.06666666666666667, 921), (0.06666666666666667, 848), (0.06666666666666667, 721), (0.06666666666666667, 487), (0.06666666666666667, 471), (0.06666666666666667, 367), (0.06666666666666667, 161), (0.06666666666666667, 104), (0.06666666666666667, 95), (0.06628787878787878, 2036), (0.06612685560053981, 1709), (0.06593406593406594, 433), (0.06593406593406594, 152), (0.06451612903225806, 1380), (0.0641025641025641, 998), (0.0641025641025641, 303), (0.0641025641025641, 292), (0.06382978723404255, 59), (0.06324110671936758, 1905), (0.06236559139784946, 1706), (0.06218487394957983, 51), (0.06060606060606061, 1964), (0.06060606060606061, 1259), (0.06060606060606061, 637), (0.06060606060606061, 467), (0.058823529411764705, 1883), (0.058823529411764705, 925), (0.05855855855855856, 2042), (0.05714285714285714, 388), (0.05555555555555555, 682), (0.05555555555555555, 377), (0.05543859649122807, 1210), (0.05454545454545454, 933), (0.054203180785459264, 298), (0.05407925407925408, 143), (0.05263157894736842, 1556), (0.05228758169934641, 1275), (0.05228758169934641, 708), (0.050853548966756514, 831), (0.05057471264367816, 195), (0.05, 655), (0.049786628733997154, 212), (0.04924242424242424, 2039), (0.04862745098039216, 1249), (0.047619047619047616, 1679), (0.047619047619047616, 1552), (0.047619047619047616, 1540), (0.047619047619047616, 1490), (0.047619047619047616, 1229), (0.047619047619047616, 1137), (0.047619047619047616, 903), (0.047619047619047616, 722), (0.047619047619047616, 450), (0.047619047619047616, 321), (0.047619047619047616, 90), (0.047619047619047616, 5), (0.047435897435897434, 1832), (0.046992481203007516, 1662), (0.046103896103896105, 198), (0.0457516339869281, 1626), (0.0457516339869281, 986), (0.045454545454545456, 1749), (0.045454545454545456, 1450), (0.0453781512605042, 1956), (0.043478260869565216, 1603), (0.043478260869565216, 1342), (0.04285714285714286, 1614), (0.041666666666666664, 999), (0.041251778093883355, 1660), (0.04040404040404041, 1670), (0.038461538461538464, 1458), (0.038461538461538464, 889), (0.038461538461538464, 172), (0.03822055137844611, 1130), (0.0380952380952381, 1404), (0.0380952380952381, 193), (0.036853002070393374, 1597), (0.03676470588235294, 1805), (0.03666666666666667, 1562), (0.03636363636363636, 2033), (0.03636363636363636, 1138), (0.03571428571428571, 2056), (0.03571428571428571, 1783), (0.03571428571428571, 1634), (0.03571428571428571, 1480), (0.03571428571428571, 1425), (0.03571428571428571, 1372), (0.03571428571428571, 1170), (0.03571428571428571, 604), (0.03571428571428571, 285), (0.035096153846153846, 1488), (0.03386155129274395, 1281), (0.03333333333333333, 266), (0.03162055335968379, 2051), (0.03162055335968379, 1789), (0.03119015047879617, 1258), (0.030764848312206237, 1543), (0.029239766081871343, 1319), (0.02857142857142857, 812), (0.027777777777777776, 1290), (0.02620967741935484, 1087), (0.022222222222222223, 1094), (0.022222222222222223, 283), (0.021913580246913582, 78), (0.021739130434782608, 107), (0.01818181818181818, 1999), (0.01818181818181818, 1408), (0.01818181818181818, 678), (0.01818181818181818, 250), (0.017543859649122806, 1397), (0.015856236786469344, 1785), (0.015151515151515152, 1389), (0.015151515151515152, 1006), (0.011494252873563218, 1918), (0.007352941176470588, 1498), (0, 2096), (0, 2095), (0, 2094), (0, 2093), (0, 2092), (0, 2090), (0, 2086), (0, 2085), (0, 2084), (0, 2081), (0, 2079), (0, 2078), (0, 2067), (0, 2066), (0, 2065), (0, 2064), (0, 2057), (0, 2044), (0, 2043), (0, 2040), (0, 2035), (0, 2034), (0, 2022), (0, 2015), (0, 2013), (0, 2010), (0, 2009), (0, 2007), (0, 1997), (0, 1996), (0, 1995), (0, 1991), (0, 1990), (0, 1987), (0, 1984), (0, 1983), (0, 1982), (0, 1981), (0, 1980), (0, 1977), (0, 1972), (0, 1969), (0, 1966), (0, 1962), (0, 1957), (0, 1955), (0, 1952), (0, 1951), (0, 1949), (0, 1947), (0, 1946), (0, 1944), (0, 1938), (0, 1937), (0, 1936), (0, 1935), (0, 1931), (0, 1930), (0, 1928), (0, 1926), (0, 1922), (0, 1921), (0, 1915), (0, 1912), (0, 1904), (0, 1902), (0, 1899), (0, 1896), (0, 1893), (0, 1892), (0, 1890), (0, 1888), (0, 1885), (0, 1877), (0, 1875), (0, 1874), (0, 1867), (0, 1863), (0, 1861), (0, 1860), (0, 1858), (0, 1857), (0, 1855), (0, 1854), (0, 1852), (0, 1848), (0, 1847), (0, 1842), (0, 1839), (0, 1836), (0, 1834), (0, 1831), (0, 1822), (0, 1819), (0, 1816), (0, 1814), (0, 1806), (0, 1802), (0, 1796), (0, 1787), (0, 1786), (0, 1778), (0, 1772), (0, 1770), (0, 1765), (0, 1764), (0, 1760), (0, 1758), (0, 1755), (0, 1754), (0, 1747), (0, 1746), (0, 1745), (0, 1736), (0, 1733), (0, 1731), (0, 1729), (0, 1720), (0, 1718), (0, 1712), (0, 1710), (0, 1705), (0, 1703), (0, 1701), (0, 1700), (0, 1696), (0, 1695), (0, 1694), (0, 1693), (0, 1692), (0, 1689), (0, 1686), (0, 1685), (0, 1683), (0, 1680), (0, 1676), (0, 1675), (0, 1674), (0, 1672), (0, 1658), (0, 1657), (0, 1654), (0, 1647), (0, 1644), (0, 1643), (0, 1640), (0, 1637), (0, 1630), (0, 1629), (0, 1624), (0, 1623), (0, 1622), (0, 1620), (0, 1619), (0, 1604), (0, 1599), (0, 1596), (0, 1592), (0, 1587), (0, 1586), (0, 1580), (0, 1579), (0, 1576), (0, 1570), (0, 1566), (0, 1565), (0, 1549), (0, 1546), (0, 1545), (0, 1544), (0, 1536), (0, 1534), (0, 1531), (0, 1524), (0, 1520), (0, 1519), (0, 1518), (0, 1513), (0, 1507), (0, 1506), (0, 1500), (0, 1499), (0, 1497), (0, 1494), (0, 1493), (0, 1492), (0, 1484), (0, 1477), (0, 1474), (0, 1470), (0, 1461), (0, 1443), (0, 1441), (0, 1439), (0, 1438), (0, 1431), (0, 1422), (0, 1421), (0, 1416), (0, 1414), (0, 1407), (0, 1406), (0, 1395), (0, 1390), (0, 1387), (0, 1384), (0, 1383), (0, 1378), (0, 1377), (0, 1374), (0, 1373), (0, 1371), (0, 1363), (0, 1360), (0, 1355), (0, 1351), (0, 1350), (0, 1340), (0, 1336), (0, 1333), (0, 1331), (0, 1324), (0, 1323), (0, 1321), (0, 1316), (0, 1313), (0, 1295), (0, 1293), (0, 1292), (0, 1279), (0, 1276), (0, 1270), (0, 1265), (0, 1264), (0, 1256), (0, 1245), (0, 1242), (0, 1238), (0, 1236), (0, 1235), (0, 1228), (0, 1223), (0, 1220), (0, 1219), (0, 1217), (0, 1216), (0, 1215), (0, 1212), (0, 1207), (0, 1206), (0, 1200), (0, 1195), (0, 1194), (0, 1193), (0, 1192), (0, 1190), (0, 1187), (0, 1185), (0, 1181), (0, 1152), (0, 1151), (0, 1149), (0, 1147), (0, 1140), (0, 1139), (0, 1134), (0, 1126), (0, 1123), (0, 1121), (0, 1119), (0, 1111), (0, 1110), (0, 1093), (0, 1091), (0, 1085), (0, 1083), (0, 1082), (0, 1081), (0, 1078), (0, 1073), (0, 1070), (0, 1064), (0, 1063), (0, 1062), (0, 1060), (0, 1055), (0, 1052), (0, 1051), (0, 1050), (0, 1049), (0, 1047), (0, 1041), (0, 1040), (0, 1029), (0, 1028), (0, 1026), (0, 1022), (0, 1019), (0, 1016), (0, 1015), (0, 1012), (0, 1008), (0, 1003), (0, 997), (0, 990), (0, 989), (0, 981), (0, 980), (0, 979), (0, 978), (0, 977), (0, 968), (0, 967), (0, 962), (0, 961), (0, 960), (0, 958), (0, 957), (0, 952), (0, 948), (0, 943), (0, 931), (0, 929), (0, 927), (0, 920), (0, 916), (0, 913), (0, 908), (0, 897), (0, 896), (0, 893), (0, 891), (0, 887), (0, 869), (0, 868), (0, 856), (0, 854), (0, 853), (0, 849), (0, 846), (0, 843), (0, 841), (0, 840), (0, 834), (0, 832), (0, 829), (0, 824), (0, 821), (0, 818), (0, 813), (0, 801), (0, 792), (0, 787), (0, 786), (0, 785), (0, 784), (0, 780), (0, 771), (0, 769), (0, 765), (0, 764), (0, 756), (0, 744), (0, 741), (0, 739), (0, 737), (0, 735), (0, 734), (0, 733), (0, 729), (0, 728), (0, 720), (0, 716), (0, 712), (0, 711), (0, 710), (0, 705), (0, 698), (0, 693), (0, 677), (0, 676), (0, 672), (0, 664), (0, 663), (0, 662), (0, 661), (0, 657), (0, 654), (0, 652), (0, 644), (0, 639), (0, 633), (0, 628), (0, 625), (0, 622), (0, 619), (0, 615), (0, 614), (0, 613), (0, 602), (0, 598), (0, 587), (0, 585), (0, 583), (0, 579), (0, 574), (0, 573), (0, 567), (0, 565), (0, 562), (0, 560), (0, 559), (0, 557), (0, 556), (0, 551), (0, 547), (0, 535), (0, 533), (0, 530), (0, 529), (0, 525), (0, 523), (0, 519), (0, 513), (0, 512), (0, 511), (0, 510), (0, 509), (0, 495), (0, 492), (0, 488), (0, 484), (0, 482), (0, 469), (0, 468), (0, 466), (0, 464), (0, 462), (0, 461), (0, 457), (0, 456), (0, 443), (0, 432), (0, 427), (0, 416), (0, 408), (0, 406), (0, 404), (0, 395), (0, 392), (0, 382), (0, 369), (0, 368), (0, 364), (0, 360), (0, 358), (0, 356), (0, 347), (0, 344), (0, 342), (0, 341), (0, 336), (0, 334), (0, 324), (0, 320), (0, 319), (0, 316), (0, 314), (0, 313), (0, 299), (0, 296), (0, 295), (0, 294), (0, 293), (0, 284), (0, 282), (0, 281), (0, 279), (0, 273), (0, 269), (0, 262), (0, 251), (0, 249), (0, 244), (0, 241), (0, 237), (0, 235), (0, 234), (0, 220), (0, 219), (0, 213), (0, 204), (0, 201), (0, 194), (0, 190), (0, 189), (0, 184), (0, 180), (0, 178), (0, 176), (0, 174), (0, 171), (0, 168), (0, 166), (0, 164), (0, 156), (0, 155), (0, 154), (0, 153), (0, 151), (0, 148), (0, 137), (0, 123), (0, 119), (0, 118), (0, 113), (0, 106), (0, 103), (0, 100), (0, 97), (0, 92), (0, 89), (0, 88), (0, 86), (0, 84), (0, 82), (0, 81), (0, 74), (0, 69), (0, 61), (0, 60), (0, 55), (0, 52), (0, 42), (0, 41), (0, 38), (0, 36), (0, 35), (0, 34), (0, 29), (0, 28), (0, 23), (0, 20)]\n",
      "Average local clustering coefficient:  0.18654479547922218\n"
     ]
    },
    {
     "name": "stdout",
     "output_type": "stream",
     "text": [
      "Global clustering coefficient:  0.13375631759143525\n"
     ]
    }
   ],
   "source": [
    "# the global network \n",
    "clust = nx.clustering(G_friends)\n",
    "print(sorted(((v,k) for k,v in clust.items()), reverse=True))\n",
    "print(\"Average local clustering coefficient: \", np.mean(np.array(list(clust.values()))))\n",
    "print(\"Global clustering coefficient: \", nx.transitivity(G_friends))"
   ]
  },
  {
   "cell_type": "code",
   "execution_count": 103,
   "metadata": {},
   "outputs": [
    {
     "name": "stdout",
     "output_type": "stream",
     "text": [
      "Number of communities:  {0, 1, 2, 3, 4, 5, 6, 7, 8, 9, 10, 11, 12, 13, 14, 15, 16, 17, 18, 19, 20, 21, 22, 23, 24, 25, 26, 27, 28}\n",
      "Louvain communities:  {2: 0, 275: 0, 428: 0, 515: 0, 761: 0, 831: 0, 909: 1, 1209: 0, 1210: 0, 1230: 2, 1327: 0, 1585: 0, 1625: 2, 1869: 0, 3: 2, 78: 2, 255: 2, 460: 2, 837: 2, 1740: 2, 1801: 2, 1975: 2, 4: 0, 99: 0, 124: 0, 211: 0, 264: 0, 493: 0, 520: 0, 534: 0, 850: 0, 1103: 0, 2080: 0, 5: 2, 228: 2, 725: 2, 1271: 2, 1310: 1, 1481: 2, 1785: 3, 6: 2, 149: 4, 1697: 2, 1761: 2, 7: 1, 46: 5, 232: 5, 390: 5, 545: 1, 815: 5, 873: 1, 1002: 5, 1135: 5, 1184: 5, 1308: 1, 1453: 5, 1466: 1, 1649: 5, 1666: 1, 1734: 5, 2020: 1, 2037: 5, 2061: 5, 8: 5, 339: 5, 370: 4, 419: 5, 749: 5, 1017: 5, 1178: 5, 1515: 5, 1568: 5, 1811: 5, 1813: 5, 9: 1, 743: 1, 1956: 1, 10: 4, 1196: 3, 1498: 4, 1530: 4, 1562: 3, 1986: 4, 11: 5, 12: 5, 25: 1, 129: 5, 136: 5, 145: 5, 230: 5, 278: 5, 405: 5, 684: 5, 795: 5, 804: 5, 816: 5, 859: 0, 984: 5, 1132: 5, 1136: 5, 1179: 5, 1189: 5, 1475: 1, 1577: 5, 1684: 4, 1766: 5, 1780: 5, 1828: 5, 2004: 5, 2021: 5, 127: 4, 133: 5, 146: 5, 236: 5, 240: 5, 258: 5, 400: 5, 593: 5, 730: 5, 797: 5, 861: 5, 930: 5, 941: 5, 998: 1, 1023: 5, 1056: 5, 1088: 4, 1145: 5, 1146: 4, 1253: 5, 1272: 5, 1346: 5, 1348: 5, 1368: 1, 1455: 5, 1628: 5, 1636: 5, 1709: 3, 1726: 5, 1776: 5, 1820: 5, 1895: 1, 13: 5, 481: 5, 732: 5, 1659: 5, 2041: 1, 14: 3, 608: 3, 642: 2, 754: 3, 1258: 0, 1357: 3, 1554: 3, 1702: 3, 15: 2, 122: 2, 143: 2, 237: 0, 266: 4, 416: 2, 454: 2, 771: 3, 1243: 4, 1281: 3, 1383: 2, 1556: 2, 1662: 1, 1805: 2, 1879: 3, 1993: 5, 2025: 0, 2036: 1, 16: 1, 252: 5, 437: 5, 701: 5, 726: 1, 790: 1, 1226: 5, 1263: 5, 1503: 5, 1567: 5, 1632: 5, 1665: 5, 1706: 1, 1833: 5, 1937: 1, 2000: 6, 2068: 5, 17: 5, 330: 5, 632: 5, 1071: 5, 1661: 5, 1917: 5, 18: 4, 298: 4, 308: 4, 401: 4, 475: 4, 675: 5, 1183: 4, 1302: 4, 1424: 4, 1458: 4, 1465: 3, 20: 2, 1891: 2, 21: 5, 207: 5, 1233: 5, 1305: 5, 1646: 5, 22: 7, 59: 0, 80: 7, 170: 7, 198: 4, 349: 7, 395: 7, 655: 4, 903: 7, 1249: 2, 1362: 3, 1543: 3, 1589: 7, 1865: 0, 23: 3, 107: 3, 24: 5, 150: 5, 231: 5, 329: 5, 361: 4, 417: 1, 435: 8, 502: 5, 898: 5, 1027: 1, 1033: 5, 1102: 5, 1590: 5, 1722: 5, 1973: 5, 310: 5, 463: 1, 636: 5, 852: 5, 1113: 5, 1222: 4, 1552: 5, 1647: 1, 2056: 1, 26: 1, 212: 3, 1094: 1, 1642: 0, 27: 1, 758: 1, 28: 0, 29: 7, 946: 7, 30: 1, 229: 1, 487: 1, 501: 5, 638: 5, 751: 1, 1130: 4, 1283: 1, 1614: 4, 31: 0, 62: 0, 210: 0, 218: 0, 306: 0, 371: 0, 396: 0, 474: 0, 499: 0, 575: 0, 658: 0, 762: 0, 954: 0, 1081: 0, 1163: 0, 1164: 0, 1173: 0, 1213: 0, 1255: 0, 1343: 0, 1514: 0, 1653: 0, 1835: 0, 2097: 0, 32: 0, 889: 3, 1474: 0, 1486: 0, 1905: 0, 33: 3, 282: 3, 457: 3, 496: 3, 750: 3, 845: 3, 1231: 3, 1779: 3, 34: 4, 35: 4, 972: 4, 36: 3, 525: 3, 747: 4, 949: 7, 37: 2, 142: 0, 1660: 2, 38: 5, 383: 5, 39: 0, 1125: 0, 2003: 0, 40: 0, 135: 0, 161: 0, 325: 0, 1089: 0, 1393: 0, 1841: 0, 2055: 0, 41: 3, 84: 3, 42: 1, 1778: 1, 43: 2, 172: 3, 179: 5, 193: 2, 260: 5, 615: 2, 637: 3, 691: 5, 757: 5, 1013: 7, 1076: 2, 1084: 2, 1167: 2, 1410: 5, 1469: 3, 1491: 5, 2006: 2, 44: 4, 319: 4, 485: 4, 1138: 4, 1152: 0, 1240: 4, 1381: 4, 45: 5, 49: 5, 271: 5, 413: 5, 514: 5, 518: 5, 537: 5, 542: 5, 589: 5, 1080: 5, 47: 5, 121: 5, 132: 5, 158: 5, 214: 5, 226: 5, 227: 5, 248: 5, 253: 5, 280: 5, 302: 5, 318: 5, 322: 5, 335: 5, 355: 5, 362: 4, 415: 5, 497: 5, 527: 5, 531: 5, 536: 5, 561: 2, 569: 5, 609: 5, 690: 5, 702: 1, 717: 5, 814: 3, 830: 5, 862: 5, 864: 4, 875: 5, 882: 5, 911: 5, 1053: 5, 1278: 5, 1304: 5, 1356: 5, 1365: 5, 1369: 5, 1413: 5, 1447: 5, 1478: 5, 1600: 5, 1674: 5, 1687: 5, 1742: 5, 1810: 5, 1821: 5, 1880: 5, 1954: 5, 2018: 5, 2054: 5, 58: 5, 470: 5, 1445: 5, 1471: 5, 1603: 3, 48: 5, 558: 5, 963: 5, 1014: 5, 1247: 5, 1560: 5, 1616: 5, 1648: 5, 1856: 5, 1859: 4, 1979: 5, 87: 5, 190: 2, 311: 5, 538: 5, 572: 5, 723: 5, 847: 5, 884: 5, 1007: 5, 1332: 5, 1337: 5, 1433: 1, 1434: 5, 1509: 4, 1563: 2, 1753: 5, 1803: 5, 1961: 5, 1983: 5, 2071: 5, 50: 3, 125: 3, 195: 3, 712: 4, 794: 3, 51: 3, 157: 3, 202: 4, 208: 3, 340: 5, 491: 3, 548: 3, 677: 2, 709: 3, 731: 3, 752: 7, 971: 3, 1020: 4, 1214: 3, 1287: 3, 1380: 3, 1527: 4, 1553: 3, 1586: 3, 1671: 3, 1818: 0, 1964: 0, 1968: 3, 1978: 3, 2008: 3, 52: 2, 153: 2, 1741: 4, 53: 5, 120: 5, 704: 6, 1476: 5, 54: 1, 333: 5, 2031: 1, 55: 2, 1382: 2, 56: 4, 254: 4, 478: 4, 668: 4, 1067: 4, 1488: 3, 1597: 4, 57: 7, 101: 7, 233: 5, 247: 7, 351: 5, 385: 5, 532: 7, 844: 7, 952: 4, 986: 3, 1054: 4, 1351: 7, 1521: 5, 1528: 5, 1730: 4, 203: 7, 338: 0, 399: 5, 425: 5, 571: 5, 620: 5, 634: 5, 646: 5, 680: 5, 703: 5, 878: 5, 1128: 5, 1150: 5, 1294: 5, 1300: 5, 1385: 5, 1457: 5, 1525: 5, 1851: 5, 1965: 5, 2059: 5, 2072: 1, 265: 7, 388: 4, 424: 3, 433: 3, 439: 6, 455: 0, 621: 5, 759: 3, 899: 1, 969: 1, 979: 0, 999: 3, 1062: 0, 1236: 3, 1358: 3, 1635: 0, 1737: 0, 2016: 2, 60: 2, 1087: 2, 2051: 2, 61: 4, 1006: 4, 1533: 5, 442: 0, 665: 0, 1165: 0, 1728: 0, 63: 3, 85: 3, 114: 3, 676: 3, 738: 3, 753: 3, 865: 3, 890: 3, 950: 3, 1174: 3, 1206: 3, 1275: 3, 1396: 3, 2077: 3, 64: 2, 407: 0, 1641: 2, 1907: 2, 65: 1, 118: 1, 1107: 1, 1312: 1, 1613: 1, 66: 0, 359: 0, 430: 0, 452: 0, 683: 0, 699: 0, 1029: 0, 1454: 0, 68: 5, 242: 5, 69: 2, 168: 2, 619: 2, 1194: 2, 1404: 2, 70: 9, 670: 9, 789: 9, 895: 9, 1005: 9, 1025: 9, 1574: 9, 71: 3, 891: 3, 1324: 3, 72: 5, 73: 0, 1010: 0, 1038: 0, 1883: 0, 74: 4, 533: 4, 1299: 4, 1852: 1, 2085: 4, 75: 5, 315: 5, 674: 5, 1664: 1, 76: 1, 77: 3, 594: 3, 1724: 0, 91: 2, 105: 2, 106: 2, 112: 0, 155: 2, 257: 0, 262: 2, 360: 2, 438: 2, 444: 2, 447: 2, 468: 2, 506: 0, 512: 7, 519: 3, 550: 3, 552: 2, 657: 7, 666: 0, 695: 2, 718: 2, 729: 2, 802: 2, 805: 2, 823: 3, 874: 2, 908: 2, 914: 2, 926: 2, 928: 2, 935: 0, 936: 2, 951: 0, 1024: 2, 1026: 3, 1098: 2, 1101: 2, 1149: 2, 1181: 2, 1211: 2, 1273: 2, 1284: 2, 1315: 2, 1403: 1, 1557: 2, 1575: 2, 1601: 0, 1604: 2, 1619: 3, 1621: 2, 1719: 1, 1732: 2, 1774: 2, 1827: 2, 1890: 2, 1892: 2, 1995: 2, 2028: 2, 2046: 2, 2066: 3, 79: 5, 144: 5, 414: 5, 421: 5, 479: 5, 486: 5, 858: 1, 1001: 5, 1022: 5, 1248: 5, 1769: 5, 2087: 5, 192: 7, 225: 7, 261: 7, 582: 7, 931: 7, 1296: 3, 1479: 7, 1501: 7, 1599: 7, 1877: 4, 81: 2, 921: 2, 1507: 2, 82: 4, 83: 2, 1342: 2, 1386: 2, 1459: 2, 1064: 3, 696: 3, 828: 3, 912: 3, 1627: 3, 1935: 1, 86: 7, 1418: 5, 1679: 7, 770: 5, 1057: 5, 88: 2, 1938: 2, 89: 5, 152: 5, 90: 1, 595: 3, 1106: 5, 1588: 1, 708: 2, 92: 10, 639: 10, 94: 0, 1656: 0, 1708: 0, 95: 5, 671: 5, 966: 5, 1104: 5, 96: 0, 128: 0, 1670: 1, 97: 4, 98: 5, 778: 5, 781: 5, 191: 0, 304: 0, 446: 0, 566: 0, 577: 0, 650: 0, 686: 0, 767: 0, 1319: 7, 1595: 0, 100: 0, 964: 7, 1161: 7, 1267: 4, 1388: 5, 1519: 7, 1743: 7, 2027: 5, 2070: 3, 102: 11, 1199: 11, 1939: 11, 103: 0, 1496: 0, 104: 5, 667: 5, 2042: 4, 366: 2, 108: 3, 113: 4, 235: 3, 376: 3, 489: 3, 516: 0, 592: 1, 616: 3, 685: 7, 711: 3, 1364: 2, 1490: 3, 1536: 3, 546: 3, 580: 3, 871: 3, 925: 3, 109: 3, 317: 3, 402: 3, 459: 3, 110: 5, 380: 5, 713: 5, 819: 1, 1069: 5, 1092: 1, 1572: 5, 1606: 5, 111: 8, 206: 8, 270: 8, 345: 8, 603: 8, 776: 8, 855: 8, 1677: 8, 1759: 8, 1862: 8, 611: 0, 1397: 3, 1401: 4, 835: 3, 877: 3, 1889: 3, 115: 2, 1032: 2, 1144: 2, 1274: 2, 2048: 2, 116: 6, 411: 6, 924: 2, 117: 0, 187: 0, 568: 0, 596: 0, 788: 0, 2014: 0, 1293: 1, 119: 3, 551: 3, 327: 5, 553: 5, 836: 5, 1298: 5, 1898: 5, 305: 5, 1055: 4, 1058: 5, 1277: 4, 1559: 5, 2038: 5, 296: 2, 492: 2, 508: 2, 692: 3, 876: 2, 1116: 2, 1221: 2, 1723: 2, 1789: 0, 1824: 2, 123: 4, 216: 0, 274: 1, 397: 0, 1225: 0, 1282: 0, 1626: 0, 393: 3, 471: 3, 1522: 3, 1832: 4, 126: 5, 851: 5, 1804: 4, 363: 4, 432: 4, 1126: 4, 1339: 4, 1887: 4, 1906: 4, 2088: 1, 141: 0, 217: 2, 436: 0, 567: 2, 714: 0, 961: 1, 1115: 0, 1202: 0, 1615: 12, 1618: 0, 1744: 0, 1866: 0, 1893: 2, 1929: 0, 1957: 0, 1981: 1, 130: 5, 162: 5, 256: 5, 451: 5, 498: 5, 503: 5, 612: 5, 779: 0, 1046: 5, 1065: 5, 1301: 5, 1334: 5, 1419: 1, 1555: 5, 1762: 5, 1771: 1, 1773: 1, 1782: 4, 1963: 5, 1072: 5, 131: 2, 1204: 2, 1437: 5, 1633: 5, 332: 5, 1124: 5, 1423: 5, 1593: 5, 1768: 5, 1788: 5, 134: 5, 1198: 5, 1988: 5, 286: 5, 490: 4, 808: 5, 905: 5, 942: 5, 1311: 5, 1379: 5, 1517: 4, 1591: 5, 1690: 5, 137: 4, 1910: 4, 139: 4, 1999: 4, 140: 0, 605: 0, 1480: 0, 183: 0, 269: 0, 453: 0, 480: 0, 540: 0, 799: 0, 1021: 3, 1148: 0, 1156: 4, 1232: 0, 1244: 0, 1367: 0, 1405: 0, 1463: 2, 1541: 0, 1542: 0, 1777: 0, 1900: 0, 1924: 3, 1991: 0, 201: 0, 283: 2, 387: 2, 817: 1, 938: 1, 943: 2, 955: 0, 1086: 5, 1114: 1, 1154: 2, 1246: 2, 1440: 4, 2009: 2, 354: 5, 378: 3, 223: 5, 682: 5, 1143: 5, 1540: 5, 1034: 6, 1462: 5, 1564: 5, 1725: 5, 147: 5, 1137: 5, 1683: 5, 148: 4, 843: 4, 870: 4, 521: 4, 581: 1, 584: 2, 939: 1, 985: 5, 1153: 1, 1186: 5, 1197: 5, 1658: 5, 151: 5, 1539: 7, 1607: 5, 1757: 5, 154: 4, 1040: 4, 2029: 4, 156: 2, 449: 3, 547: 3, 827: 3, 2093: 2, 312: 1, 473: 5, 530: 5, 1605: 5, 1974: 3, 159: 5, 307: 2, 314: 5, 326: 4, 412: 4, 598: 5, 659: 5, 660: 5, 806: 7, 1188: 4, 1363: 5, 1467: 4, 1678: 5, 1704: 1, 1808: 5, 1873: 4, 163: 1, 175: 1, 164: 3, 1918: 3, 1966: 3, 166: 13, 1987: 13, 1155: 2, 854: 2, 1112: 7, 1408: 2, 171: 3, 238: 2, 268: 3, 303: 3, 780: 3, 1549: 3, 173: 4, 1120: 4, 1420: 4, 174: 0, 320: 0, 1692: 0, 176: 0, 177: 3, 343: 3, 377: 3, 622: 3, 178: 2, 494: 1, 742: 5, 1307: 5, 1452: 5, 1483: 4, 1748: 1, 180: 5, 1100: 2, 181: 7, 205: 7, 259: 7, 277: 7, 1118: 7, 1925: 7, 182: 0, 1464: 0, 1166: 0, 184: 3, 185: 1, 1775: 1, 186: 3, 1070: 3, 643: 0, 1958: 0, 188: 3, 189: 0, 960: 2, 1133: 4, 1691: 2, 1727: 2, 1752: 5, 1772: 2, 194: 0, 647: 0, 297: 3, 398: 4, 465: 3, 907: 3, 1264: 3, 1345: 3, 1566: 4, 1695: 3, 1707: 3, 1781: 3, 1792: 3, 1797: 4, 1931: 3, 196: 0, 374: 0, 410: 7, 1079: 1, 1353: 7, 1372: 0, 1450: 4, 1473: 7, 1682: 4, 1745: 4, 1794: 3, 1809: 4, 1971: 3, 2069: 1, 200: 3, 1640: 7, 364: 2, 1428: 4, 1921: 7, 2067: 7, 204: 4, 1524: 4, 1850: 5, 706: 3, 1018: 3, 209: 1, 539: 0, 1800: 0, 476: 0, 1667: 1, 215: 3, 602: 3, 627: 3, 800: 3, 832: 3, 978: 3, 1004: 1, 1041: 3, 1078: 4, 1147: 3, 1172: 7, 1331: 4, 1623: 3, 1858: 3, 1984: 4, 2001: 3, 213: 7, 1573: 4, 541: 3, 1914: 3, 219: 4, 1051: 4, 220: 4, 2039: 4, 1171: 5, 224: 0, 1003: 2, 555: 5, 1959: 5, 896: 1, 987: 5, 1489: 1, 1799: 1, 910: 5, 1109: 5, 1717: 1, 1838: 4, 409: 5, 1399: 5, 234: 7, 822: 2, 348: 7, 353: 5, 1429: 5, 1451: 5, 661: 2, 472: 5, 241: 2, 1758: 2, 2010: 2, 932: 1, 1435: 5, 243: 4, 1795: 4, 244: 4, 346: 4, 886: 7, 906: 4, 1011: 1, 289: 7, 249: 4, 250: 2, 1701: 2, 1969: 2, 251: 4, 1936: 4, 1909: 5, 1318: 5, 629: 4, 1581: 4, 1793: 4, 1826: 4, 1920: 4, 350: 5, 1511: 5, 1516: 5, 1663: 5, 722: 5, 1042: 5, 2053: 3, 504: 7, 263: 4, 420: 4, 1099: 0, 1505: 0, 1882: 2, 1942: 0, 391: 7, 299: 4, 368: 2, 662: 4, 913: 2, 922: 2, 1170: 4, 1234: 4, 1998: 4, 267: 1, 321: 3, 1535: 4, 273: 2, 664: 0, 1350: 2, 1427: 0, 279: 7, 716: 7, 809: 5, 848: 2, 933: 4, 1443: 4, 1903: 5, 2033: 5, 281: 3, 1266: 2, 284: 1, 285: 4, 678: 4, 760: 4, 1545: 4, 1830: 4, 288: 3, 507: 3, 290: 0, 291: 5, 578: 5, 292: 3, 342: 3, 635: 3, 687: 3, 1402: 3, 293: 3, 1749: 3, 294: 2, 295: 3, 1499: 2, 1721: 3, 431: 4, 640: 3, 645: 2, 673: 4, 688: 4, 825: 4, 863: 4, 915: 4, 917: 4, 1177: 4, 1180: 4, 1291: 4, 1354: 4, 1532: 4, 1582: 4, 1784: 4, 1823: 4, 1919: 4, 1994: 4, 2019: 4, 2078: 4, 841: 4, 300: 4, 1375: 4, 1655: 4, 301: 4, 631: 4, 331: 5, 590: 5, 840: 3, 1720: 3, 365: 2, 697: 2, 982: 5, 1075: 4, 1477: 0, 1972: 2, 574: 4, 1699: 6, 1897: 6, 1608: 4, 1806: 2, 1950: 4, 313: 3, 715: 3, 316: 14, 1484: 14, 739: 2, 1237: 3, 1845: 0, 1366: 1, 1694: 2, 2065: 5, 324: 3, 328: 1, 1389: 2, 1220: 0, 1715: 4, 1790: 5, 1446: 5, 1736: 5, 334: 4, 1416: 4, 1831: 4, 336: 4, 583: 4, 337: 3, 689: 5, 341: 2, 559: 3, 772: 3, 1531: 3, 1760: 3, 344: 0, 1261: 4, 1796: 4, 2084: 4, 347: 1, 763: 1, 1374: 7, 1290: 1, 1872: 1, 352: 5, 1834: 1, 375: 5, 1157: 1, 356: 3, 1377: 3, 357: 0, 358: 3, 1885: 2, 656: 0, 1791: 4, 426: 2, 1035: 2, 1411: 2, 440: 2, 367: 3, 940: 0, 1316: 2, 2044: 2, 369: 2, 464: 4, 1259: 1, 1798: 0, 372: 3, 959: 0, 469: 3, 1093: 3, 535: 3, 1394: 5, 382: 2, 1829: 5, 386: 0, 2011: 0, 1091: 4, 477: 5, 1039: 5, 1786: 5, 920: 7, 392: 3, 394: 4, 1431: 4, 2024: 0, 560: 0, 1508: 4, 403: 3, 669: 5, 826: 5, 1825: 3, 404: 1, 604: 12, 745: 5, 777: 0, 793: 5, 853: 3, 406: 7, 408: 0, 1052: 7, 2064: 7, 736: 6, 957: 6, 2032: 2, 782: 2, 1008: 2, 418: 4, 1840: 4, 2062: 4, 543: 4, 1576: 4, 1844: 4, 423: 0, 1456: 0, 995: 5, 888: 1, 1989: 2, 427: 15, 1819: 15, 1881: 0, 1407: 4, 434: 0, 934: 0, 1617: 0, 1992: 0, 842: 2, 500: 2, 1060: 4, 441: 0, 443: 2, 1611: 0, 450: 3, 868: 1, 1049: 4, 1192: 2, 769: 0, 927: 4, 1395: 2, 456: 5, 458: 1, 649: 3, 1159: 3, 1977: 2, 461: 1, 462: 3, 904: 1, 466: 4, 467: 1, 1288: 4, 1534: 3, 495: 5, 965: 5, 1097: 5, 2083: 0, 785: 5, 1688: 3, 482: 3, 484: 2, 2090: 2, 1303: 4, 1495: 4, 1638: 4, 1292: 1, 488: 4, 849: 4, 1373: 4, 607: 3, 549: 3, 1289: 2, 2058: 0, 1584: 1, 1888: 2, 1185: 5, 679: 5, 1219: 4, 1551: 0, 727: 2, 544: 2, 509: 5, 510: 1, 511: 0, 513: 2, 1131: 5, 1494: 5, 1520: 7, 1587: 0, 517: 4, 1579: 4, 1160: 4, 1444: 4, 2076: 4, 523: 16, 1836: 16, 526: 3, 529: 2, 962: 2, 1497: 2, 2081: 5, 2023: 5, 1846: 3, 975: 1, 1028: 1, 812: 4, 556: 2, 557: 17, 1500: 17, 617: 1, 562: 3, 654: 3, 563: 2, 1347: 2, 565: 0, 1712: 3, 570: 6, 1652: 4, 573: 6, 576: 0, 768: 5, 579: 18, 1733: 18, 651: 1, 1944: 1, 585: 4, 586: 3, 2100: 3, 587: 3, 798: 3, 1122: 5, 601: 2, 1976: 2, 1352: 12, 1996: 12, 606: 3, 2047: 3, 707: 2, 1765: 5, 613: 2, 614: 1, 1578: 1, 618: 19, 1650: 19, 2045: 19, 705: 3, 1894: 1, 623: 4, 1239: 4, 624: 20, 1502: 20, 1933: 20, 625: 2, 628: 0, 968: 0, 1438: 4, 633: 4, 1349: 3, 641: 4, 1864: 2, 644: 3, 1016: 2, 1703: 3, 652: 21, 869: 21, 1506: 0, 1934: 1, 2095: 2, 1949: 0, 663: 1, 672: 1, 1158: 1, 1430: 4, 1783: 3, 976: 4, 1941: 4, 2017: 4, 681: 4, 1376: 4, 2091: 4, 700: 5, 820: 2, 693: 4, 1223: 0, 694: 0, 698: 2, 1262: 5, 1854: 6, 2060: 3, 860: 2, 1044: 3, 1228: 2, 1309: 2, 1313: 2, 719: 3, 710: 7, 821: 7, 1340: 7, 1868: 3, 720: 3, 721: 3, 1470: 3, 1634: 3, 958: 2, 1242: 2, 1847: 2, 807: 1, 1817: 2, 1238: 2, 728: 0, 1280: 0, 1997: 5, 733: 4, 734: 4, 735: 4, 737: 0, 741: 22, 818: 22, 1425: 1, 744: 1, 746: 1, 839: 1, 1946: 4, 792: 1, 1930: 1, 1205: 2, 756: 2, 1583: 3, 1696: 4, 1229: 1, 1637: 0, 1923: 2, 764: 3, 765: 2, 977: 0, 773: 12, 1030: 12, 1322: 12, 1442: 12, 1215: 5, 1279: 2, 1710: 2, 784: 3, 1620: 3, 786: 7, 787: 3, 1390: 3, 1191: 0, 791: 0, 801: 5, 810: 1, 1948: 4, 2057: 4, 813: 2, 1085: 2, 1861: 2, 1871: 1, 1330: 2, 2035: 2, 1990: 2, 824: 2, 829: 2, 2052: 0, 834: 7, 1867: 7, 838: 2, 1951: 4, 846: 3, 1853: 2, 885: 5, 856: 3, 1190: 4, 1705: 3, 881: 4, 887: 3, 2015: 3, 1449: 3, 893: 0, 897: 2, 929: 2, 1111: 7, 1323: 1, 900: 1, 916: 5, 919: 3, 1335: 2, 1090: 2, 1207: 3, 1644: 2, 1629: 2, 967: 3, 1911: 4, 1036: 0, 1711: 0, 948: 0, 953: 4, 1073: 1, 1570: 1, 1439: 3, 1700: 2, 1212: 3, 980: 2, 981: 2, 989: 4, 990: 3, 991: 2, 993: 4, 1751: 4, 1807: 4, 994: 2, 996: 2, 997: 2, 1414: 3, 1504: 1, 1063: 4, 1123: 2, 1009: 1, 1012: 2, 1015: 5, 1896: 2, 1019: 4, 1037: 2, 1224: 2, 1265: 0, 1689: 2, 1047: 23, 1276: 23, 1050: 2, 1922: 4, 1061: 2, 1875: 4, 1928: 4, 1068: 0, 1908: 5, 1685: 4, 1074: 0, 1256: 2, 1082: 1, 1083: 4, 1134: 4, 1286: 2, 1547: 1, 1151: 4, 1731: 2, 1746: 1, 1815: 4, 1108: 2, 1110: 24, 1321: 24, 1594: 4, 1119: 1, 1121: 3, 1546: 0, 1915: 0, 1139: 2, 1140: 0, 1544: 3, 1899: 4, 1217: 3, 1432: 0, 1254: 2, 1686: 4, 1270: 3, 1176: 3, 1816: 4, 1182: 2, 1187: 2, 1863: 5, 1472: 0, 1193: 3, 1755: 2, 1195: 2, 1962: 2, 1200: 0, 1860: 3, 1643: 0, 1492: 0, 1814: 0, 1955: 0, 1216: 1, 1630: 2, 1822: 2, 1235: 25, 1421: 25, 1904: 25, 1245: 2, 1622: 2, 2005: 2, 2030: 2, 1538: 2, 1669: 2, 2007: 3, 1902: 1, 1295: 4, 2013: 4, 2092: 4, 2034: 4, 1325: 20, 1329: 4, 1485: 4, 1333: 4, 1336: 26, 1676: 26, 1680: 2, 1754: 2, 2075: 0, 1558: 4, 1355: 3, 1426: 3, 1360: 17, 1371: 27, 1982: 27, 1947: 0, 1857: 3, 1378: 28, 1764: 28, 1384: 0, 1387: 2, 1398: 4, 1406: 2, 1729: 2, 1848: 2, 1787: 2, 1422: 4, 1952: 4, 1441: 3, 2040: 4, 1461: 5, 1770: 7, 1493: 3, 2099: 2, 1565: 4, 1513: 2, 1518: 3, 1592: 4, 1537: 4, 2022: 4, 1580: 1, 1718: 1, 1596: 3, 1842: 4, 1624: 0, 2043: 0, 2094: 4, 1639: 3, 1654: 0, 1657: 2, 1747: 2, 1802: 1, 1672: 0, 1675: 5, 1693: 5, 1926: 4, 2086: 3, 2096: 2, 1855: 0, 1980: 0, 1839: 3, 2079: 0, 1874: 0, 1912: 6}\n",
      "Louvain modularity:  0.4412720979630678\n"
     ]
    }
   ],
   "source": [
    "#partition = community.best_partition(G_friends)\n",
    "print(\"Number of communities: \", set(partition.values()))\n",
    "print(\"Louvain communities: \", partition)\n",
    "print(\"Louvain modularity: \", community.modularity(partition, G_friends))"
   ]
  },
  {
   "cell_type": "markdown",
   "metadata": {},
   "source": [
    "#### 5. Compute the local clustering coefficients, and extract the average, within: \n",
    "    - the global network \n",
    "    - the communities \n",
    "    - (OPTIONAL) compare them and discuss the result"
   ]
  },
  {
   "cell_type": "code",
   "execution_count": 109,
   "metadata": {},
   "outputs": [
    {
     "data": {
      "image/png": "[encoded data removed]",
      "text/plain": [
       "<Figure size 432x288 with 1 Axes>"
      ]
     },
     "metadata": {},
     "output_type": "display_data"
    },
    {
     "name": "stdout",
     "output_type": "stream",
     "text": [
      "--------------------------\n",
      "[2, 275, 428, 515, 761, 831, 1209, 1210, 1327, 1585, 4, 99, 124, 211, 264, 493, 520, 534, 850, 1103, 2080, 859, 2041, 1258, 143, 1805, 2025, 59, 23, 26, 1094, 1642, 28, 31, 62, 210, 218, 306, 371, 396, 474, 499, 575, 658, 762, 954, 1163, 1164, 1173, 1213, 1255, 1343, 1514, 1653, 1835, 2097, 32, 1474, 1486, 1905, 142, 43, 172, 193, 615, 1084, 1859, 1818, 338, 979, 1062, 1635, 1737, 442, 665, 1165, 1728, 407, 66, 359, 430, 452, 683, 699, 1029, 1454, 73, 1010, 1038, 1724, 88, 1938, 94, 1656, 1708, 96, 128, 191, 304, 446, 566, 577, 650, 686, 767, 1595, 100, 103, 1496, 117, 187, 568, 596, 788, 2014, 216, 397, 1225, 1282, 1626, 141, 436, 714, 1115, 1202, 1618, 1744, 1866, 1929, 1957, 779, 605, 183, 269, 453, 480, 540, 1148, 1232, 1244, 1367, 1405, 1541, 1542, 1777, 1900, 1991, 201, 943, 955, 1246, 1440, 2009, 164, 1966, 780, 1549, 176, 182, 1464, 1166, 643, 1958, 960, 1691, 1727, 1772, 196, 374, 539, 1800, 476, 832, 224, 1003, 1099, 1505, 1942, 664, 1350, 1427, 290, 1477, 1220, 344, 357, 656, 1798, 959, 386, 2011, 394, 2024, 560, 777, 408, 423, 1456, 1881, 434, 934, 1617, 1992, 441, 1611, 1192, 461, 2083, 565, 576, 1506, 1223, 694, 737, 1637, 977, 1191, 791, 2052, 893, 1265, 1074, 1746, 1546, 1915, 1140, 1432, 1472, 1200, 1492, 1814, 1955, 2075, 1384, 2043, 1654, 1672]\n",
      "--------------------------\n",
      "[909, 1869, 1310, 7, 46, 232, 390, 545, 873, 1002, 1135, 1308, 1453, 1466, 1649, 1666, 1734, 2020, 2037, 2061, 749, 1017, 1178, 11, 12, 25, 129, 145, 230, 278, 405, 684, 795, 816, 1189, 1475, 1577, 1684, 1766, 1780, 1828, 2004, 146, 236, 240, 258, 400, 593, 730, 797, 998, 1023, 1145, 1146, 1346, 1348, 1628, 1726, 1776, 1820, 1895, 13, 481, 732, 1662, 1993, 437, 726, 790, 1503, 1833, 2000, 1917, 150, 231, 361, 417, 502, 1027, 1033, 1722, 310, 463, 636, 852, 1113, 1647, 758, 30, 229, 487, 638, 751, 1283, 179, 260, 757, 1410, 1469, 1491, 45, 413, 514, 518, 537, 542, 589, 1080, 47, 121, 214, 227, 248, 280, 318, 322, 355, 415, 527, 531, 536, 561, 690, 702, 814, 875, 911, 1053, 1278, 1356, 1369, 1447, 1674, 1742, 1810, 1954, 2054, 58, 470, 48, 558, 963, 1014, 1247, 1616, 1648, 1856, 1979, 538, 847, 1433, 1434, 1961, 1983, 340, 1741, 53, 120, 704, 1476, 54, 333, 2031, 233, 385, 399, 634, 646, 680, 703, 878, 1128, 1150, 1300, 1385, 1525, 1851, 2059, 2072, 439, 621, 969, 999, 61, 1533, 242, 72, 79, 144, 421, 479, 486, 858, 1022, 1248, 1769, 1418, 90, 1588, 97, 98, 778, 781, 1319, 1388, 104, 667, 592, 685, 110, 380, 819, 1092, 1572, 116, 411, 924, 327, 553, 836, 1298, 1898, 1116, 274, 2088, 130, 451, 498, 612, 1046, 1065, 1301, 1334, 1419, 1555, 1762, 1771, 1773, 1963, 286, 1311, 1517, 387, 1114, 354, 378, 682, 1540, 1034, 1725, 147, 1137, 1683, 581, 584, 939, 985, 1658, 151, 1757, 312, 159, 1704, 1808, 163, 175, 494, 742, 1307, 1483, 1748, 209, 1667, 896, 1489, 1799, 910, 1109, 1717, 1838, 1399, 353, 1429, 1451, 1435, 243, 1795, 1011, 1511, 1042, 504, 267, 809, 1443, 291, 578, 640, 590, 1699, 1366, 2065, 1446, 352, 1834, 375, 1791, 1316, 535, 477, 1039, 1786, 403, 669, 826, 604, 745, 793, 736, 904, 965, 785, 1292, 2058, 1584, 1185, 509, 1494, 1520, 2023, 1846, 975, 1028, 617, 570, 1652, 768, 651, 1122, 1765, 614, 1578, 705, 1894, 641, 1262, 1854, 1997, 1425, 1930, 1229, 1215, 801, 810, 1871, 1012, 1015, 1547, 1544, 1899, 1863, 1558, 1461, 1580, 1718, 1802, 1675, 1693, 2079]\n",
      "--------------------------\n",
      "[1230, 1625, 3, 78, 255, 460, 837, 1740, 1801, 1975, 5, 228, 725, 1271, 1481, 6, 1697, 1761, 743, 1498, 1709, 642, 15, 122, 237, 416, 454, 771, 1383, 1556, 2036, 20, 1891, 1249, 1865, 2056, 1081, 889, 34, 37, 1660, 39, 1125, 2003, 40, 135, 161, 325, 1089, 1393, 1841, 2055, 1076, 1167, 2006, 1152, 190, 548, 677, 1964, 55, 1382, 455, 2016, 60, 1087, 2051, 64, 1641, 1907, 69, 168, 619, 1194, 1404, 1883, 1852, 91, 105, 106, 112, 155, 257, 262, 360, 438, 444, 447, 468, 506, 552, 666, 695, 718, 729, 802, 805, 874, 908, 914, 926, 928, 935, 936, 951, 1024, 1098, 1101, 1149, 1181, 1211, 1273, 1284, 1315, 1557, 1575, 1601, 1604, 1621, 1732, 1774, 1827, 1890, 1892, 2028, 2046, 81, 921, 1507, 83, 1342, 1386, 1459, 708, 366, 108, 516, 546, 580, 871, 925, 611, 492, 508, 692, 876, 1221, 1723, 1789, 1824, 217, 567, 1893, 131, 1204, 140, 1480, 799, 1463, 283, 817, 1154, 1153, 156, 1974, 307, 1155, 1408, 238, 174, 320, 1692, 622, 178, 180, 1100, 189, 194, 647, 1079, 2069, 364, 627, 1172, 213, 234, 822, 661, 241, 1758, 2010, 932, 1882, 368, 913, 922, 273, 848, 1266, 288, 507, 294, 645, 1720, 365, 697, 1972, 739, 341, 426, 1035, 1411, 440, 940, 2044, 1259, 382, 406, 782, 1008, 888, 1989, 842, 500, 1060, 443, 868, 769, 1395, 1159, 1977, 1289, 1888, 1551, 727, 544, 510, 511, 513, 1587, 529, 962, 1497, 812, 1712, 601, 1976, 1996, 606, 2047, 625, 628, 968, 1016, 2095, 681, 1376, 820, 698, 860, 1044, 1228, 1309, 1313, 958, 1242, 1847, 1817, 1238, 728, 1280, 1205, 756, 1923, 765, 1279, 1710, 2057, 813, 1085, 1861, 1330, 2035, 1990, 824, 829, 838, 1853, 897, 929, 1335, 1090, 1207, 1644, 1629, 1036, 1711, 948, 1700, 980, 981, 991, 994, 996, 997, 1123, 1009, 1896, 1689, 1050, 1068, 1256, 1286, 1108, 1121, 1254, 1182, 1187, 1755, 1195, 1962, 1860, 1643, 1630, 1822, 1622, 2005, 2030, 1680, 1754, 1787, 2099, 1513, 1624, 1657, 1747, 2096, 1855, 1980, 1874]\n",
      "--------------------------\n",
      "[1785, 149, 10, 1196, 1530, 1562, 1986, 127, 1088, 14, 608, 754, 1357, 1554, 1702, 266, 1243, 1281, 1879, 1937, 18, 298, 308, 401, 475, 1183, 1302, 1424, 1458, 198, 655, 1362, 1543, 107, 212, 1130, 1614, 41, 84, 637, 319, 1138, 362, 1603, 1509, 50, 125, 195, 712, 794, 51, 157, 202, 208, 491, 709, 731, 971, 1020, 1214, 1287, 1380, 1527, 1553, 1586, 1671, 1968, 1978, 2008, 52, 153, 56, 254, 478, 668, 1067, 1488, 1597, 57, 101, 247, 532, 844, 952, 986, 1054, 1351, 1730, 388, 424, 433, 759, 899, 1236, 1358, 1006, 63, 85, 114, 676, 738, 753, 865, 890, 950, 1174, 1206, 1275, 1396, 2077, 65, 118, 1107, 1312, 1613, 71, 891, 1324, 74, 533, 1299, 2085, 1664, 77, 594, 519, 550, 823, 1026, 1403, 1619, 1995, 2066, 1296, 82, 1064, 696, 828, 912, 1627, 1935, 595, 1670, 964, 1267, 1519, 2070, 2042, 113, 235, 376, 489, 616, 711, 1364, 1490, 1536, 109, 317, 402, 459, 1397, 1401, 835, 877, 1889, 115, 1032, 1144, 1274, 2048, 1293, 119, 551, 1055, 1277, 296, 123, 393, 471, 1522, 1832, 1804, 363, 432, 1126, 1339, 1887, 1906, 961, 1782, 137, 1910, 139, 1999, 1021, 1156, 1924, 148, 843, 870, 521, 154, 1040, 2029, 449, 547, 827, 2093, 326, 1873, 1918, 171, 268, 303, 173, 1120, 1420, 177, 343, 377, 184, 1070, 188, 297, 398, 465, 907, 1264, 1345, 1566, 1695, 1707, 1781, 1792, 1372, 1450, 1682, 1745, 1794, 1809, 1971, 200, 1640, 1428, 204, 1524, 706, 1018, 215, 602, 800, 978, 1041, 1078, 1147, 1331, 1623, 1858, 1984, 2001, 1573, 541, 1914, 219, 1051, 220, 2039, 244, 346, 249, 250, 1701, 1969, 251, 1936, 629, 1581, 1793, 1826, 1920, 722, 2053, 299, 662, 1170, 1998, 321, 933, 281, 284, 285, 678, 760, 1545, 1830, 292, 342, 635, 687, 1402, 293, 1749, 295, 1499, 1721, 431, 673, 688, 825, 863, 915, 1177, 1180, 1291, 1354, 1582, 1784, 1823, 1919, 1994, 2019, 2078, 841, 300, 1375, 1655, 301, 631, 840, 1075, 574, 1897, 1806, 1950, 313, 715, 1237, 1845, 1694, 324, 1715, 334, 1416, 1831, 336, 583, 337, 559, 772, 1531, 1261, 1796, 2084, 347, 763, 1157, 358, 1885, 369, 372, 469, 1093, 1091, 392, 1431, 1508, 404, 853, 2064, 2032, 1407, 450, 1049, 649, 462, 467, 1288, 1534, 1688, 482, 484, 2090, 607, 549, 1219, 517, 1579, 1160, 1444, 2076, 526, 556, 562, 654, 563, 1347, 1944, 585, 586, 2100, 587, 798, 707, 613, 623, 1239, 1438, 633, 1349, 1864, 644, 1703, 1949, 672, 1158, 1430, 1783, 976, 1941, 2017, 2091, 693, 2060, 719, 1868, 720, 721, 1470, 1634, 733, 734, 735, 744, 746, 839, 1946, 792, 1583, 1696, 764, 784, 1620, 787, 1390, 1948, 1951, 846, 856, 1190, 1705, 881, 887, 2015, 1449, 1323, 919, 967, 1911, 953, 1073, 1570, 1439, 1212, 989, 990, 1063, 1019, 1037, 1224, 1922, 1061, 1875, 1928, 1083, 1134, 1151, 1731, 1594, 1119, 1686, 1270, 1816, 1193, 1245, 1538, 1669, 2007, 1295, 2013, 2092, 1329, 1485, 1333, 1355, 1426, 1947, 1387, 1406, 1729, 1848, 1422, 1952, 1441, 2040, 1770, 1493, 1565, 1518, 1592, 1537, 1596, 1842, 2094, 1639, 1926, 2086, 1839, 1912]\n",
      "--------------------------\n",
      "[815, 1184, 8, 339, 370, 419, 1515, 1568, 1811, 1813, 136, 804, 984, 1132, 1136, 1179, 2021, 133, 861, 930, 941, 1056, 1253, 1272, 1455, 1636, 1659, 16, 252, 701, 1226, 1263, 1567, 1632, 1665, 2068, 17, 330, 632, 1071, 1661, 675, 1465, 21, 207, 1233, 1305, 1646, 24, 329, 898, 1102, 1590, 1973, 1222, 1552, 501, 38, 383, 691, 1381, 49, 271, 132, 158, 226, 253, 302, 335, 497, 569, 609, 717, 830, 862, 864, 882, 1304, 1365, 1413, 1478, 1600, 1687, 1821, 1880, 2018, 1445, 1471, 1560, 87, 311, 572, 723, 884, 1007, 1332, 1337, 1563, 1753, 1803, 2071, 351, 1521, 1528, 425, 571, 620, 1294, 1457, 1965, 68, 75, 315, 674, 414, 1001, 2087, 770, 1057, 89, 152, 1106, 95, 671, 966, 1104, 1161, 2027, 713, 1069, 1606, 305, 1058, 1559, 2038, 126, 851, 162, 256, 503, 1072, 1437, 1633, 332, 1124, 1423, 1593, 1768, 1788, 134, 1198, 1988, 490, 808, 905, 942, 1379, 1591, 1690, 938, 1086, 223, 1143, 1462, 1564, 1186, 1197, 1539, 1607, 473, 530, 1605, 314, 412, 598, 659, 660, 806, 1188, 1363, 1467, 1678, 1452, 186, 1133, 1752, 1797, 1850, 1171, 555, 1959, 987, 409, 472, 886, 906, 1909, 1318, 350, 1516, 1663, 1535, 1903, 2033, 917, 1532, 331, 982, 1608, 328, 1389, 1790, 1736, 689, 1290, 1872, 464, 1394, 1829, 543, 995, 927, 456, 466, 495, 1097, 488, 849, 1373, 679, 1131, 2081, 700, 885, 916, 1908, 1685, 1815, 2022]\n",
      "--------------------------\n",
      "[9, 1956, 1368, 1706, 27, 33, 282, 457, 496, 750, 845, 1231, 1779, 76, 1719, 1981, 185, 1775, 1004, 263, 420, 1234, 1576, 1844, 458, 1934, 663, 807, 900, 1504, 1082, 1139, 1216, 1902]\n",
      "--------------------------\n",
      "[22, 80, 170, 349, 395, 903, 1589, 29, 946, 35, 972, 36, 525, 747, 949, 1013, 44, 485, 1240, 752, 203, 265, 512, 657, 192, 225, 261, 582, 931, 1479, 1501, 1599, 1877, 86, 1679, 1743, 854, 1112, 181, 205, 259, 277, 1118, 1925, 1931, 410, 1353, 1473, 1921, 2067, 348, 289, 391, 279, 716, 1760, 1374, 356, 1377, 367, 920, 1825, 1052, 1303, 1495, 1638, 710, 821, 1340, 786, 834, 1867, 1111, 993, 1751, 1807, 1414, 1217, 1176, 2034, 1857]\n",
      "--------------------------\n",
      "[435, 111, 206, 270, 345, 603, 776, 855, 1677, 1759, 1862]\n",
      "--------------------------\n",
      "[42, 1778]\n",
      "--------------------------\n",
      "[70, 670, 789, 895, 1005, 1025, 1574]\n",
      "--------------------------\n",
      "[92, 639]\n",
      "--------------------------\n",
      "[102, 1199, 1939]\n",
      "--------------------------\n",
      "[1615, 1352, 773, 1030, 1322, 1442]\n",
      "--------------------------\n",
      "[166, 1987]\n",
      "--------------------------\n",
      "[316, 1484]\n",
      "--------------------------\n",
      "[957, 573]\n",
      "--------------------------\n",
      "[418, 1840, 2062, 1398]\n",
      "--------------------------\n",
      "[427, 1819]\n",
      "--------------------------\n",
      "[523, 1836]\n",
      "--------------------------\n",
      "[557, 1500, 1360]\n",
      "--------------------------\n",
      "[579, 1733]\n",
      "--------------------------\n",
      "[618, 1650, 2045]\n",
      "--------------------------\n",
      "[624, 1502, 1933, 1325]\n",
      "--------------------------\n",
      "[652, 869]\n",
      "--------------------------\n",
      "[741, 818]\n",
      "--------------------------\n",
      "[1047, 1276]\n",
      "--------------------------\n",
      "[1110, 1321]\n",
      "--------------------------\n",
      "[1235, 1421, 1904]\n",
      "--------------------------\n",
      "[1336, 1676]\n",
      "--------------------------\n",
      "[1371, 1982]\n",
      "--------------------------\n",
      "[1378, 1764]\n"
     ]
    }
   ],
   "source": [
    "partition = community.best_partition(G_friends)\n",
    "#drawing\n",
    "size = float(len(set(partition.values())))\n",
    "pos = nx.spring_layout(G_friends)\n",
    "count = 0.\n",
    "for com in set(partition.values()) :\n",
    "    count += 1.\n",
    "    list_nodes = [nodes for nodes in partition.keys() if partition[nodes] == com]\n",
    "    nx.draw_networkx_nodes(G_friends, pos, list_nodes, node_size = 20, node_color = str(count / size))\n",
    "nx.draw_networkx_edges(G_friends, pos, alpha=0.5)\n",
    "plt.show()\n",
    "\n",
    "for com in set(partition.values()) :\n",
    "    count += 1.\n",
    "    list_nodes = [nodes for nodes in partition.keys() if partition[nodes] == com]\n",
    "    print(\"--------------------------\")\n",
    "    print(list_nodes)"
   ]
  },
  {
   "cell_type": "code",
   "execution_count": 113,
   "metadata": {},
   "outputs": [
    {
     "name": "stdout",
     "output_type": "stream",
     "text": [
      "\n",
      "CLUST\n",
      "dict_values([0.19230769230769232, 0.07056451612903226, 0.19523809523809524, 0.42857142857142855, 0.08637873754152824, 0.050853548966756514, 0.0761904761904762, 0.32051282051282054, 0.05543859649122807, 0.09647058823529411, 1.0, 0.3, 0.0783744557329463, 0.10015649452269171, 0.38095238095238093, 0.021913580246913582, 0.19047619047619047, 0.15151515151515152, 0.8, 0.3333333333333333, 0.07317073170731707, 0.1368421052631579, 0.37777777777777777, 0.2968960863697706, 0.2510822510822511, 0.2524390243902439, 0.16176470588235295, 0.21428571428571427, 0.38333333333333336, 0.16948051948051948, 0.15833333333333333, 0.25, 0.16842105263157894, 0.047619047619047616, 1.0, 0.10714285714285714, 0.13333333333333333, 0.12121212121212122, 0.2, 0.015856236786469344, 0.1, 0.10989010989010989, 0.14285714285714285, 0.10083256244218317, 0.32679738562091504, 0.13367756741250716, 0.1438118150227212, 0.10606060606060606, 0.07087719298245614, 0.15144230769230768, 0.23891625615763548, 0.12100840336134454, 0.16927453769559034, 0.12299091544374563, 0.1253246753246753, 0.1661706349206349, 0.18333333333333332, 0.11538461538461539, 0.13636363636363635, 0.2573099415204678, 0.15021770682148042, 0.15824561403508772, 0.10841750841750841, 0.2, 0.1495433789954338, 0.07254623044096728, 0.09783183500793231, 0.1261668172237278, 0.15450980392156863, 0.08888888888888889, 0.1673469387755102, 0.1072829131652661, 0.08170731707317073, 0.18408880666049954, 0.6666666666666666, 0.08961593172119488, 0.0453781512605042, 0.2, 0.07635467980295567, 0.007352941176470588, 0.08571428571428572, 0.03666666666666667, 0.08974358974358974, 0.09113300492610837, 0.12564102564102564, 0.13725490196078433, 0.169009009009009, 0.16440422322775264, 0.11585365853658537, 0.11538461538461539, 0.23544973544973544, 0.11086142322097378, 0.2460881934566145, 0.15191256830601094, 0.13666666666666666, 0.2358974358974359, 0.16180235535074244, 0.14039408866995073, 0.14882882882882884, 0.11666666666666667, 0.17873303167420815, 0.18776671408250356, 0.14285714285714285, 0.06666666666666667, 0.3, 0.18538324420677363, 0.13425253991291727, 0.16363636363636364, 0.1693121693121693, 0.12473118279569892, 0.09666666666666666, 0.15294117647058825, 0.15020408163265306, 0.14876543209876544, 0.15810276679841898, 0.1748792270531401, 0.14530612244897959, 0.12280701754385964, 0.12625770853618956, 0.07894736842105263, 0.1111111111111111, 0.13114754098360656, 0.10641627543035993, 0.0641025641025641, 0.15873015873015872, 0.1568627450980392, 0.06666666666666667, 0.12010954616588419, 0.07195121951219512, 0.1401801801801802, 0.12561576354679804, 0.09666666666666666, 0.5714285714285714, 0.2, 0.17663817663817663, 0.20056899004267426, 0.11231884057971014, 0.06612685560053981, 0.18095238095238095, 0.6666666666666666, 0.20766129032258066, 0.10786516853932585, 0.4, 0.14567307692307693, 0.20606060606060606, 0.15207373271889402, 0.10714285714285714, 0.21428571428571427, 0.1, 0.1168091168091168, 0.1323529411764706, 0.03119015047879617, 0.09090909090909091, 0.09846153846153846, 0.1645021645021645, 0.07142857142857142, 0.1111111111111111, 0.05407925407925408, 0, 0.03333333333333333, 0, 0.13438735177865613, 0, 0.1, 0.03386155129274395, 0, 0.05263157894736842, 0.046992481203007516, 0.03676470588235294, 0.07585568917668825, 0.06666666666666667, 0.075, 0.06628787878787878, 0.11594202898550725, 0.1388888888888889, 0.14693446088794926, 0.0928030303030303, 0.07258064516129033, 0.28205128205128205, 0.2676923076923077, 0.18351841028638224, 0.10907054871220605, 0.12624584717607973, 0.09178743961352658, 0.10256410256410256, 0.06236559139784946, 0.16666666666666666, 0, 0.082010582010582, 0.08829113924050633, 0.09523809523809523, 0.1111111111111111, 0.18585858585858586, 0.18686868686868688, 0.3, 0.22105263157894736, 0.1111111111111111, 0.054203180785459264, 0.1871345029239766, 0.2, 0.09090909090909091, 0.2, 0.12087912087912088, 0.3, 0.4642857142857143, 0.038461538461538464, 0.12121212121212122, 0, 0.3333333333333333, 0.1388888888888889, 0.12790697674418605, 0.1323529411764706, 0.11083743842364532, 0.09176788124156546, 0.17142857142857143, 0.06382978723404255, 0.20512820512820512, 0.12727272727272726, 0.046103896103896105, 0.10507246376811594, 0, 0.05, 0.047619047619047616, 0.04862745098039216, 0.09090909090909091, 0.030764848312206237, 0.17857142857142858, 0.10256410256410256, 0, 0.021739130434782608, 0.2, 0.08953900709219859, 0.1934566145092461, 0.15447154471544716, 0.16666666666666666, 0.17391304347826086, 0.4642857142857143, 0.10833333333333334, 0.2545454545454545, 0.2053701015965167, 0.17971014492753623, 0.08714969241285031, 0.16666666666666666, 0.18333333333333332, 0.17851959361393324, 0.18030690537084398, 0.13333333333333333, 0.15141242937853108, 0.16692268305171531, 0.09024390243902439, 0.09090909090909091, 0.047619047619047616, 0, 0.03571428571428571, 0.1, 0.049786628733997154, 0.022222222222222223, 0.08712121212121213, 0.3333333333333333, 0.09941520467836257, 0, 0, 0.14035087719298245, 0.13970588235294118, 0.14130434782608695, 0.06666666666666667, 0.2276923076923077, 0.1815126050420168, 0.13333333333333333, 0.03822055137844611, 0.10463659147869674, 0.04285714285714286, 0.47619047619047616, 0.1895424836601307, 0.35268817204301073, 0.6666666666666666, 0.44333333333333336, 0.2857142857142857, 0.391812865497076, 0.36363636363636365, 0.18901960784313726, 0.4707692307692308, 0.14545454545454545, 0.5, 0.6, 0, 0.5294117647058824, 0.14404223227752638, 0.26666666666666666, 0.1009657594381036, 0.16551724137931034, 0.12354124748490945, 0.2706552706552707, 0.22103386809269163, 0.391304347826087, 0.3333333333333333, 0.4, 0.038461538461538464, 0, 0.5, 0.06324110671936758, 0.19047619047619047, 0, 0, 0.4, 0.3, 0.3333333333333333, 0.3333333333333333, 1.0, 0, 0, 0.17857142857142858, 0, 0, 0.1, 0.26666666666666666, 0.23809523809523808, 0.07227891156462585, 0.041251778093883355, 0, 0.09666666666666666, 0.3333333333333333, 0.11462450592885376, 0.14130434782608695, 0.38181818181818183, 0.25, 0.06666666666666667, 0.36363636363636365, 0.13970588235294118, 0.12643678160919541, 0.23809523809523808, 0.2, 0, 0, 0, 0, 0.1076923076923077, 0.038461538461538464, 0.13208762886597938, 0.0380952380952381, 0.29195402298850576, 0, 0.06060606060606061, 0.11613924050632911, 0.21774193548387097, 0.08974358974358974, 0.13333333333333333, 0.26666666666666666, 0.09259259259259259, 0.15789473684210525, 0.08333333333333333, 0.1625615763546798, 0.14112903225806453, 0.14285714285714285, 0, 0.4666666666666667, 0.03636363636363636, 0, 0.3333333333333333, 0.15789473684210525, 0.2087912087912088, 0.11341463414634147, 0.15604909409701928, 0.16040100250626566, 0.14021421616358326, 0.17724867724867724, 0.23809523809523808, 0.2427536231884058, 0.16911764705882354, 0.2064516129032258, 0.1383399209486166, 0.12121212121212122, 0.17338709677419356, 0.12436974789915967, 0.22103386809269163, 0.2222222222222222, 0.15233785822021115, 0.2578947368421053, 0.16840882694541232, 0.09274193548387097, 0.1536231884057971, 0.15517241379310345, 0.15079365079365079, 0.16304347826086957, 0.11469979296066253, 0.13333333333333333, 0.2282051282051282, 0.25, 0.18922305764411027, 0.1406423034330011, 0.14736842105263157, 0.19333333333333333, 0.15668202764976957, 0.14112903225806453, 0.203778677462888, 0.18181818181818182, 0.18717948717948718, 0.14285714285714285, 0.1678520625889047, 0.13737373737373737, 0.08225108225108226, 0.21428571428571427, 0.42424242424242425, 0.17545271629778672, 0.26021505376344084, 0.11931818181818182, 0.20615384615384616, 0.17449139280125195, 0.14285714285714285, 0.1076923076923077, 0.14285714285714285, 0.24242424242424243, 0.09620253164556962, 0.13636363636363635, 0, 0.2490118577075099, 0.14814814814814814, 0.5, 0.11724137931034483, 0.15555555555555556, 0.2490118577075099, 0.1571537290715373, 0.1341991341991342, 0.1572112098427888, 0.13176470588235295, 0.15593220338983052, 0.1721194879089616, 0.043478260869565216, 0.3359683794466403, 0.22727272727272727, 0.3076923076923077, 0.3076923076923077, 0.1532670882264378, 0.14035087719298245, 0.13445378151260504, 0.3717948717948718, 0.15656565656565657, 0.1, 0.22631578947368422, 0.2777777777777778, 0, 0.1223529411764706, 0.1427061310782241, 0.1808080808080808, 0.1533799533799534, 0.12077294685990338, 0.14436805922792173, 0.13333333333333333, 0.19390243902439025, 0.10909090909090909, 0.11764705882352941, 0.14705882352941177, 0.13333333333333333, 0.08791208791208792, 0.19117647058823528, 0.15966386554621848, 0.16017316017316016, 0, 0.1388888888888889, 0.25, 0.15441176470588236, 0.05057471264367816, 0, 0.1, 0.06218487394957983, 0.12315270935960591, 0.07692307692307693, 0.6, 0.18484848484848485, 0.2, 0.17857142857142858, 0, 0.125, 0.11666666666666667, 0.17857142857142858, 0.3333333333333333, 0.17777777777777778, 0.1111111111111111, 0.22727272727272727, 0.06451612903225806, 0.1111111111111111, 0.08658008658008658, 0, 0.09523809523809523, 0.06842105263157895, 0.06060606060606061, 0.13333333333333333, 0.3333333333333333, 0.16666666666666666, 0, 0, 0.07692307692307693, 0.23636363636363636, 0.20707070707070707, 0.14166666666666666, 0.14603174603174604, 0.6, 0.2916666666666667, 0.13636363636363635, 0, 0.14285714285714285, 0.10714285714285714, 0.15, 0.3333333333333333, 0.6, 0.19444444444444445, 0.035096153846153846, 0.036853002070393374, 0.06837606837606838, 0.10476190476190476, 0.16993464052287582, 0.08194905869324474, 0.16666666666666666, 0.14404223227752638, 0.2857142857142857, 0.2, 0, 0.0457516339869281, 0.0677361853832442, 0, 0.23076923076923078, 0.16374269005847952, 0.06666666666666667, 0.08333333333333333, 0.09558823529411764, 0.1696969696969697, 0.19384615384615383, 0.16153846153846155, 0.09523809523809523, 0.5333333333333333, 0.15476190476190477, 0.25, 0.2, 0.42857142857142855, 0.19444444444444445, 0.19696969696969696, 0.19523809523809524, 0.15960163432073546, 1.0, 0.1265597147950089, 0.23076923076923078, 0.2490118577075099, 0.14444444444444443, 0.26136363636363635, 0.3333333333333333, 0.17857142857142858, 0.05714285714285714, 0.25, 0.06593406593406594, 0.12727272727272726, 0.19444444444444445, 0.13853367433930094, 0.08225108225108226, 0.07246376811594203, 0.21818181818181817, 0, 0.041666666666666664, 0, 0, 0.23809523809523808, 0.1111111111111111, 0.3333333333333333, 0.1010752688172043, 0, 0.02620967741935484, 0.03162055335968379, 0, 0.015151515151515152, 0.15, 0.1282051282051282, 0.35833333333333334, 0.2878787878787879, 0.15555555555555556, 0.13333333333333333, 0.20512820512820512, 0.34545454545454546, 0, 0.2, 0.09247311827956989, 0.6666666666666666, 0.13450292397660818, 0.1, 0.1830065359477124, 0, 0.05228758169934641, 0.3333333333333333, 0.175, 0.14285714285714285, 0.3333333333333333, 0.1388888888888889, 0.09523809523809523, 0.2, 0, 0.19444444444444445, 0.5, 0.3333333333333333, 0.2777777777777778, 0.4666666666666667, 0.24761904761904763, 0.5, 0.27472527472527475, 0.25, 0, 0.15555555555555556, 0.3333333333333333, 0.11029411764705882, 0, 0, 0, 0, 0.0380952380952381, 1.0, 1.0, 1.0, 1.0, 1.0, 1.0, 1.0, 0.16666666666666666, 0, 0, 0.16666666666666666, 0.32142857142857145, 0.25, 0.3717948717948718, 0.058823529411764705, 0, 0, 0.14285714285714285, 0, 0, 0.12727272727272726, 0.18972332015810275, 0.19310344827586207, 0.07017543859649122, 0.3333333333333333, 0.16666666666666666, 0.16666666666666666, 0.3333333333333333, 0.16666666666666666, 0.3333333333333333, 0, 0.2, 0, 0.5, 0, 0, 0.3333333333333333, 1.0, 0.23809523809523808, 0, 0.5, 0, 0, 0.10909090909090909, 0.16666666666666666, 0, 0.6666666666666666, 0.9, 0.1, 0, 0.2857142857142857, 0.9, 0.3333333333333333, 0.3333333333333333, 0, 0.5, 1.0, 0.5238095238095238, 1.0, 0.6, 0.25, 1.0, 0, 1.0, 0.3333333333333333, 0, 0, 0.1, 1.0, 1.0, 0.3333333333333333, 0.09523809523809523, 1.0, 0.3333333333333333, 0.5, 0, 0, 0.6666666666666666, 0.10714285714285714, 0.6666666666666666, 1.0, 0.6666666666666666, 0, 0, 0, 1.0, 0.3333333333333333, 0, 0.1642512077294686, 0.26666666666666666, 0.12844702467343977, 0.10030165912518854, 0.28923076923076924, 0.2119487908961593, 0.2222222222222222, 0.13802221047065044, 0, 0.0989010989010989, 0.15384615384615385, 0.20557491289198607, 1.0, 0.1111111111111111, 0.2692307692307692, 0.08791208791208792, 0, 0.14285714285714285, 0.13438735177865613, 0.4666666666666667, 0, 0, 0, 0.06666666666666667, 0, 0, 0.6666666666666666, 0.043478260869565216, 0.3333333333333333, 1.0, 0, 0.2833333333333333, 0.23636363636363636, 0.26666666666666666, 0.10476190476190476, 0, 0, 0.07142857142857142, 0.047619047619047616, 0.13333333333333333, 0.1503267973856209, 0, 0, 0, 0.06593406593406594, 0.047619047619047616, 0.2, 0.1590909090909091, 0.2, 0.05228758169934641, 0, 0, 0.5, 0.13333333333333333, 0.3333333333333333, 0.06666666666666667, 0.15151515151515152, 0.15053763440860216, 0.23908045977011494, 0.5, 0.07741935483870968, 0.04040404040404041, 0, 0.18181818181818182, 0.13963963963963963, 0.23809523809523808, 0.4722222222222222, 1.0, 0.26900584795321636, 0.13333333333333333, 0.2857142857142857, 0.5357142857142857, 0.1323529411764706, 0.23076923076923078, 0.029239766081871343, 0.1388888888888889, 0, 0.19047619047619047, 0.1323529411764706, 0.18181818181818182, 0.2, 0, 0.1794871794871795, 0.16666666666666666, 0.09941520467836257, 1.0, 1.0, 1.0, 0, 0.509090909090909, 0.06666666666666667, 0.11428571428571428, 0.05855855855855856, 0.5, 0.2857142857142857, 0, 0, 0.3333333333333333, 0.15555555555555556, 0.08187134502923976, 0.2222222222222222, 0.21428571428571427, 0.3, 0, 0.09090909090909091, 0.047619047619047616, 0, 0.5, 0.8333333333333334, 0.1695906432748538, 0.058823529411764705, 0.21818181818181817, 0.10541310541310542, 0.3333333333333333, 0.21794871794871795, 0.23891625615763548, 0.2222222222222222, 0.2, 0.3238095238095238, 0.16155157715260018, 0.11375661375661375, 0.18472906403940886, 0.16134751773049646, 0.32727272727272727, 0.5, 1.0, 0.3333333333333333, 1.0, 1.0, 0.25, 0.6666666666666666, 0.6666666666666666, 0.5357142857142857, 0.1, 0.017543859649122806, 0.1, 0.2857142857142857, 0.09333333333333334, 0.24166666666666667, 0.6, 0.2857142857142857, 0.10526315789473684, 0.10833333333333334, 0.16666666666666666, 0.3333333333333333, 0.38095238095238093, 0.16483516483516483, 0.23636363636363636, 0.32142857142857145, 0.3333333333333333, 0.21904761904761905, 0.3888888888888889, 0.42857142857142855, 0, 0, 0, 0.22298850574712645, 0.3226600985221675, 0.27485380116959063, 0.14545454545454545, 0.1521486643437863, 0.3333333333333333, 0, 0.13978494623655913, 0.06666666666666667, 0.2761904761904762, 0.14333333333333334, 0, 0, 0.13071895424836602, 0.14285714285714285, 0.4666666666666667, 0.16363636363636364, 0.10909090909090909, 0.3, 0.03162055335968379, 0.09523809523809523, 0, 0.26666666666666666, 0.3333333333333333, 0.2857142857142857, 0.21428571428571427, 1.0, 0.0457516339869281, 0.26666666666666666, 0.06666666666666667, 0.19444444444444445, 0.047435897435897434, 0.3, 0.1359724612736661, 0.1471861471861472, 0.1, 0, 0, 0.12631578947368421, 0.13333333333333333, 0.1368421052631579, 0.09523809523809523, 1.0, 0.26666666666666666, 0.16363636363636364, 0, 0.25833333333333336, 0, 0.2909090909090909, 0.3055555555555556, 0.16666666666666666, 0.42857142857142855, 0.6666666666666666, 0.2857142857142857, 0, 0.12087912087912088, 0, 0, 0.23715415019762845, 0.11008704557091654, 0.158675799086758, 0.11734693877551021, 0.13105413105413105, 0.13142857142857142, 0.21171171171171171, 0.17777777777777778, 0.31868131868131866, 0.6, 0.2784090909090909, 0.16666666666666666, 0.10256410256410256, 0.1895424836601307, 0.19523809523809524, 0.25, 0.1185515873015873, 0.07142857142857142, 0.25, 0.1744186046511628, 1.0, 0.09166666666666666, 0.18083670715249664, 0.23809523809523808, 0.16502463054187191, 0.17, 0.12554112554112554, 0.15333333333333332, 0.17647058823529413, 0.2, 0.18128654970760233, 0.13076923076923078, 0.18181818181818182, 0.3333333333333333, 0.15159574468085107, 0.21727395411605938, 0.1830065359477124, 0.2777777777777778, 0.36363636363636365, 0.15942028985507245, 0.15217391304347827, 0.38095238095238093, 0.13557692307692307, 0, 0.21428571428571427, 0.09523809523809523, 0.01818181818181818, 0.3333333333333333, 0.5, 0.03571428571428571, 0.19367588932806323, 0, 0.12727272727272726, 0.2545454545454545, 0.4722222222222222, 0.3333333333333333, 0.1111111111111111, 0.14285714285714285, 0.07142857142857142, 0.16666666666666666, 0.5, 0.07272727272727272, 0.3333333333333333, 0.16666666666666666, 0.19444444444444445, 0.4, 0.1455026455026455, 0.8333333333333334, 0.0735930735930736, 0, 0, 0.022222222222222223, 0.1523809523809524, 0.13450292397660818, 0.08666666666666667, 0, 0.2087912087912088, 0.14210526315789473, 0.2, 0.24358974358974358, 0.1388888888888889, 0.06666666666666667, 0, 0.19444444444444445, 0.12834224598930483, 0.16363636363636364, 0.05555555555555555, 0.2, 0.047619047619047616, 0.12477718360071301, 0.1323529411764706, 0.1978021978021978, 0.2037037037037037, 0.24242424242424243, 0.047619047619047616, 0, 0, 0, 0.16666666666666666, 0.09941520467836257, 0.1226890756302521, 0.14285714285714285, 0.08333333333333333, 0.1871345029239766, 0.07114624505928854, 0.09523809523809523, 0.18095238095238095, 0, 0, 0.14285714285714285, 0.12380952380952381, 0.24761904761904763, 0, 0, 0.07272727272727272, 0, 0.4, 0, 0.3333333333333333, 0, 0.16363636363636364, 0.20952380952380953, 0, 0.09803921568627451, 0.3333333333333333, 0.16666666666666666, 0.07017543859649122, 0, 1.0, 1.0, 0, 0.2246376811594203, 0.1695906432748538, 0.1, 0.2857142857142857, 0, 0.2, 0.14285714285714285, 0.10276679841897234, 0.09090909090909091, 0.2, 0.3333333333333333, 0.19047619047619047, 0, 0.011494252873563218, 0, 0, 0, 0.1111111111111111, 0, 0.3333333333333333, 0.01818181818181818, 0, 0.19444444444444445, 0.09523809523809523, 0.0641025641025641, 0, 0, 0.2, 0.09090909090909091, 0.42857142857142855, 0, 0, 0, 0, 0.15384615384615385, 0.0812807881773399, 0.05555555555555555, 0, 0, 0.09558823529411764, 0.19230769230769232, 0.2, 0.18181818181818182, 0.2, 0.07575757575757576, 0, 0.5, 0.5238095238095238, 0.8, 0.8, 0.8333333333333334, 0.4666666666666667, 0.4666666666666667, 1.0, 1.0, 0.16666666666666666, 0, 1.0, 1.0, 0.3333333333333333, 0, 0.13333333333333333, 0.6666666666666666, 1.0, 0, 0, 0.07, 0.19047619047619047, 0.3333333333333333, 0.10256410256410256, 0, 0, 0.2, 0.16666666666666666, 0.07272727272727272, 0.16666666666666666, 0.13333333333333333, 0, 0.1282051282051282, 0, 0, 0.2857142857142857, 0.1, 0.09803921568627451, 0.16666666666666666, 0, 0.5, 0.2878787878787879, 0.13186813186813187, 0.1, 0.19047619047619047, 0.03571428571428571, 0.045454545454545456, 0.11764705882352941, 0.11954022988505747, 0, 0.16666666666666666, 0.11067193675889328, 0.1111111111111111, 0.09090909090909091, 0.16666666666666666, 0, 0, 0.1, 0, 0, 0, 0, 0.3, 0.2222222222222222, 0.8333333333333334, 0.4, 0.3333333333333333, 0.6, 0.17857142857142858, 0.2, 0.11538461538461539, 0, 0.32142857142857145, 0.1282051282051282, 0, 0, 0.1111111111111111, 0, 0, 0, 0.1, 0, 0, 0, 0, 0.14285714285714285, 0, 0.06666666666666667, 0.16363636363636364, 0.17777777777777778, 0, 0, 0, 0.04924242424242424, 0.08695652173913043, 0.25, 0, 0.13333333333333333, 0.17753623188405798, 0, 0.10714285714285714, 0.1523809523809524, 0.2, 0.2086021505376344, 0.2, 0.4, 0.10822510822510822, 0.18681318681318682, 0.16666666666666666, 0, 0.09523809523809523, 0.11538461538461539, 0.175, 0.17647058823529413, 0.15789473684210525, 0, 0.3333333333333333, 0, 0, 0, 0.12727272727272726, 0.3333333333333333, 0.2, 0.2, 0, 0.0718954248366013, 0.2, 0.10507246376811594, 0.1323529411764706, 0.16363636363636364, 0, 0.01818181818181818, 0, 0, 0, 0, 0.14285714285714285, 0.25, 0.35714285714285715, 0.09941520467836257, 0.14705882352941177, 0.18181818181818182, 0.08333333333333333, 0.16374269005847952, 0.13071895424836602, 0.12121212121212122, 0.23809523809523808, 0.047619047619047616, 0.16666666666666666, 0.09090909090909091, 0.15555555555555556, 1.0, 0.07272727272727272, 0.3333333333333333, 0.1, 0.12535612535612536, 0.1, 0.3, 0, 0, 0, 0, 0.1111111111111111, 0.03571428571428571, 0.16666666666666666, 0.16666666666666666, 0.3333333333333333, 0.047619047619047616, 0.10241820768136557, 0, 0, 0, 0.14285714285714285, 0, 0, 0.09420289855072464, 0.06666666666666667, 0.05454545454545454, 0, 0.06666666666666667, 0.03636363636363636, 0, 0.15151515151515152, 0, 0.03571428571428571, 0.01818181818181818, 0.0989010989010989, 0, 0.1282051282051282, 0.7, 0.2222222222222222, 0.16666666666666666, 0.23809523809523808, 0.6666666666666666, 0.0641025641025641, 0, 0.1111111111111111, 0.2, 0.3333333333333333, 0, 0.045454545454545456, 0, 0, 0, 0.16666666666666666, 0.11029411764705882, 0.14285714285714285, 0.13333333333333333, 0.16666666666666666, 0.13725490196078433, 1.0, 0.13333333333333333, 0.39285714285714285, 0.14193548387096774, 0.2, 0.09523809523809523, 0.1, 0.25, 0.2022792022792023, 0.3333333333333333, 1.0, 0.25, 0.3333333333333333, 0.3333333333333333, 0.16666666666666666, 0, 0, 0.4, 0.3333333333333333, 0.4, 0.23809523809523808, 0.1, 0.2727272727272727, 0.10714285714285714, 0, 0, 0.20952380952380953, 0.1, 0.06666666666666667, 0.08666666666666667, 0, 0, 0, 0.5333333333333333, 0.16666666666666666, 0.3333333333333333, 0, 0.14285714285714285, 0, 0.2857142857142857, 0, 0, 0, 0.13333333333333333, 0.18181818181818182, 0.3333333333333333, 0, 0, 0, 0.21818181818181817, 0.015151515151515152, 0, 0.09090909090909091, 0.5, 0.26666666666666666, 0, 0, 0, 0, 0, 0, 0.1111111111111111, 0.1, 0, 0, 0.2, 0, 0, 0, 0.17857142857142858, 0, 0, 0, 0.09523809523809523, 0, 0.027777777777777776, 0.3333333333333333, 0.2857142857142857, 0, 0.3055555555555556, 0.3333333333333333, 0, 0, 0.13333333333333333, 0, 0, 0.5, 0.3333333333333333, 0.3161764705882353, 0.175, 0.3333333333333333, 0.3333333333333333, 0.06666666666666667, 0.5, 0, 0, 0, 0, 0.06060606060606061, 0.32142857142857145, 0.3333333333333333, 0.2, 0, 0, 0, 0.12280701754385964, 0, 0.19696969696969696, 0.6666666666666666, 0.6666666666666666, 0, 0.6, 1.0, 0, 0, 0, 0.16666666666666666, 0, 0.3333333333333333, 0, 0.06666666666666667, 0.16666666666666666, 0.14285714285714285, 0.39285714285714285, 0.10606060606060606, 0, 0.03571428571428571, 1.0, 0.3333333333333333, 0.3333333333333333, 0, 0, 0, 0, 0, 1.0, 0, 0.06666666666666667, 0.14285714285714285, 0, 1.0, 0.6666666666666666, 0.3333333333333333, 0.21794871794871795, 0, 1.0, 0.3333333333333333, 0.6666666666666666, 1.0, 0.12087912087912088, 0.3939393939393939, 0, 0, 1.0, 0, 1.0, 1.0, 1.0, 0.3333333333333333, 0.13333333333333333, 0.3333333333333333, 0, 0.6666666666666666, 0, 1.0, 0.047619047619047616, 0, 0, 0, 0, 0, 0, 0, 0.1, 0.13333333333333333, 0.3333333333333333, 0, 0, 0, 0.09523809523809523, 0, 0.06060606060606061, 0.16666666666666666, 0, 0, 0.25, 0.07692307692307693, 0.3333333333333333, 0, 0.1, 0, 0, 0, 0.16666666666666666, 0.07142857142857142, 0.6666666666666666, 0, 0, 0, 0, 0.3333333333333333, 0.13333333333333333, 0.13333333333333333, 0.1, 0.1111111111111111, 0, 0, 0.3333333333333333, 0, 0.16666666666666666, 0.3333333333333333, 0.16666666666666666, 0, 0, 0, 0, 0.19047619047619047, 0, 0, 0, 0.3333333333333333, 0, 0.15555555555555556, 0.3333333333333333, 0.16666666666666666, 0, 0, 0.3333333333333333, 0, 0, 0, 0, 0.21818181818181817, 0.1388888888888889, 0.1388888888888889, 0, 0.02857142857142857, 0, 0, 0, 0.23636363636363636, 0, 0, 0.3333333333333333, 0.2857142857142857, 0, 0, 1.0, 0.14285714285714285, 0, 1.0, 0.4666666666666667, 0, 0, 0.3, 0, 0, 1.0, 1.0, 0, 0.16666666666666666, 0.6666666666666666, 1.0, 0.5, 0.3333333333333333, 0, 1.0, 0.6, 0.16666666666666666, 0, 0, 0, 0.16666666666666666, 1.0, 1.0, 1.0, 0, 0.2777777777777778, 0.3, 0.2, 1.0, 0.6666666666666666, 0.6666666666666666, 0, 0, 0, 0, 0, 0.3333333333333333, 1.0, 0.3, 0, 0, 0, 0, 0, 0, 0.3333333333333333, 0, 0, 0, 0, 0.16666666666666666, 0.3333333333333333, 0.03571428571428571, 0.14285714285714285, 0.2, 0.3333333333333333, 1.0, 1.0, 0.24444444444444444, 0.16666666666666666, 0.17857142857142858, 0, 0, 0.5, 0, 0.10909090909090909, 0, 1.0, 1.0, 0.16666666666666666, 0, 1.0, 0, 0.2, 0, 0, 0, 0.3333333333333333, 0, 0.06666666666666667, 0, 0.03571428571428571, 0, 0, 0, 0.6666666666666666, 0.14285714285714285, 0, 0, 0.3, 0, 0, 0, 0, 0, 0, 0, 0.03571428571428571, 0, 0.6666666666666666, 0.6666666666666666, 0, 0, 0, 0.09523809523809523, 0, 0.16666666666666666, 0, 0.047619047619047616, 0, 0.16666666666666666, 0, 0, 0, 0.4, 1.0, 1.0, 1.0, 0, 0, 0, 0, 0, 0, 0, 0, 0.14285714285714285, 0.5, 0, 1.0, 0.14285714285714285, 0, 0, 0, 0, 1.0, 0.6666666666666666, 0, 0, 0, 0, 0.5, 0, 0, 0.3333333333333333, 0, 0, 0.3333333333333333, 0.3333333333333333, 0, 0, 0, 0.14285714285714285, 0, 0, 0.3333333333333333, 0, 0, 0, 0, 0, 1.0, 0, 1.0, 0.16666666666666666, 0.3333333333333333, 0, 0, 0, 0, 0.07142857142857142, 0.3, 1.0, 0, 1.0, 0, 0, 0, 0, 0, 0, 0, 0, 0, 0.3333333333333333, 0.3333333333333333, 1.0, 1.0, 0.3333333333333333, 0.16666666666666666, 0, 0, 0.6666666666666666, 0, 0, 1.0, 0, 0, 0, 0, 1.0, 0.5, 0, 0, 0, 0, 0, 0, 0.5, 0, 0, 1.0, 0.06666666666666667, 0, 0.1, 0, 0, 0, 0, 1.0, 0.16666666666666666, 0, 0, 0, 0.3333333333333333, 0.3055555555555556, 0, 0, 0.16666666666666666, 0, 0, 0, 0, 0, 0, 0, 0, 0, 0.16666666666666666, 0.14285714285714285, 0, 0, 1.0, 0, 1.0, 0, 0, 0.3333333333333333, 0, 0, 0, 0, 0, 0, 0, 0, 0, 0, 0, 0, 0, 0, 0, 0, 0, 0, 1.0, 0.3333333333333333, 0.3, 0.6666666666666666, 0, 0, 0, 0, 0, 0, 1.0, 1.0, 1.0, 0, 0, 0, 0, 0, 1.0, 0.3333333333333333, 0, 0.3333333333333333, 0, 0, 0, 0, 0, 0, 0, 0, 0, 1.0, 0, 0, 0, 0, 0, 0, 0, 0, 0, 0, 0, 0.3333333333333333, 0, 0, 0, 0, 1.0, 0, 0, 0, 0, 0, 0, 0, 0, 1.0, 0, 0, 0, 0, 0, 0, 0, 0, 0, 0, 0, 0, 0, 0, 0, 0])\n",
      "[(1.0, 2100), (1.0, 2075), (1.0, 2060), (1.0, 2045), (1.0, 2028), (1.0, 2005), (1.0, 1939), (1.0, 1881), (1.0, 1871), (1.0, 1844), (1.0, 1807), (1.0, 1784), (1.0, 1779), (1.0, 1775), (1.0, 1774), (1.0, 1751), (1.0, 1711), (1.0, 1650), (1.0, 1639), (1.0, 1617), (1.0, 1611), (1.0, 1574), (1.0, 1557), (1.0, 1537), (1.0, 1485), (1.0, 1464), (1.0, 1459), (1.0, 1442), (1.0, 1398), (1.0, 1385), (1.0, 1376), (1.0, 1329), (1.0, 1327), (1.0, 1325), (1.0, 1322), (1.0, 1309), (1.0, 1286), (1.0, 1284), (1.0, 1282), (1.0, 1273), (1.0, 1199), (1.0, 1182), (1.0, 1176), (1.0, 1098), (1.0, 1068), (1.0, 1039), (1.0, 1037), (1.0, 1030), (1.0, 1025), (1.0, 1024), (1.0, 1009), (1.0, 1005), (1.0, 995), (1.0, 953), (1.0, 935), (1.0, 934), (1.0, 926), (1.0, 919), (1.0, 900), (1.0, 895), (1.0, 860), (1.0, 825), (1.0, 810), (1.0, 789), (1.0, 776), (1.0, 745), (1.0, 736), (1.0, 681), (1.0, 670), (1.0, 641), (1.0, 624), (1.0, 618), (1.0, 606), (1.0, 603), (1.0, 601), (1.0, 586), (1.0, 576), (1.0, 570), (1.0, 444), (1.0, 434), (1.0, 418), (1.0, 412), (1.0, 326), (1.0, 304), (1.0, 270), (1.0, 263), (1.0, 228), (1.0, 192), (1.0, 188), (1.0, 185), (1.0, 182), (1.0, 141), (1.0, 131), (1.0, 102), (1.0, 70), (0.9, 805), (0.9, 695), (0.8333333333333334, 1900), (0.8333333333333334, 1018), (0.8333333333333334, 580), (0.8333333333333334, 277), (0.8, 837), (0.8, 259), (0.8, 205), (0.7, 288), (0.6666666666666666, 2011), (0.6666666666666666, 1958), (0.6666666666666666, 1933), (0.6666666666666666, 1840), (0.6666666666666666, 1827), (0.6666666666666666, 1776), (0.6666666666666666, 1759), (0.6666666666666666, 1744), (0.6666666666666666, 1732), (0.6666666666666666, 1677), (0.6666666666666666, 1669), (0.6666666666666666, 1638), (0.6666666666666666, 1621), (0.6666666666666666, 1504), (0.6666666666666666, 1502), (0.6666666666666666, 1456), (0.6666666666666666, 1330), (0.6666666666666666, 1122), (0.6666666666666666, 865), (0.6666666666666666, 839), (0.6666666666666666, 807), (0.6666666666666666, 746), (0.6666666666666666, 666), (0.6666666666666666, 578), (0.6666666666666666, 441), (0.6666666666666666, 386), (0.6666666666666666, 218), (0.6666666666666666, 83), (0.6666666666666666, 9), (0.6, 2047), (0.6, 1800), (0.6, 1065), (0.6, 954), (0.6, 936), (0.6, 668), (0.6, 477), (0.6, 208), (0.6, 115), (0.6, 54), (0.5714285714285714, 1348), (0.5357142857142857, 1862), (0.5357142857142857, 650), (0.5333333333333333, 1699), (0.5333333333333333, 634), (0.5294117647058824, 1163), (0.5238095238095238, 928), (0.5238095238095238, 181), (0.509090909090909, 1496), (0.5, 2052), (0.5, 1976), (0.5, 1810), (0.5, 1790), (0.5, 1601), (0.5, 1486), (0.5, 1312), (0.5, 1244), (0.5, 1224), (0.5, 1100), (0.5, 1061), (0.5, 940), (0.5, 914), (0.5, 791), (0.5, 762), (0.5, 694), (0.5, 656), (0.5, 605), (0.5, 546), (0.5, 506), (0.5, 452), (0.5, 366), (0.5, 257), (0.5, 206), (0.5, 196), (0.5, 96), (0.5, 94), (0.47619047619047616, 31), (0.4722222222222222, 540), (0.4722222222222222, 191), (0.4707692307692308, 575), (0.4666666666666667, 1925), (0.4666666666666667, 1501), (0.4666666666666667, 1118), (0.4666666666666667, 876), (0.4666666666666667, 768), (0.4666666666666667, 485), (0.4666666666666667, 359), (0.4642857142857143, 1424), (0.4642857142857143, 435), (0.44333333333333336, 306), (0.42857142857142855, 2014), (0.42857142857142855, 1618), (0.42857142857142855, 1420), (0.42857142857142855, 878), (0.42857142857142855, 515), (0.42424242424242425, 882), (0.4, 1717), (0.4, 1655), (0.4, 1542), (0.4, 773), (0.4, 496), (0.4, 449), (0.4, 300), (0.4, 209), (0.4, 32), (0.4, 13), (0.3939393939393939, 1989), (0.39285714285714285, 915), (0.39285714285714285, 826), (0.391812865497076, 396), (0.391304347826087, 1835), (0.3888888888888889, 788), (0.38333333333333336, 520), (0.38181818181818183, 40), (0.38095238095238093, 1591), (0.38095238095238093, 411), (0.38095238095238093, 3), (0.37777777777777777, 4), (0.3717948717948718, 1648), (0.3717948717948718, 1038), (0.36363636363636365, 1311), (0.36363636363636365, 474), (0.36363636363636365, 325), (0.35833333333333334, 665), (0.35714285714285715, 629), (0.35268817204301073, 210), (0.34545454545454546, 114), (0.3359683794466403, 48), (0.3333333333333333, 2099), (0.3333333333333333, 2097), (0.3333333333333333, 2083), (0.3333333333333333, 2072), (0.3333333333333333, 2062), (0.3333333333333333, 2046), (0.3333333333333333, 2030), (0.3333333333333333, 2024), (0.3333333333333333, 2017), (0.3333333333333333, 1994), (0.3333333333333333, 1992), (0.3333333333333333, 1978), (0.3333333333333333, 1974), (0.3333333333333333, 1934), (0.3333333333333333, 1919), (0.3333333333333333, 1891), (0.3333333333333333, 1872), (0.3333333333333333, 1868), (0.3333333333333333, 1853), (0.3333333333333333, 1815), (0.3333333333333333, 1791), (0.3333333333333333, 1740), (0.3333333333333333, 1737), (0.3333333333333333, 1727), (0.3333333333333333, 1724), (0.3333333333333333, 1708), (0.3333333333333333, 1613), (0.3333333333333333, 1608), (0.3333333333333333, 1582), (0.3333333333333333, 1575), (0.3333333333333333, 1558), (0.3333333333333333, 1472), (0.3333333333333333, 1449), (0.3333333333333333, 1444), (0.3333333333333333, 1435), (0.3333333333333333, 1430), (0.3333333333333333, 1426), (0.3333333333333333, 1411), (0.3333333333333333, 1405), (0.3333333333333333, 1402), (0.3333333333333333, 1396), (0.3333333333333333, 1386), (0.3333333333333333, 1375), (0.3333333333333333, 1366), (0.3333333333333333, 1352), (0.3333333333333333, 1349), (0.3333333333333333, 1315), (0.3333333333333333, 1240), (0.3333333333333333, 1231), (0.3333333333333333, 1159), (0.3333333333333333, 1157), (0.3333333333333333, 1112), (0.3333333333333333, 1101), (0.3333333333333333, 1099), (0.3333333333333333, 1090), (0.3333333333333333, 994), (0.3333333333333333, 993), (0.3333333333333333, 991), (0.3333333333333333, 971), (0.3333333333333333, 885), (0.3333333333333333, 874), (0.3333333333333333, 845), (0.3333333333333333, 838), (0.3333333333333333, 827), (0.3333333333333333, 823), (0.3333333333333333, 799), (0.3333333333333333, 793), (0.3333333333333333, 777), (0.3333333333333333, 727), (0.3333333333333333, 679), (0.3333333333333333, 607), (0.3333333333333333, 568), (0.3333333333333333, 563), (0.3333333333333333, 539), (0.3333333333333333, 526), (0.3333333333333333, 517), (0.3333333333333333, 500), (0.3333333333333333, 478), (0.3333333333333333, 472), (0.3333333333333333, 440), (0.3333333333333333, 438), (0.3333333333333333, 423), (0.3333333333333333, 407), (0.3333333333333333, 402), (0.3333333333333333, 376), (0.3333333333333333, 372), (0.3333333333333333, 345), (0.3333333333333333, 305), (0.3333333333333333, 286), (0.3333333333333333, 274), (0.3333333333333333, 267), (0.3333333333333333, 186), (0.3333333333333333, 163), (0.3333333333333333, 140), (0.3333333333333333, 116), (0.3333333333333333, 105), (0.3333333333333333, 76), (0.3333333333333333, 68), (0.3333333333333333, 39), (0.3333333333333333, 27), (0.32727272727272727, 111), (0.32679738562091504, 7), (0.3238095238095238, 819), (0.3226600985221675, 553), (0.32142857142857145, 1798), (0.32142857142857145, 627), (0.32142857142857145, 187), (0.32142857142857145, 73), (0.32051282051282054, 1209), (0.31868131868131866, 1046), (0.3161764705882353, 426), (0.3076923076923077, 1014), (0.3076923076923077, 963), (0.3055555555555556, 1202), (0.3055555555555556, 1108), (0.3055555555555556, 375), (0.3, 1864), (0.3, 1850), (0.3, 1723), (0.3, 1684), (0.3, 1661), (0.3, 1585), (0.3, 1538), (0.3, 1302), (0.3, 1280), (0.3, 1036), (0.3, 750), (0.3, 685), (0.3, 651), (0.3, 623), (0.3, 391), (0.3, 126), (0.2968960863697706, 99), (0.29195402298850576, 260), (0.2916666666666667, 333), (0.2909090909090909, 1115), (0.28923076923076924, 479), (0.2878787878787879, 1165), (0.2878787878787879, 374), (0.2857142857142857, 1866), (0.2857142857142857, 1707), (0.2857142857142857, 1347), (0.2857142857142857, 1188), (0.2857142857142857, 1032), (0.2857142857142857, 835), (0.2857142857142857, 802), (0.2857142857142857, 715), (0.2857142857142857, 577), (0.2857142857142857, 532), (0.2857142857142857, 397), (0.2857142857142857, 371), (0.2857142857142857, 352), (0.2857142857142857, 108), (0.2833333333333333, 696), (0.28205128205128205, 790), (0.2784090909090909, 1301), (0.2777777777777778, 1894), (0.2777777777777778, 942), (0.2777777777777778, 87), (0.2777777777777778, 66), (0.2761904761904762, 1559), (0.27485380116959063, 836), (0.27472527472527475, 683), (0.2727272727272727, 331), (0.2706552706552707, 1514), (0.2692307692307692, 261), (0.26900584795321636, 446), (0.2676923076923077, 1226), (0.26666666666666666, 1446), (0.26666666666666666, 1173), (0.26666666666666666, 1084), (0.26666666666666666, 949), (0.26666666666666666, 912), (0.26666666666666666, 393), (0.26666666666666666, 217), (0.26666666666666666, 216), (0.26666666666666666, 144), (0.26136363636363635, 2059), (0.26021505376344084, 1053), (0.25833333333333336, 714), (0.2578947368421053, 248), (0.2573099415204678, 1734), (0.2545454545454545, 898), (0.2545454545454545, 480), (0.2524390243902439, 211), (0.2510822510822511, 124), (0.25, 1963), (0.25, 1823), (0.25, 1771), (0.25, 1354), (0.25, 1318), (0.25, 1103), (0.25, 1010), (0.25, 965), (0.25, 951), (0.25, 855), (0.25, 699), (0.25, 680), (0.25, 497), (0.25, 424), (0.25, 224), (0.25, 135), (0.25, 50), (0.2490118577075099, 1954), (0.2490118577075099, 1851), (0.2490118577075099, 1687), (0.24761904761904763, 1757), (0.24761904761904763, 430), (0.2460881934566145, 684), (0.24444444444444444, 2091), (0.24358974358974358, 1154), (0.2427536231884058, 542), (0.24242424242424243, 1447), (0.24242424242424243, 147), (0.24166666666666667, 1889), (0.23908045977011494, 1104), (0.23891625615763548, 873), (0.23891625615763548, 110), (0.23809523809523808, 1841), (0.23809523809523808, 1663), (0.23809523809523808, 1633), (0.23809523809523808, 1358), (0.23809523809523808, 781), (0.23809523809523808, 537), (0.23809523809523808, 447), (0.23809523809523808, 301), (0.23809523809523808, 291), (0.23809523809523808, 37), (0.23715415019762845, 130), (0.23636363636363636, 828), (0.23636363636363636, 617), (0.23636363636363636, 117), (0.23636363636363636, 53), (0.2358974358974359, 816), (0.23544973544973544, 278), (0.23076923076923078, 1525), (0.23076923076923078, 1521), (0.23076923076923078, 767), (0.2282051282051282, 415), (0.2276923076923077, 501), (0.22727272727272727, 1287), (0.22727272727272727, 558), (0.22631578947368422, 1979), (0.2246376811594203, 659), (0.22298850574712645, 327), (0.2222222222222222, 858), (0.2222222222222222, 706), (0.2222222222222222, 592), (0.2222222222222222, 507), (0.2222222222222222, 380), (0.2222222222222222, 226), (0.22105263157894736, 1917), (0.22103386809269163, 1653), (0.22103386809269163, 214), (0.21904761904761905, 596), (0.21818181818181817, 2023), (0.21818181818181817, 969), (0.21818181818181817, 328), (0.21818181818181817, 109), (0.21794871794871795, 543), (0.21794871794871795, 459), (0.21774193548387097, 757), (0.21727395411605938, 808), (0.21428571428571427, 1910), (0.21428571428571427, 1225), (0.21428571428571427, 875), (0.21428571428571427, 616), (0.21428571428571427, 493), (0.21428571428571427, 14), (0.2119487908961593, 486), (0.21171171171171171, 612), (0.20952380952380953, 473), (0.20952380952380953, 365), (0.2087912087912088, 955), (0.2087912087912088, 45), (0.2086021505376344, 910), (0.20766129032258066, 1820), (0.20707070707070707, 120), (0.2064516129032258, 1080), (0.20615384615384616, 1304), (0.20606060606060606, 732), (0.20557491289198607, 2087), (0.2053701015965167, 1027), (0.20512820512820512, 85), (0.20512820512820512, 80), (0.203778677462888, 690), (0.2037037037037037, 1725), (0.2022792022792023, 1532), (0.20056899004267426, 1628), (0.2, 2055), (0.2, 1941), (0.2, 1873), (0.2, 1799), (0.2, 1795), (0.2, 1788), (0.2, 1667), (0.2, 1588), (0.2, 1483), (0.2, 1481), (0.2, 1467), (0.2, 1388), (0.2, 1368), (0.2, 1307), (0.2, 1239), (0.2, 1177), (0.2, 1143), (0.2, 1114), (0.2, 1109), (0.2, 959), (0.2, 886), (0.2, 844), (0.2, 772), (0.2, 738), (0.2, 719), (0.2, 713), (0.2, 703), (0.2, 687), (0.2, 675), (0.2, 647), (0.2, 595), (0.2, 491), (0.2, 401), (0.2, 243), (0.2, 173), (0.2, 112), (0.2, 65), (0.2, 24), (0.2, 10), (0.2, 8), (0.1978021978021978, 1564), (0.19696969696969696, 1829), (0.19696969696969696, 1150), (0.19523809523809524, 1762), (0.19523809523809524, 1294), (0.19523809523809524, 428), (0.19444444444444445, 1541), (0.19444444444444445, 1522), (0.19444444444444445, 1128), (0.19444444444444445, 1107), (0.19444444444444445, 1067), (0.19444444444444445, 455), (0.19444444444444445, 354), (0.19444444444444445, 238), (0.19390243902439025, 1332), (0.19384615384615383, 425), (0.19367588932806323, 183), (0.1934566145092461, 231), (0.19333333333333333, 561), (0.19310344827586207, 674), (0.19230769230769232, 742), (0.19230769230769232, 2), (0.19117647058823528, 1753), (0.19047619047619047, 1691), (0.19047619047619047, 1353), (0.19047619047619047, 1131), (0.19047619047619047, 964), (0.19047619047619047, 255), (0.19047619047619047, 175), (0.19047619047619047, 33), (0.18972332015810275, 315), (0.1895424836601307, 1555), (0.1895424836601307, 62), (0.18922305764411027, 527), (0.18901960784313726, 499), (0.18776671408250356, 1189), (0.18717948717948718, 717), (0.1871345029239766, 985), (0.1871345029239766, 308), (0.18686868686868688, 1071), (0.18681318681318682, 409), (0.18585858585858586, 632), (0.18538324420677363, 1766), (0.18484848484848485, 340), (0.18472906403940886, 1572), (0.18408880666049954, 1813), (0.18351841028638224, 1263), (0.18333333333333332, 1722), (0.18333333333333332, 1466), (0.1830065359477124, 1174), (0.1830065359477124, 905), (0.18181818181818182, 1988), (0.18181818181818182, 1845), (0.18181818181818182, 1826), (0.18181818181818182, 1452), (0.18181818181818182, 1267), (0.18181818181818182, 702), (0.18181818181818182, 98), (0.1815126050420168, 638), (0.18128654970760233, 134), (0.18095238095238095, 1726), (0.18095238095238095, 1197), (0.18083670715249664, 1437), (0.1808080808080808, 572), (0.18030690537084398, 310), (0.17971014492753623, 1033), (0.1794871794871795, 1743), (0.17873303167420815, 1179), (0.17857142857142858, 1589), (0.17857142857142858, 1261), (0.17857142857142858, 972), (0.17857142857142858, 820), (0.17857142857142858, 752), (0.17857142857142858, 548), (0.17857142857142858, 476), (0.17857142857142858, 265), (0.17851959361393324, 1973), (0.17777777777777778, 1914), (0.17777777777777778, 1020), (0.17777777777777778, 779), (0.17753623188405798, 1959), (0.17724867724867724, 518), (0.17663817663817663, 1455), (0.17647058823529413, 1768), (0.17647058823529413, 1429), (0.17545271629778672, 911), (0.175, 2077), (0.175, 1035), (0.175, 353), (0.1748792270531401, 258), (0.17449139280125195, 1356), (0.1744186046511628, 1072), (0.17391304347826086, 417), (0.17338709677419356, 132), (0.1721194879089616, 1471), (0.17142857142857143, 22), (0.17, 1124), (0.16993464052287582, 233), (0.1696969696969697, 399), (0.1695906432748538, 871), (0.1695906432748538, 660), (0.16948051948051948, 534), (0.1693121693121693, 2004), (0.16927453769559034, 1135), (0.16911764705882354, 589), (0.169009009009009, 129), (0.16842105263157894, 2080), (0.16840882694541232, 253), (0.1678520625889047, 830), (0.1673469387755102, 1515), (0.16692268305171531, 852), (0.16666666666666666, 2076), (0.16666666666666666, 2048), (0.16666666666666666, 2027), (0.16666666666666666, 2019), (0.16666666666666666, 2008), (0.16666666666666666, 1998), (0.16666666666666666, 1923), (0.16666666666666666, 1897), (0.16666666666666666, 1833), (0.16666666666666666, 1797), (0.16666666666666666, 1794), (0.16666666666666666, 1721), (0.16666666666666666, 1615), (0.16666666666666666, 1594), (0.16666666666666666, 1590), (0.16666666666666666, 1583), (0.16666666666666666, 1578), (0.16666666666666666, 1551), (0.16666666666666666, 1547), (0.16666666666666666, 1463), (0.16666666666666666, 1432), (0.16666666666666666, 1399), (0.16666666666666666, 1335), (0.16666666666666666, 1334), (0.16666666666666666, 1303), (0.16666666666666666, 1288), (0.16666666666666666, 1234), (0.16666666666666666, 1232), (0.16666666666666666, 1166), (0.16666666666666666, 1158), (0.16666666666666666, 1044), (0.16666666666666666, 1042), (0.16666666666666666, 996), (0.16666666666666666, 870), (0.16666666666666666, 798), (0.16666666666666666, 707), (0.16666666666666666, 700), (0.16666666666666666, 673), (0.16666666666666666, 594), (0.16666666666666666, 552), (0.16666666666666666, 544), (0.16666666666666666, 465), (0.16666666666666666, 403), (0.16666666666666666, 394), (0.16666666666666666, 361), (0.16666666666666666, 351), (0.16666666666666666, 297), (0.16666666666666666, 290), (0.16666666666666666, 200), (0.16666666666666666, 159), (0.16666666666666666, 91), (0.16666666666666666, 77), (0.16666666666666666, 72), (0.16666666666666666, 71), (0.1661706349206349, 1453), (0.16551724137931034, 1255), (0.16502463054187191, 332), (0.16483516483516483, 924), (0.1645021645021645, 1702), (0.16440422322775264, 136), (0.1642512077294686, 79), (0.16374269005847952, 1528), (0.16374269005847952, 350), (0.16363636363636364, 1828), (0.16363636363636364, 1116), (0.16363636363636364, 541), (0.16363636363636364, 436), (0.16363636363636364, 312), (0.16363636363636364, 289), (0.16363636363636364, 223), (0.16304347826086957, 335), (0.1625615763546798, 1491), (0.16180235535074244, 859), (0.16176470588235295, 264), (0.16155157715260018, 1069), (0.16153846153846155, 571), (0.16134751773049646, 1606), (0.16040100250626566, 413), (0.16017316017316016, 1961), (0.15966386554621848, 1803), (0.15960163432073546, 1300), (0.15942028985507245, 1379), (0.1590909090909091, 1106), (0.15873015873015872, 1023), (0.158675799086758, 256), (0.15833333333333333, 850), (0.15824561403508772, 2037), (0.15810276679841898, 240), (0.15789473684210525, 1451), (0.15789473684210525, 1410), (0.15789473684210525, 1381), (0.1572112098427888, 58), (0.1571537290715373, 2018), (0.1568627450980392, 1056), (0.15668202764976957, 569), (0.15656565656565657, 1856), (0.15604909409701928, 271), (0.15593220338983052, 1445), (0.15555555555555556, 1880), (0.15555555555555556, 1728), (0.15555555555555556, 1454), (0.15555555555555556, 1160), (0.15555555555555556, 504), (0.15555555555555556, 489), (0.15517241379310345, 318), (0.15476190476190477, 646), (0.15450980392156863, 1017), (0.15447154471544716, 329), (0.15441176470588236, 125), (0.15384615384615385, 1769), (0.15384615384615385, 177), (0.1536231884057971, 302), (0.1533799533799534, 723), (0.15333333333333332, 1593), (0.1532670882264378, 1247), (0.15294117647058825, 133), (0.1523809523809524, 1489), (0.1523809523809524, 387), (0.15233785822021115, 227), (0.15217391304347827, 1517), (0.1521486643437863, 1898), (0.15207373271889402, 1659), (0.15191256830601094, 795), (0.15159574468085107, 490), (0.15151515151515152, 1266), (0.15151515151515152, 671), (0.15151515151515152, 460), (0.15144230769230768, 815), (0.15141242937853108, 636), (0.15079365079365079, 322), (0.15053763440860216, 966), (0.1503267973856209, 1057), (0.15021770682148042, 2020), (0.15020408163265306, 146), (0.15, 1533), (0.15, 254), (0.1495433789954338, 339), (0.14882882882882884, 1132), (0.14876543209876544, 236), (0.14814814814814814, 1742), (0.14736842105263157, 536), (0.1471861471861472, 1804), (0.14705882352941177, 1793), (0.14705882352941177, 1434), (0.14693446088794926, 437), (0.14603174603174604, 1476), (0.14567307692307693, 481), (0.1455026455026455, 1777), (0.14545454545454545, 1298), (0.14545454545454545, 658), (0.14530612244897959, 400), (0.14444444444444443, 1965), (0.14436805922792173, 884), (0.14404223227752638, 1164), (0.14404223227752638, 385), (0.1438118150227212, 232), (0.14333333333333334, 2038), (0.14285714285714285, 2001), (0.14285714285714285, 1950), (0.14285714285714285, 1948), (0.14285714285714285, 1909), (0.14285714285714285, 1817), (0.14285714285714285, 1697), (0.14285714285714285, 1678), (0.14285714285714285, 1652), (0.14285714285714285, 1539), (0.14285714285714285, 1475), (0.14285714285714285, 1427), (0.14285714285714285, 1413), (0.14285714285714285, 1382), (0.14285714285714285, 1365), (0.14285714285714285, 1299), (0.14285714285714285, 1296), (0.14285714285714285, 1254), (0.14285714285714285, 1191), (0.14285714285714285, 1148), (0.14285714285714285, 976), (0.14285714285714285, 881), (0.14285714285714285, 814), (0.14285714285714285, 782), (0.14285714285714285, 692), (0.14285714285714285, 669), (0.14285714285714285, 640), (0.14285714285714285, 584), (0.14285714285714285, 64), (0.14285714285714285, 44), (0.1427061310782241, 538), (0.14210526315789473, 1086), (0.14193548387096774, 917), (0.14166666666666666, 704), (0.14130434782608695, 2003), (0.14130434782608695, 229), (0.14112903225806453, 2006), (0.14112903225806453, 609), (0.1406423034330011, 531), (0.14039408866995073, 984), (0.14035087719298245, 1560), (0.14035087719298245, 946), (0.14021421616358326, 514), (0.1401801801801802, 1253), (0.13978494623655913, 1058), (0.13970588235294118, 1089), (0.13970588235294118, 30), (0.13963963963963963, 778), (0.1388888888888889, 2071), (0.1388888888888889, 1846), (0.1388888888888889, 1641), (0.1388888888888889, 1595), (0.1388888888888889, 1246), (0.1388888888888889, 975), (0.1388888888888889, 252), (0.1388888888888889, 21), (0.13853367433930094, 621), (0.1383399209486166, 47), (0.13802221047065044, 1001), (0.13737373737373737, 862), (0.13725490196078433, 688), (0.13725490196078433, 25), (0.1368421052631579, 1975), (0.1368421052631579, 1906), (0.13666666666666666, 804), (0.13636363636363635, 2031), (0.13636363636363635, 1666), (0.13636363636363635, 1600), (0.1359724612736661, 851), (0.13557692307692307, 1690), (0.13450292397660818, 890), (0.13450292397660818, 817), (0.13445378151260504, 1616), (0.13438735177865613, 1479), (0.13438735177865613, 454), (0.13425253991291727, 1780), (0.1341991341991342, 2054), (0.13367756741250716, 46), (0.13333333333333333, 1968), (0.13333333333333333, 1887), (0.13333333333333333, 1656), (0.13333333333333333, 1509), (0.13333333333333333, 1289), (0.13333333333333333, 1271), (0.13333333333333333, 1237), (0.13333333333333333, 1076), (0.13333333333333333, 1007), (0.13333333333333333, 907), (0.13333333333333333, 863), (0.13333333333333333, 842), (0.13333333333333333, 770), (0.13333333333333333, 751), (0.13333333333333333, 649), (0.13333333333333333, 645), (0.13333333333333333, 643), (0.13333333333333333, 566), (0.13333333333333333, 555), (0.13333333333333333, 549), (0.13333333333333333, 463), (0.13333333333333333, 362), (0.13333333333333333, 357), (0.13333333333333333, 63), (0.1323529411764706, 1462), (0.1323529411764706, 1233), (0.1323529411764706, 1161), (0.1323529411764706, 1011), (0.1323529411764706, 754), (0.1323529411764706, 686), (0.13208762886597938, 179), (0.13186813186813187, 410), (0.13176470588235295, 470), (0.13142857142857142, 503), (0.13114754098360656, 930), (0.13105413105413105, 498), (0.13076923076923078, 1198), (0.13071895424836602, 1511), (0.13071895424836602, 508), (0.12844702467343977, 414), (0.12834224598930483, 378), (0.1282051282051282, 1830), (0.1282051282051282, 1345), (0.1282051282051282, 800), (0.1282051282051282, 442), (0.12790697674418605, 207), (0.12727272727272726, 932), (0.12727272727272726, 453), (0.12727272727272726, 439), (0.12727272727272726, 170), (0.12727272727272726, 75), (0.1265597147950089, 1457), (0.12643678160919541, 1393), (0.12631578947368421, 1339), (0.12625770853618956, 730), (0.12624584717607973, 1567), (0.1261668172237278, 749), (0.12564102564102564, 12), (0.12561576354679804, 1272), (0.12554112554112554, 1423), (0.12535612535612536, 1882), (0.1253246753246753, 1308), (0.125, 709), (0.12477718360071301, 1034), (0.12473118279569892, 2021), (0.12436974789915967, 158), (0.12380952380952381, 1607), (0.12354124748490945, 1343), (0.12315270935960591, 157), (0.12299091544374563, 1184), (0.12280701754385964, 1394), (0.12280701754385964, 593), (0.1226890756302521, 581), (0.1223529411764706, 311), (0.12121212121212122, 1516), (0.12121212121212122, 1465), (0.12121212121212122, 1310), (0.12121212121212122, 121), (0.12100840336134454, 1002), (0.12087912087912088, 1929), (0.12087912087912088, 1183), (0.12087912087912088, 888), (0.12077294685990338, 847), (0.12010954616588419, 1145), (0.11954022988505747, 1682), (0.11931818181818182, 1278), (0.1185515873015873, 1773), (0.11764705882352941, 1473), (0.11764705882352941, 1433), (0.11734693877551021, 451), (0.11724137931034483, 1821), (0.1168091168091168, 642), (0.11666666666666667, 1136), (0.11666666666666667, 731), (0.11613924050632911, 691), (0.11594202898550725, 16), (0.11585365853658537, 145), (0.11538461538461539, 1649), (0.11538461538461539, 348), (0.11538461538461539, 230), (0.11538461538461539, 215), (0.11469979296066253, 355), (0.11462450592885376, 1125), (0.11428571428571428, 667), (0.11375661375661375, 1092), (0.11341463414634147, 49), (0.11231884057971014, 1636), (0.1111111111111111, 1971), (0.1111111111111111, 1635), (0.1111111111111111, 1584), (0.1111111111111111, 1527), (0.1111111111111111, 1214), (0.1111111111111111, 1155), (0.1111111111111111, 1021), (0.1111111111111111, 1004), (0.1111111111111111, 922), (0.1111111111111111, 861), (0.1111111111111111, 635), (0.1111111111111111, 337), (0.1111111111111111, 330), (0.1111111111111111, 225), (0.1111111111111111, 122), (0.1111111111111111, 18), (0.11086142322097378, 405), (0.11083743842364532, 1305), (0.11067193675889328, 1809), (0.11029411764705882, 431), (0.11029411764705882, 242), (0.11008704557091654, 162), (0.10989010989010989, 149), (0.10909090909090909, 1337), (0.10909090909090909, 1262), (0.10909090909090909, 1221), (0.10909090909090909, 550), (0.10907054871220605, 1503), (0.10841750841750841, 2061), (0.10833333333333334, 1274), (0.10833333333333334, 502), (0.10822510822510822, 1838), (0.10786516853932585, 1895), (0.1076923076923077, 1369), (0.1076923076923077, 43), (0.1072829131652661, 1568), (0.10714285714285714, 2041), (0.10714285714285714, 1719), (0.10714285714285714, 987), (0.10714285714285714, 725), (0.10714285714285714, 590), (0.10714285714285714, 56), (0.10641627543035993, 941), (0.10606060606060606, 1825), (0.10606060606060606, 390), (0.10541310541310542, 317), (0.10526315789473684, 1144), (0.10507246376811594, 906), (0.10507246376811594, 349), (0.10476190476190476, 1627), (0.10476190476190476, 101), (0.10463659147869674, 1283), (0.10276679841897234, 1704), (0.10256410256410256, 1865), (0.10256410256410256, 1752), (0.10256410256410256, 1665), (0.10256410256410256, 1419), (0.10241820768136557, 1535), (0.1010752688172043, 2016), (0.1009657594381036, 1213), (0.10083256244218317, 1761), (0.10030165912518854, 421), (0.10015649452269171, 1869), (0.1, 2058), (0.1, 1942), (0.1, 1859), (0.1, 1781), (0.1, 1688), (0.1, 1505), (0.1, 1428), (0.1, 1401), (0.1, 1291), (0.1, 1243), (0.1, 1211), (0.1, 1172), (0.1, 1079), (0.1, 1074), (0.1, 950), (0.1, 806), (0.1, 794), (0.1, 747), (0.1, 718), (0.1, 697), (0.1, 689), (0.1, 631), (0.1, 611), (0.1, 608), (0.1, 458), (0.1, 363), (0.1, 26), (0.1, 6), (0.09941520467836257, 2070), (0.09941520467836257, 1581), (0.09941520467836257, 758), (0.09941520467836257, 521), (0.0989010989010989, 1248), (0.0989010989010989, 760), (0.09846153846153846, 1554), (0.09803921568627451, 1792), (0.09803921568627451, 1605), (0.09783183500793231, 419), (0.09666666666666666, 1346), (0.09666666666666666, 383), (0.09666666666666666, 127), (0.09647058823529411, 1230), (0.09620253164556962, 1478), (0.09558823529411764, 494), (0.09558823529411764, 338), (0.09523809523809523, 2088), (0.09523809523809523, 1907), (0.09523809523809523, 1824), (0.09523809523809523, 1671), (0.09523809523809523, 1403), (0.09523809523809523, 1205), (0.09523809523809523, 1186), (0.09523809523809523, 1180), (0.09523809523809523, 904), (0.09523809523809523, 822), (0.09523809523809523, 763), (0.09523809523809523, 620), (0.09523809523809523, 268), (0.09523809523809523, 139), (0.09523809523809523, 17), (0.09420289855072464, 809), (0.09333333333333334, 877), (0.0928030303030303, 701), (0.09274193548387097, 280), (0.09259259259259259, 1167), (0.09247311827956989, 753), (0.09178743961352658, 1632), (0.09176788124156546, 1646), (0.09166666666666666, 1204), (0.09113300492610837, 11), (0.09090909090909091, 2069), (0.09090909090909091, 2053), (0.09090909090909091, 1808), (0.09090909090909091, 1715), (0.09090909090909091, 1364), (0.09090909090909091, 1362), (0.09090909090909091, 1357), (0.09090909090909091, 1222), (0.09090909090909091, 1120), (0.09090909090909091, 475), (0.09024390243902439, 1113), (0.08974358974358974, 1986), (0.08974358974358974, 1013), (0.08961593172119488, 743), (0.08953900709219859, 150), (0.08888888888888889, 1178), (0.08829113924050633, 2068), (0.08791208791208792, 1563), (0.08791208791208792, 582), (0.08714969241285031, 1102), (0.08712121212121213, 1642), (0.08695652173913043, 1171), (0.08666666666666667, 1075), (0.08666666666666667, 938), (0.08658008658008658, 1553), (0.08637873754152824, 761), (0.08571428571428572, 1530), (0.08333333333333333, 1920), (0.08333333333333333, 1469), (0.08333333333333333, 939), (0.08333333333333333, 203), (0.08225108225108226, 864), (0.08225108225108226, 759), (0.082010582010582, 2000), (0.08194905869324474, 247), (0.08187134502923976, 516), (0.08170731707317073, 1811), (0.0812807881773399, 343), (0.07894736842105263, 797), (0.0783744557329463, 1625), (0.07741935483870968, 128), (0.07692307692307693, 1741), (0.07692307692307693, 1097), (0.07692307692307693, 202), (0.07635467980295567, 1196), (0.0761904761904762, 909), (0.07585568917668825, 1879), (0.07575757575757576, 1748), (0.075, 2025), (0.0735930735930736, 1924), (0.07317073170731707, 1801), (0.07272727272727272, 2029), (0.07272727272727272, 1367), (0.07272727272727272, 420), (0.07272727272727272, 398), (0.07258064516129033, 726), (0.07254623044096728, 370), (0.07246376811594203, 899), (0.07227891156462585, 142), (0.07195121951219512, 1146), (0.0718954248366013, 346), (0.07142857142857142, 1911), (0.07142857142857142, 1782), (0.07142857142857142, 1495), (0.07142857142857142, 1418), (0.07142857142857142, 1156), (0.07142857142857142, 15), (0.07114624505928854, 1153), (0.07087719298245614, 545), (0.07056451612903226, 275), (0.07017543859649122, 1664), (0.07017543859649122, 307), (0.07, 1133), (0.06842105263157895, 1818), (0.06837606837606838, 57), (0.0677361853832442, 1054), (0.06666666666666667, 2032), (0.06666666666666667, 1993), (0.06666666666666667, 1908), (0.06666666666666667, 1903), (0.06666666666666667, 1730), (0.06666666666666667, 1577), (0.06666666666666667, 1573), (0.06666666666666667, 1508), (0.06666666666666667, 1440), (0.06666666666666667, 1277), (0.06666666666666667, 1088), (0.06666666666666667, 982), (0.06666666666666667, 921), (0.06666666666666667, 848), (0.06666666666666667, 721), (0.06666666666666667, 487), (0.06666666666666667, 471), (0.06666666666666667, 367), (0.06666666666666667, 161), (0.06666666666666667, 104), (0.06666666666666667, 95), (0.06628787878787878, 2036), (0.06612685560053981, 1709), (0.06593406593406594, 433), (0.06593406593406594, 152), (0.06451612903225806, 1380), (0.0641025641025641, 998), (0.0641025641025641, 303), (0.0641025641025641, 292), (0.06382978723404255, 59), (0.06324110671936758, 1905), (0.06236559139784946, 1706), (0.06218487394957983, 51), (0.06060606060606061, 1964), (0.06060606060606061, 1259), (0.06060606060606061, 637), (0.06060606060606061, 467), (0.058823529411764705, 1883), (0.058823529411764705, 925), (0.05855855855855856, 2042), (0.05714285714285714, 388), (0.05555555555555555, 682), (0.05555555555555555, 377), (0.05543859649122807, 1210), (0.05454545454545454, 933), (0.054203180785459264, 298), (0.05407925407925408, 143), (0.05263157894736842, 1556), (0.05228758169934641, 1275), (0.05228758169934641, 708), (0.050853548966756514, 831), (0.05057471264367816, 195), (0.05, 655), (0.049786628733997154, 212), (0.04924242424242424, 2039), (0.04862745098039216, 1249), (0.047619047619047616, 1679), (0.047619047619047616, 1552), (0.047619047619047616, 1540), (0.047619047619047616, 1490), (0.047619047619047616, 1229), (0.047619047619047616, 1137), (0.047619047619047616, 903), (0.047619047619047616, 722), (0.047619047619047616, 450), (0.047619047619047616, 321), (0.047619047619047616, 90), (0.047619047619047616, 5), (0.047435897435897434, 1832), (0.046992481203007516, 1662), (0.046103896103896105, 198), (0.0457516339869281, 1626), (0.0457516339869281, 986), (0.045454545454545456, 1749), (0.045454545454545456, 1450), (0.0453781512605042, 1956), (0.043478260869565216, 1603), (0.043478260869565216, 1342), (0.04285714285714286, 1614), (0.041666666666666664, 999), (0.041251778093883355, 1660), (0.04040404040404041, 1670), (0.038461538461538464, 1458), (0.038461538461538464, 889), (0.038461538461538464, 172), (0.03822055137844611, 1130), (0.0380952380952381, 1404), (0.0380952380952381, 193), (0.036853002070393374, 1597), (0.03676470588235294, 1805), (0.03666666666666667, 1562), (0.03636363636363636, 2033), (0.03636363636363636, 1138), (0.03571428571428571, 2056), (0.03571428571428571, 1783), (0.03571428571428571, 1634), (0.03571428571428571, 1480), (0.03571428571428571, 1425), (0.03571428571428571, 1372), (0.03571428571428571, 1170), (0.03571428571428571, 604), (0.03571428571428571, 285), (0.035096153846153846, 1488), (0.03386155129274395, 1281), (0.03333333333333333, 266), (0.03162055335968379, 2051), (0.03162055335968379, 1789), (0.03119015047879617, 1258), (0.030764848312206237, 1543), (0.029239766081871343, 1319), (0.02857142857142857, 812), (0.027777777777777776, 1290), (0.02620967741935484, 1087), (0.022222222222222223, 1094), (0.022222222222222223, 283), (0.021913580246913582, 78), (0.021739130434782608, 107), (0.01818181818181818, 1999), (0.01818181818181818, 1408), (0.01818181818181818, 678), (0.01818181818181818, 250), (0.017543859649122806, 1397), (0.015856236786469344, 1785), (0.015151515151515152, 1389), (0.015151515151515152, 1006), (0.011494252873563218, 1918), (0.007352941176470588, 1498), (0, 2096), (0, 2095), (0, 2094), (0, 2093), (0, 2092), (0, 2090), (0, 2086), (0, 2085), (0, 2084), (0, 2081), (0, 2079), (0, 2078), (0, 2067), (0, 2066), (0, 2065), (0, 2064), (0, 2057), (0, 2044), (0, 2043), (0, 2040), (0, 2035), (0, 2034), (0, 2022), (0, 2015), (0, 2013), (0, 2010), (0, 2009), (0, 2007), (0, 1997), (0, 1996), (0, 1995), (0, 1991), (0, 1990), (0, 1987), (0, 1984), (0, 1983), (0, 1982), (0, 1981), (0, 1980), (0, 1977), (0, 1972), (0, 1969), (0, 1966), (0, 1962), (0, 1957), (0, 1955), (0, 1952), (0, 1951), (0, 1949), (0, 1947), (0, 1946), (0, 1944), (0, 1938), (0, 1937), (0, 1936), (0, 1935), (0, 1931), (0, 1930), (0, 1928), (0, 1926), (0, 1922), (0, 1921), (0, 1915), (0, 1912), (0, 1904), (0, 1902), (0, 1899), (0, 1896), (0, 1893), (0, 1892), (0, 1890), (0, 1888), (0, 1885), (0, 1877), (0, 1875), (0, 1874), (0, 1867), (0, 1863), (0, 1861), (0, 1860), (0, 1858), (0, 1857), (0, 1855), (0, 1854), (0, 1852), (0, 1848), (0, 1847), (0, 1842), (0, 1839), (0, 1836), (0, 1834), (0, 1831), (0, 1822), (0, 1819), (0, 1816), (0, 1814), (0, 1806), (0, 1802), (0, 1796), (0, 1787), (0, 1786), (0, 1778), (0, 1772), (0, 1770), (0, 1765), (0, 1764), (0, 1760), (0, 1758), (0, 1755), (0, 1754), (0, 1747), (0, 1746), (0, 1745), (0, 1736), (0, 1733), (0, 1731), (0, 1729), (0, 1720), (0, 1718), (0, 1712), (0, 1710), (0, 1705), (0, 1703), (0, 1701), (0, 1700), (0, 1696), (0, 1695), (0, 1694), (0, 1693), (0, 1692), (0, 1689), (0, 1686), (0, 1685), (0, 1683), (0, 1680), (0, 1676), (0, 1675), (0, 1674), (0, 1672), (0, 1658), (0, 1657), (0, 1654), (0, 1647), (0, 1644), (0, 1643), (0, 1640), (0, 1637), (0, 1630), (0, 1629), (0, 1624), (0, 1623), (0, 1622), (0, 1620), (0, 1619), (0, 1604), (0, 1599), (0, 1596), (0, 1592), (0, 1587), (0, 1586), (0, 1580), (0, 1579), (0, 1576), (0, 1570), (0, 1566), (0, 1565), (0, 1549), (0, 1546), (0, 1545), (0, 1544), (0, 1536), (0, 1534), (0, 1531), (0, 1524), (0, 1520), (0, 1519), (0, 1518), (0, 1513), (0, 1507), (0, 1506), (0, 1500), (0, 1499), (0, 1497), (0, 1494), (0, 1493), (0, 1492), (0, 1484), (0, 1477), (0, 1474), (0, 1470), (0, 1461), (0, 1443), (0, 1441), (0, 1439), (0, 1438), (0, 1431), (0, 1422), (0, 1421), (0, 1416), (0, 1414), (0, 1407), (0, 1406), (0, 1395), (0, 1390), (0, 1387), (0, 1384), (0, 1383), (0, 1378), (0, 1377), (0, 1374), (0, 1373), (0, 1371), (0, 1363), (0, 1360), (0, 1355), (0, 1351), (0, 1350), (0, 1340), (0, 1336), (0, 1333), (0, 1331), (0, 1324), (0, 1323), (0, 1321), (0, 1316), (0, 1313), (0, 1295), (0, 1293), (0, 1292), (0, 1279), (0, 1276), (0, 1270), (0, 1265), (0, 1264), (0, 1256), (0, 1245), (0, 1242), (0, 1238), (0, 1236), (0, 1235), (0, 1228), (0, 1223), (0, 1220), (0, 1219), (0, 1217), (0, 1216), (0, 1215), (0, 1212), (0, 1207), (0, 1206), (0, 1200), (0, 1195), (0, 1194), (0, 1193), (0, 1192), (0, 1190), (0, 1187), (0, 1185), (0, 1181), (0, 1152), (0, 1151), (0, 1149), (0, 1147), (0, 1140), (0, 1139), (0, 1134), (0, 1126), (0, 1123), (0, 1121), (0, 1119), (0, 1111), (0, 1110), (0, 1093), (0, 1091), (0, 1085), (0, 1083), (0, 1082), (0, 1081), (0, 1078), (0, 1073), (0, 1070), (0, 1064), (0, 1063), (0, 1062), (0, 1060), (0, 1055), (0, 1052), (0, 1051), (0, 1050), (0, 1049), (0, 1047), (0, 1041), (0, 1040), (0, 1029), (0, 1028), (0, 1026), (0, 1022), (0, 1019), (0, 1016), (0, 1015), (0, 1012), (0, 1008), (0, 1003), (0, 997), (0, 990), (0, 989), (0, 981), (0, 980), (0, 979), (0, 978), (0, 977), (0, 968), (0, 967), (0, 962), (0, 961), (0, 960), (0, 958), (0, 957), (0, 952), (0, 948), (0, 943), (0, 931), (0, 929), (0, 927), (0, 920), (0, 916), (0, 913), (0, 908), (0, 897), (0, 896), (0, 893), (0, 891), (0, 887), (0, 869), (0, 868), (0, 856), (0, 854), (0, 853), (0, 849), (0, 846), (0, 843), (0, 841), (0, 840), (0, 834), (0, 832), (0, 829), (0, 824), (0, 821), (0, 818), (0, 813), (0, 801), (0, 792), (0, 787), (0, 786), (0, 785), (0, 784), (0, 780), (0, 771), (0, 769), (0, 765), (0, 764), (0, 756), (0, 744), (0, 741), (0, 739), (0, 737), (0, 735), (0, 734), (0, 733), (0, 729), (0, 728), (0, 720), (0, 716), (0, 712), (0, 711), (0, 710), (0, 705), (0, 698), (0, 693), (0, 677), (0, 676), (0, 672), (0, 664), (0, 663), (0, 662), (0, 661), (0, 657), (0, 654), (0, 652), (0, 644), (0, 639), (0, 633), (0, 628), (0, 625), (0, 622), (0, 619), (0, 615), (0, 614), (0, 613), (0, 602), (0, 598), (0, 587), (0, 585), (0, 583), (0, 579), (0, 574), (0, 573), (0, 567), (0, 565), (0, 562), (0, 560), (0, 559), (0, 557), (0, 556), (0, 551), (0, 547), (0, 535), (0, 533), (0, 530), (0, 529), (0, 525), (0, 523), (0, 519), (0, 513), (0, 512), (0, 511), (0, 510), (0, 509), (0, 495), (0, 492), (0, 488), (0, 484), (0, 482), (0, 469), (0, 468), (0, 466), (0, 464), (0, 462), (0, 461), (0, 457), (0, 456), (0, 443), (0, 432), (0, 427), (0, 416), (0, 408), (0, 406), (0, 404), (0, 395), (0, 392), (0, 382), (0, 369), (0, 368), (0, 364), (0, 360), (0, 358), (0, 356), (0, 347), (0, 344), (0, 342), (0, 341), (0, 336), (0, 334), (0, 324), (0, 320), (0, 319), (0, 316), (0, 314), (0, 313), (0, 299), (0, 296), (0, 295), (0, 294), (0, 293), (0, 284), (0, 282), (0, 281), (0, 279), (0, 273), (0, 269), (0, 262), (0, 251), (0, 249), (0, 244), (0, 241), (0, 237), (0, 235), (0, 234), (0, 220), (0, 219), (0, 213), (0, 204), (0, 201), (0, 194), (0, 190), (0, 189), (0, 184), (0, 180), (0, 178), (0, 176), (0, 174), (0, 171), (0, 168), (0, 166), (0, 164), (0, 156), (0, 155), (0, 154), (0, 153), (0, 151), (0, 148), (0, 137), (0, 123), (0, 119), (0, 118), (0, 113), (0, 106), (0, 103), (0, 100), (0, 97), (0, 92), (0, 89), (0, 88), (0, 86), (0, 84), (0, 82), (0, 81), (0, 74), (0, 69), (0, 61), (0, 60), (0, 55), (0, 52), (0, 42), (0, 41), (0, 38), (0, 36), (0, 35), (0, 34), (0, 29), (0, 28), (0, 23), (0, 20)]\n",
      "Average local clustering coefficient:  0.18654479547922218\n"
     ]
    },
    {
     "name": "stdout",
     "output_type": "stream",
     "text": [
      "Global clustering coefficient:  0.13375631759143525\n"
     ]
    }
   ],
   "source": [
    "# the communities \n",
    "print(G_friends)\n",
    "clust = nx.clustering(G_friends)\n",
    "print(\"CLUST\")\n",
    "print(clust.values())\n",
    "print(sorted(((v,k) for k,v in clust.items()), reverse=True))\n",
    "print(\"Average local clustering coefficient: \", np.mean(np.array(list(clust.values()))))\n",
    "print(\"Global clustering coefficient: \", nx.transitivity(G_friends))"
   ]
  },
  {
   "cell_type": "markdown",
   "metadata": {},
   "source": [
    "#### 6. Compute the similarity between users according to: \n",
    "    - Their common friends \n",
    "    - The artist(s) listened \n",
    "    - Music type \n",
    "    - (OPTIONAL) The artist(s) preferred by their friends \n",
    "    - (OPTIONAL) The type of music listened by their friends"
   ]
  },
  {
   "cell_type": "code",
   "execution_count": 123,
   "metadata": {},
   "outputs": [
    {
     "name": "stderr",
     "output_type": "stream",
     "text": [
      "IOPub data rate exceeded.\n",
      "The notebook server will temporarily stop sending output\n",
      "to the client in order to avoid crashing it.\n",
      "To change this limit, set the config variable\n",
      "`--NotebookApp.iopub_data_rate_limit`.\n",
      "\n",
      "Current values:\n",
      "NotebookApp.iopub_data_rate_limit=1000000.0 (bytes/sec)\n",
      "NotebookApp.rate_limit_window=3.0 (secs)\n",
      "\n"
     ]
    }
   ],
   "source": [
    "# compute jaccard similarity among all nodes\n",
    "pair_similarity=[]\n",
    "pairs = nx.jaccard_coefficient(G_friends)\n",
    "for u, v, p in pairs:\n",
    "    pair_similarity.append((u,v,p))\n",
    "\n",
    "print(pair_similarity)"
   ]
  },
  {
   "cell_type": "markdown",
   "metadata": {},
   "source": [
    "## Task4: Binary classifier for inferring users's artists interest.\n",
    "Build a binary classifier which is able to infer, given a tuple <user-artist>, if the user would be interested in the artist or not. In order to build the classifier consider a set of features (at least 10 features are expected) which characterize a tuple user-artist. Some examples of features are listed below, given a tuple of user U and artist A. \n",
    "- Feature 1: popularity of artist A. \n",
    "- Feature 2: popularity of the N clusters C(i), which artist A belongs to. \n",
    "- Feature 3: number of artists listened to by user U, belonging to the same clusters C(i) of artist A.\n",
    "- Feature 4: number of friends of user U, which listened to artist A. \n",
    "- Feature 5: boolean representing if artist A similarity to the user's most listened artists is lower than a certain distance threshold d .\n",
    "- Feature 6: the communities computed in Task 3."
   ]
  },
  {
   "cell_type": "markdown",
   "metadata": {},
   "source": [
    "Analysing datasets in way to see if are well formed and checking for null values"
   ]
  },
  {
   "cell_type": "code",
   "execution_count": null,
   "metadata": {},
   "outputs": [],
   "source": [
    "print(\"Missing values: \" + str(wineRed_df.isnull().sum()))\n"
   ]
  }
 ],
 "metadata": {
  "kernelspec": {
   "display_name": "Python 3",
   "language": "python",
   "name": "python3"
  },
  "language_info": {
   "codemirror_mode": {
    "name": "ipython",
    "version": 3
   },
   "file_extension": ".py",
   "mimetype": "text/x-python",
   "name": "python",
   "nbconvert_exporter": "python",
   "pygments_lexer": "ipython3",
   "version": "3.7.4"
  }
 },
 "nbformat": 4,
 "nbformat_minor": 2
}
